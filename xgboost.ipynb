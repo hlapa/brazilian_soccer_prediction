{
 "cells": [
  {
   "cell_type": "code",
   "execution_count": 1,
   "metadata": {},
   "outputs": [],
   "source": [
    "import pandas as pd\n",
    "import numpy as np\n",
    "from xgboost import XGBClassifier\n",
    "import seaborn as sns\n",
    "from sklearn.metrics import confusion_matrix\n",
    "from sklearn.metrics import accuracy_score\n",
    "import time"
   ]
  },
  {
   "cell_type": "code",
   "execution_count": 2,
   "metadata": {},
   "outputs": [],
   "source": [
    "df = pd.read_pickle('./data/soccerDBNew2.pkl')"
   ]
  },
  {
   "cell_type": "code",
   "execution_count": 3,
   "metadata": {},
   "outputs": [],
   "source": [
    "df['result'] = np.nan"
   ]
  },
  {
   "cell_type": "code",
   "execution_count": 4,
   "metadata": {},
   "outputs": [
    {
     "name": "stderr",
     "output_type": "stream",
     "text": [
      "/home/renan/anaconda3/lib/python3.7/site-packages/ipykernel_launcher.py:3: SettingWithCopyWarning: \n",
      "A value is trying to be set on a copy of a slice from a DataFrame\n",
      "\n",
      "See the caveats in the documentation: http://pandas.pydata.org/pandas-docs/stable/indexing.html#indexing-view-versus-copy\n",
      "  This is separate from the ipykernel package so we can avoid doing imports until\n",
      "/home/renan/anaconda3/lib/python3.7/site-packages/pandas/core/indexing.py:190: SettingWithCopyWarning: \n",
      "A value is trying to be set on a copy of a slice from a DataFrame\n",
      "\n",
      "See the caveats in the documentation: http://pandas.pydata.org/pandas-docs/stable/indexing.html#indexing-view-versus-copy\n",
      "  self._setitem_with_indexer(indexer, value)\n"
     ]
    }
   ],
   "source": [
    "for i in range(len(df)):\n",
    "    if df.home_team_score[i] > df.away_team_score[i]:\n",
    "        df['result'][i] = 'win'\n",
    "    elif df.home_team_score[i] == df.away_team_score[i]:\n",
    "        df['result'][i] = 'draw'\n",
    "    else:\n",
    "        df['result'][i] = 'lose'    "
   ]
  },
  {
   "cell_type": "code",
   "execution_count": 5,
   "metadata": {},
   "outputs": [],
   "source": [
    "def runModel(df, features):\n",
    "    t0 = time.time()    \n",
    "    data = df[['home_team', 'away_team', 'game', 'city', 'stadium']]\n",
    "    label = df['result']\n",
    "    data = pd.get_dummies(data)\n",
    "    X_train, X_test, y_train, y_test = data[0:2735], data[2735:], label[0:2735], label[2735:]\n",
    "    params = {\n",
    "        'max_depth': 10,\n",
    "        'objective': 'multi:softmax',  # error evaluation for multiclass training\n",
    "        'num_class': 3,\n",
    "        'n_gpus': 1\n",
    "    }\n",
    "    model = XGBClassifier(param=params)\n",
    "    model.fit(X_train, y_train)\n",
    "    pred = model.predict(X_test)\n",
    "    cm = confusion_matrix(y_test, pred)\n",
    "    print ('run time: ', time.time()-t0,'s')\n",
    "    print(\"Accuracy:\", accuracy_score(y_test, pred))\n",
    "    print (cm)"
   ]
  },
  {
   "cell_type": "code",
   "execution_count": 6,
   "metadata": {},
   "outputs": [],
   "source": [
    "features = ['home_team', 'away_team', 'game', 'city', 'stadium', 'referee', 'datetime']"
   ]
  },
  {
   "cell_type": "code",
   "execution_count": 7,
   "metadata": {},
   "outputs": [
    {
     "name": "stdout",
     "output_type": "stream",
     "text": [
      "run time:  2.978729486465454 s\n",
      "Accuracy: 0.47514619883040937\n",
      "[[  6   5 185]\n",
      " [  4   2 157]\n",
      " [  7   1 317]]\n"
     ]
    }
   ],
   "source": [
    "runModel(df,features)"
   ]
  },
  {
   "cell_type": "code",
   "execution_count": null,
   "metadata": {},
   "outputs": [],
   "source": []
  }
 ],
 "metadata": {
  "kernelspec": {
   "display_name": "Python 3",
   "language": "python",
   "name": "python3"
  },
  "language_info": {
   "codemirror_mode": {
    "name": "ipython",
    "version": 3
   },
   "file_extension": ".py",
   "mimetype": "text/x-python",
   "name": "python",
   "nbconvert_exporter": "python",
   "pygments_lexer": "ipython3",
   "version": "3.7.3"
  }
 },
 "nbformat": 4,
 "nbformat_minor": 2
}
