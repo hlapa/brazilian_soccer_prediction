{
 "cells": [
  {
   "cell_type": "code",
   "execution_count": 1,
   "metadata": {},
   "outputs": [],
   "source": [
    "import pandas as pd\n",
    "from tqdm import tqdm"
   ]
  },
  {
   "cell_type": "code",
   "execution_count": 3,
   "metadata": {},
   "outputs": [],
   "source": [
    "df_2013 = pd.read_csv('df_2013.csv')"
   ]
  },
  {
   "cell_type": "code",
   "execution_count": 4,
   "metadata": {},
   "outputs": [],
   "source": [
    "df_2014 = pd.read_csv('df_2014.csv')"
   ]
  },
  {
   "cell_type": "code",
   "execution_count": 5,
   "metadata": {},
   "outputs": [],
   "source": [
    "df_2015 = pd.read_csv('df_2015.csv')"
   ]
  },
  {
   "cell_type": "code",
   "execution_count": 6,
   "metadata": {},
   "outputs": [],
   "source": [
    "df_2016 = pd.read_csv('df_2016.csv')"
   ]
  },
  {
   "cell_type": "code",
   "execution_count": 7,
   "metadata": {},
   "outputs": [],
   "source": [
    "df_2017 = pd.read_csv('df_2017.csv')"
   ]
  },
  {
   "cell_type": "code",
   "execution_count": 8,
   "metadata": {},
   "outputs": [],
   "source": [
    "df_2018 = pd.read_csv('df_2018.csv')"
   ]
  },
  {
   "cell_type": "code",
   "execution_count": 9,
   "metadata": {},
   "outputs": [],
   "source": [
    "frames = [df_2013, df_2014, df_2015, df_2016, df_2017, df_2018]"
   ]
  },
  {
   "cell_type": "code",
   "execution_count": 10,
   "metadata": {},
   "outputs": [],
   "source": [
    "df = pd.concat(frames)"
   ]
  },
  {
   "cell_type": "code",
   "execution_count": 11,
   "metadata": {},
   "outputs": [
    {
     "data": {
      "text/plain": [
       "(2271, 135)"
      ]
     },
     "execution_count": 11,
     "metadata": {},
     "output_type": "execute_result"
    }
   ],
   "source": [
    "df.shape"
   ]
  },
  {
   "cell_type": "code",
   "execution_count": 12,
   "metadata": {},
   "outputs": [],
   "source": [
    "df2 = pd.read_csv('soccerDB4.csv')"
   ]
  },
  {
   "cell_type": "code",
   "execution_count": 13,
   "metadata": {},
   "outputs": [
    {
     "data": {
      "text/plain": [
       "(3411, 133)"
      ]
     },
     "execution_count": 13,
     "metadata": {},
     "output_type": "execute_result"
    }
   ],
   "source": [
    "df2.shape"
   ]
  },
  {
   "cell_type": "code",
   "execution_count": 14,
   "metadata": {},
   "outputs": [
    {
     "name": "stderr",
     "output_type": "stream",
     "text": [
      "100%|██████████| 31/31 [00:01<00:00, 22.80it/s]\n"
     ]
    }
   ],
   "source": [
    "teams_list = df.home_team.unique()\n",
    "prop = 0.1\n",
    "df['home_score_history'] = 0\n",
    "teams=[]\n",
    "for n in tqdm(teams_list):\n",
    "#     print('\\n',n)\n",
    "    mask = df.home_team == n\n",
    "    team_index = df[mask].index.values\n",
    "    cont = 1\n",
    "    c = 0\n",
    "    for m in team_index[1:]:\n",
    "#         print('m:',m)\n",
    "        last_score = df.iloc[team_index[cont-1]].home_team_score\n",
    "#         print('last_score:',last_score)\n",
    "        home_score_history = df.iloc[team_index[cont-1]].home_score_history\n",
    "#         print('home_score_history:',home_score_history)\n",
    "        new_hsc = last_score + home_score_history\n",
    "#         print('new_hsc:',new_hsc)\n",
    "        df.at[team_index[cont],'home_score_history'] = new_hsc\n",
    "        cont+=1"
   ]
  },
  {
   "cell_type": "code",
   "execution_count": 15,
   "metadata": {},
   "outputs": [
    {
     "name": "stderr",
     "output_type": "stream",
     "text": [
      "100%|██████████| 31/31 [00:01<00:00, 24.12it/s]\n"
     ]
    }
   ],
   "source": [
    "teams_list = df.home_team.unique()\n",
    "prop = 0.1\n",
    "df['conceded_score_history'] = 0\n",
    "teams=[]\n",
    "for n in tqdm(teams_list):\n",
    "#     print('\\n',n)\n",
    "    mask = df.home_team == n\n",
    "    team_index = df[mask].index.values\n",
    "    cont = 1\n",
    "    for m in team_index[1:]:\n",
    "#         print('m:',m)\n",
    "        last_score = df.iloc[team_index[cont-1]].away_team_score\n",
    "#         print('last_score:',last_score)\n",
    "        conceded_score_history = df.iloc[team_index[cont-1]].conceded_score_history\n",
    "#         print('conceded_score_history:',conceded_score_history)\n",
    "        new_csc = last_score + conceded_score_history\n",
    "#         print('new_csc:',new_csc)\n",
    "        df.at[team_index[cont],'conceded_score_history'] = new_csc\n",
    "        cont+=1"
   ]
  },
  {
   "cell_type": "code",
   "execution_count": 16,
   "metadata": {},
   "outputs": [],
   "source": [
    "df['conceded_score_history'] = 0"
   ]
  },
  {
   "cell_type": "code",
   "execution_count": 17,
   "metadata": {},
   "outputs": [
    {
     "data": {
      "text/plain": [
       "0"
      ]
     },
     "execution_count": 17,
     "metadata": {},
     "output_type": "execute_result"
    }
   ],
   "source": [
    "df.iloc[65].conceded_score_history"
   ]
  },
  {
   "cell_type": "code",
   "execution_count": 18,
   "metadata": {},
   "outputs": [
    {
     "data": {
      "text/plain": [
       "array([ 14,  25,  48,  67,  87, 105, 119, 147, 167, 168, 207, 220, 240,\n",
       "       268, 288, 309, 324, 359, 376])"
      ]
     },
     "execution_count": 18,
     "metadata": {},
     "output_type": "execute_result"
    }
   ],
   "source": [
    "team_index"
   ]
  },
  {
   "cell_type": "code",
   "execution_count": 19,
   "metadata": {},
   "outputs": [
    {
     "data": {
      "text/plain": [
       "0    2271\n",
       "Name: conceded_score_history, dtype: int64"
      ]
     },
     "execution_count": 19,
     "metadata": {},
     "output_type": "execute_result"
    }
   ],
   "source": [
    "df.conceded_score_history.value_counts()"
   ]
  },
  {
   "cell_type": "code",
   "execution_count": 20,
   "metadata": {},
   "outputs": [
    {
     "data": {
      "text/html": [
       "<div>\n",
       "<style scoped>\n",
       "    .dataframe tbody tr th:only-of-type {\n",
       "        vertical-align: middle;\n",
       "    }\n",
       "\n",
       "    .dataframe tbody tr th {\n",
       "        vertical-align: top;\n",
       "    }\n",
       "\n",
       "    .dataframe thead th {\n",
       "        text-align: right;\n",
       "    }\n",
       "</style>\n",
       "<table border=\"1\" class=\"dataframe\">\n",
       "  <thead>\n",
       "    <tr style=\"text-align: right;\">\n",
       "      <th></th>\n",
       "      <th>home_team</th>\n",
       "      <th>home_team_score</th>\n",
       "      <th>away_team_score</th>\n",
       "      <th>home_score_history</th>\n",
       "      <th>conceded_score_history</th>\n",
       "    </tr>\n",
       "  </thead>\n",
       "  <tbody>\n",
       "    <tr>\n",
       "      <th>14</th>\n",
       "      <td>Bahia</td>\n",
       "      <td>0</td>\n",
       "      <td>0</td>\n",
       "      <td>417</td>\n",
       "      <td>0</td>\n",
       "    </tr>\n",
       "    <tr>\n",
       "      <th>25</th>\n",
       "      <td>Atlético MG</td>\n",
       "      <td>0</td>\n",
       "      <td>0</td>\n",
       "      <td>417</td>\n",
       "      <td>0</td>\n",
       "    </tr>\n",
       "    <tr>\n",
       "      <th>48</th>\n",
       "      <td>Portuguesa</td>\n",
       "      <td>2</td>\n",
       "      <td>1</td>\n",
       "      <td>417</td>\n",
       "      <td>0</td>\n",
       "    </tr>\n",
       "    <tr>\n",
       "      <th>67</th>\n",
       "      <td>Vitória</td>\n",
       "      <td>3</td>\n",
       "      <td>2</td>\n",
       "      <td>419</td>\n",
       "      <td>0</td>\n",
       "    </tr>\n",
       "    <tr>\n",
       "      <th>87</th>\n",
       "      <td>Cruzeiro</td>\n",
       "      <td>4</td>\n",
       "      <td>1</td>\n",
       "      <td>422</td>\n",
       "      <td>0</td>\n",
       "    </tr>\n",
       "    <tr>\n",
       "      <th>105</th>\n",
       "      <td>Vasco</td>\n",
       "      <td>2</td>\n",
       "      <td>3</td>\n",
       "      <td>426</td>\n",
       "      <td>0</td>\n",
       "    </tr>\n",
       "    <tr>\n",
       "      <th>119</th>\n",
       "      <td>Cruzeiro</td>\n",
       "      <td>0</td>\n",
       "      <td>0</td>\n",
       "      <td>428</td>\n",
       "      <td>0</td>\n",
       "    </tr>\n",
       "    <tr>\n",
       "      <th>147</th>\n",
       "      <td>Santos</td>\n",
       "      <td>2</td>\n",
       "      <td>0</td>\n",
       "      <td>428</td>\n",
       "      <td>0</td>\n",
       "    </tr>\n",
       "    <tr>\n",
       "      <th>167</th>\n",
       "      <td>Náutico</td>\n",
       "      <td>0</td>\n",
       "      <td>1</td>\n",
       "      <td>430</td>\n",
       "      <td>0</td>\n",
       "    </tr>\n",
       "    <tr>\n",
       "      <th>168</th>\n",
       "      <td>Atlético PR</td>\n",
       "      <td>2</td>\n",
       "      <td>1</td>\n",
       "      <td>430</td>\n",
       "      <td>0</td>\n",
       "    </tr>\n",
       "    <tr>\n",
       "      <th>207</th>\n",
       "      <td>Vitória</td>\n",
       "      <td>2</td>\n",
       "      <td>1</td>\n",
       "      <td>432</td>\n",
       "      <td>0</td>\n",
       "    </tr>\n",
       "    <tr>\n",
       "      <th>220</th>\n",
       "      <td>Corinthians</td>\n",
       "      <td>0</td>\n",
       "      <td>0</td>\n",
       "      <td>434</td>\n",
       "      <td>0</td>\n",
       "    </tr>\n",
       "    <tr>\n",
       "      <th>240</th>\n",
       "      <td>Ponte Preta</td>\n",
       "      <td>1</td>\n",
       "      <td>2</td>\n",
       "      <td>434</td>\n",
       "      <td>0</td>\n",
       "    </tr>\n",
       "    <tr>\n",
       "      <th>268</th>\n",
       "      <td>Portuguesa</td>\n",
       "      <td>1</td>\n",
       "      <td>2</td>\n",
       "      <td>435</td>\n",
       "      <td>0</td>\n",
       "    </tr>\n",
       "    <tr>\n",
       "      <th>288</th>\n",
       "      <td>Vasco</td>\n",
       "      <td>0</td>\n",
       "      <td>2</td>\n",
       "      <td>436</td>\n",
       "      <td>0</td>\n",
       "    </tr>\n",
       "    <tr>\n",
       "      <th>309</th>\n",
       "      <td>Coritiba</td>\n",
       "      <td>4</td>\n",
       "      <td>0</td>\n",
       "      <td>436</td>\n",
       "      <td>0</td>\n",
       "    </tr>\n",
       "    <tr>\n",
       "      <th>324</th>\n",
       "      <td>Atlético PR</td>\n",
       "      <td>3</td>\n",
       "      <td>0</td>\n",
       "      <td>440</td>\n",
       "      <td>0</td>\n",
       "    </tr>\n",
       "    <tr>\n",
       "      <th>359</th>\n",
       "      <td>São Paulo</td>\n",
       "      <td>1</td>\n",
       "      <td>1</td>\n",
       "      <td>443</td>\n",
       "      <td>0</td>\n",
       "    </tr>\n",
       "    <tr>\n",
       "      <th>376</th>\n",
       "      <td>Internacional</td>\n",
       "      <td>0</td>\n",
       "      <td>0</td>\n",
       "      <td>444</td>\n",
       "      <td>0</td>\n",
       "    </tr>\n",
       "  </tbody>\n",
       "</table>\n",
       "</div>"
      ],
      "text/plain": [
       "         home_team  home_team_score  away_team_score  home_score_history  \\\n",
       "14           Bahia                0                0                 417   \n",
       "25     Atlético MG                0                0                 417   \n",
       "48      Portuguesa                2                1                 417   \n",
       "67         Vitória                3                2                 419   \n",
       "87        Cruzeiro                4                1                 422   \n",
       "105          Vasco                2                3                 426   \n",
       "119       Cruzeiro                0                0                 428   \n",
       "147         Santos                2                0                 428   \n",
       "167        Náutico                0                1                 430   \n",
       "168    Atlético PR                2                1                 430   \n",
       "207        Vitória                2                1                 432   \n",
       "220    Corinthians                0                0                 434   \n",
       "240    Ponte Preta                1                2                 434   \n",
       "268     Portuguesa                1                2                 435   \n",
       "288          Vasco                0                2                 436   \n",
       "309       Coritiba                4                0                 436   \n",
       "324    Atlético PR                3                0                 440   \n",
       "359      São Paulo                1                1                 443   \n",
       "376  Internacional                0                0                 444   \n",
       "\n",
       "     conceded_score_history  \n",
       "14                        0  \n",
       "25                        0  \n",
       "48                        0  \n",
       "67                        0  \n",
       "87                        0  \n",
       "105                       0  \n",
       "119                       0  \n",
       "147                       0  \n",
       "167                       0  \n",
       "168                       0  \n",
       "207                       0  \n",
       "220                       0  \n",
       "240                       0  \n",
       "268                       0  \n",
       "288                       0  \n",
       "309                       0  \n",
       "324                       0  \n",
       "359                       0  \n",
       "376                       0  "
      ]
     },
     "execution_count": 20,
     "metadata": {},
     "output_type": "execute_result"
    }
   ],
   "source": [
    "df.iloc[team_index][['home_team', 'home_team_score', 'away_team_score', 'home_score_history', 'conceded_score_history']]"
   ]
  },
  {
   "cell_type": "code",
   "execution_count": 21,
   "metadata": {},
   "outputs": [],
   "source": [
    "df.to_csv('soccerDB5.csv')"
   ]
  }
 ],
 "metadata": {
  "kernelspec": {
   "display_name": "Python 3",
   "language": "python",
   "name": "python3"
  },
  "language_info": {
   "codemirror_mode": {
    "name": "ipython",
    "version": 3
   },
   "file_extension": ".py",
   "mimetype": "text/x-python",
   "name": "python",
   "nbconvert_exporter": "python",
   "pygments_lexer": "ipython3",
   "version": "3.7.3"
  }
 },
 "nbformat": 4,
 "nbformat_minor": 2
}
