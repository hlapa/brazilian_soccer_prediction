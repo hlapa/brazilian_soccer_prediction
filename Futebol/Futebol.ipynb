{
 "cells": [
  {
   "cell_type": "markdown",
   "metadata": {},
   "source": [
    "# Data"
   ]
  },
  {
   "cell_type": "code",
   "execution_count": null,
   "metadata": {},
   "outputs": [],
   "source": [
    "#parsed_content.find_all('td',{'class':'darker tipsy-active nowrap'})[0].get(\"original-title\")"
   ]
  },
  {
   "cell_type": "markdown",
   "metadata": {},
   "source": [
    "# Resultado"
   ]
  },
  {
   "cell_type": "code",
   "execution_count": null,
   "metadata": {},
   "outputs": [],
   "source": [
    "#parsed_content.find_all('td',{'class':'darker'})[0].text.strip()"
   ]
  },
  {
   "cell_type": "markdown",
   "metadata": {},
   "source": [
    "# Times"
   ]
  },
  {
   "cell_type": "code",
   "execution_count": null,
   "metadata": {},
   "outputs": [],
   "source": [
    "#tabela=parsed_content.tbody"
   ]
  },
  {
   "cell_type": "code",
   "execution_count": null,
   "metadata": {},
   "outputs": [],
   "source": [
    "#tabela2=parsed_content2.tbody"
   ]
  },
  {
   "cell_type": "code",
   "execution_count": null,
   "metadata": {},
   "outputs": [],
   "source": [
    "#tabela.find('td',{'class':'darker tipsy-active nowrap'})"
   ]
  },
  {
   "cell_type": "code",
   "execution_count": null,
   "metadata": {},
   "outputs": [],
   "source": [
    "#tabela.find_all('a',{'class':''})[0].text"
   ]
  },
  {
   "cell_type": "markdown",
   "metadata": {},
   "source": [
    "# ID partida"
   ]
  },
  {
   "cell_type": "code",
   "execution_count": null,
   "metadata": {},
   "outputs": [],
   "source": [
    "#tamanho=len(tabela.find_all('span',{'class':'icon-aa aa-icon-player active'}))"
   ]
  },
  {
   "cell_type": "code",
   "execution_count": null,
   "metadata": {},
   "outputs": [],
   "source": [
    "#ids=[]\n",
    "#links=[]\n",
    "#contador=0\n",
    "#for n in :\n",
    "#    rg_partida=tabela.find_all('tr',id)[1].get(\"id\")\n",
    "#    ids.append(rg_partida)\n",
    "#    link=tabela.find_all('span',{'class':'icon-aa aa-icon-player active'})[contador].find_parent().get(\"href\")\n",
    "#    links.append(link)\n",
    "#    contador+=1    "
   ]
  },
  {
   "cell_type": "markdown",
   "metadata": {},
   "source": [
    "# Automation"
   ]
  },
  {
   "cell_type": "code",
   "execution_count": null,
   "metadata": {},
   "outputs": [],
   "source": [
    "# Imports bibliotecas plus configuração webdriver\n",
    "from bs4 import BeautifulSoup\n",
    "from requests import get\n",
    "from selenium import webdriver\n",
    "import time\n",
    "import pandas as pd\n",
    "import pickle\n",
    "import warnings\n",
    "warnings.filterwarnings(\"error\")\n",
    "options = webdriver.ChromeOptions()\n",
    "options.add_argument(\"--headless\")"
   ]
  },
  {
   "cell_type": "code",
   "execution_count": null,
   "metadata": {},
   "outputs": [],
   "source": [
    "ano=2017"
   ]
  },
  {
   "cell_type": "code",
   "execution_count": null,
   "metadata": {},
   "outputs": [],
   "source": [
    "def url_ano(ano):\n",
    "    if ano == 2017:\n",
    "        temp='13464/all-games'\n",
    "        temp2='13464/all-games/page/2'\n",
    "    elif ano== 2018:\n",
    "        temp= '15366/all-games'\n",
    "        temp2='15366/all-games/page/2'\n",
    "    elif ano==2016:\n",
    "        temp='12284/all-games'\n",
    "        temp2='12284/all-games/page/2'\n",
    "    elif ano==2015:\n",
    "        temp='11185/all-games'\n",
    "        temp2='11185/all-games/page/2'\n",
    "    elif ano==2014:\n",
    "        temp='9097/all-games'\n",
    "        temp2='9097/all-games/page/2'\n",
    "    elif ano==2013:\n",
    "        temp='7971/all-games'\n",
    "        temp2='7971/all-games/page/2'\n",
    "    elif ano==2012:\n",
    "        temp='6826/all-games'\n",
    "        temp2='6826/all-games/page/2'\n",
    "    elif ano==2011:\n",
    "        temp='5830/all-games'\n",
    "        temp2='5830/all-games/page/2'\n",
    "    elif ano==2010:\n",
    "        temp='4996/all-games'\n",
    "        temp2='4996/all-games/page/2'\n",
    "    elif ano==2009:\n",
    "        temp='3220/all-games'\n",
    "        temp2='3220/all-games/page/2'\n",
    "    elif ano==2008:\n",
    "        temp='2598/all-games'\n",
    "        temp2='2598/all-games/page/2'\n",
    "    elif ano==2007:\n",
    "        temp='1965/all-games'\n",
    "        temp2='1965/all-games/page/2'\n",
    "        \n",
    "    return temp, temp2"
   ]
  },
  {
   "cell_type": "code",
   "execution_count": null,
   "metadata": {},
   "outputs": [],
   "source": [
    "url_page_1,url_page_2=url_ano(ano)"
   ]
  },
  {
   "cell_type": "code",
   "execution_count": null,
   "metadata": {},
   "outputs": [],
   "source": [
    "url='https://www.academiadasapostasbrasil.com/stats/competition/brasil-stats/26/'"
   ]
  },
  {
   "cell_type": "code",
   "execution_count": null,
   "metadata": {},
   "outputs": [],
   "source": [
    "url=url+url_page_1"
   ]
  },
  {
   "cell_type": "code",
   "execution_count": null,
   "metadata": {},
   "outputs": [],
   "source": [
    "url2='https://www.academiadasapostasbrasil.com/stats/competition/brasil-stats/26/'"
   ]
  },
  {
   "cell_type": "code",
   "execution_count": null,
   "metadata": {},
   "outputs": [],
   "source": [
    "url2=url2+url_page_2"
   ]
  },
  {
   "cell_type": "code",
   "execution_count": null,
   "metadata": {},
   "outputs": [],
   "source": [
    "driver= webdriver.Chrome(r'C:\\Users\\herme\\Downloads\\chromedriver_win32\\chromedriver.exe',options=options)\n",
    "driver2= webdriver.Chrome(r'C:\\Users\\herme\\Downloads\\chromedriver_win32\\chromedriver.exe',options=options)"
   ]
  },
  {
   "cell_type": "code",
   "execution_count": null,
   "metadata": {},
   "outputs": [],
   "source": [
    "driver.get(url)\n",
    "driver2.get(url2)"
   ]
  },
  {
   "cell_type": "code",
   "execution_count": null,
   "metadata": {},
   "outputs": [],
   "source": [
    "time.sleep(5)\n",
    "page_source=driver.page_source"
   ]
  },
  {
   "cell_type": "code",
   "execution_count": null,
   "metadata": {},
   "outputs": [],
   "source": [
    "time.sleep(5)\n",
    "page_source2=driver2.page_source"
   ]
  },
  {
   "cell_type": "code",
   "execution_count": null,
   "metadata": {},
   "outputs": [],
   "source": [
    "parsed_content = BeautifulSoup(page_source, 'html.parser')\n",
    "parsed_content2=BeautifulSoup(page_source2, 'html.parser')"
   ]
  },
  {
   "cell_type": "code",
   "execution_count": null,
   "metadata": {},
   "outputs": [],
   "source": [
    "tabela=parsed_content.tbody\n",
    "tabela2=parsed_content2.tbody"
   ]
  },
  {
   "cell_type": "code",
   "execution_count": null,
   "metadata": {},
   "outputs": [],
   "source": [
    "tamanho=len(tabela.find_all('span',{'class':'icon-aa aa-icon-player active'}))\n",
    "tamanho2=len(tabela2.find_all('span',{'class':'icon-aa aa-icon-player active'}))"
   ]
  },
  {
   "cell_type": "code",
   "execution_count": null,
   "metadata": {},
   "outputs": [],
   "source": [
    "resultados=[]\n",
    "datas=[]\n",
    "contador=0\n",
    "for n in range(tamanho):\n",
    "    resultado=tabela.find_all('td',{'class':'darker'})[contador].text.strip()\n",
    "    resultados.append(resultado)\n",
    "    data=tabela.find_all('td',{'class':'darker tipsy-active nowrap'})[contador].get(\"original-title\")\n",
    "    datas.append(data)\n",
    "    contador+=1"
   ]
  },
  {
   "cell_type": "code",
   "execution_count": null,
   "metadata": {},
   "outputs": [],
   "source": [
    "time_casa=[]\n",
    "time_visitante=[]\n",
    "contador=0\n",
    "flag=0\n",
    "for n in range(tamanho*2):\n",
    "    if flag % 2 == 0:\n",
    "            time_a=tabela.find_all('a',{'class':''})[contador].text\n",
    "            time_casa.append(time_a)\n",
    "    else:\n",
    "            time_b=tabela.find_all('a',{'class':''})[contador].text\n",
    "            time_visitante.append(time_b)\n",
    "    \n",
    "    contador+=2\n",
    "    flag+=1"
   ]
  },
  {
   "cell_type": "code",
   "execution_count": null,
   "metadata": {},
   "outputs": [],
   "source": [
    "contador=0\n",
    "for n in range(tamanho2):\n",
    "    resultado=tabela2.find_all('td',{'class':'darker'})[contador].text.strip()\n",
    "    resultados.append(resultado)\n",
    "    data=tabela2.find_all('td',{'class':'darker tipsy-active nowrap'})[contador].get(\"original-title\")\n",
    "    datas.append(data)\n",
    "    contador+=1"
   ]
  },
  {
   "cell_type": "code",
   "execution_count": null,
   "metadata": {},
   "outputs": [],
   "source": [
    "contador=0\n",
    "flag=0\n",
    "for n in range(tamanho2*2):\n",
    "    if flag % 2 == 0:\n",
    "            time_a=tabela2.find_all('a',{'class':''})[contador].text\n",
    "            time_casa.append(time_a)\n",
    "    else:\n",
    "            time_b=tabela2.find_all('a',{'class':''})[contador].text\n",
    "            time_visitante.append(time_b)\n",
    "    contador+=2\n",
    "    flag+=1"
   ]
  },
  {
   "cell_type": "code",
   "execution_count": null,
   "metadata": {},
   "outputs": [],
   "source": [
    "ids=[]\n",
    "links=[]\n",
    "contador=0\n",
    "for n in range(tamanho):\n",
    "    rg_partida=tabela.find_all('tr',id)[1].get(\"id\")\n",
    "    ids.append(rg_partida)\n",
    "    link=tabela.find_all('span',{'class':'icon-aa aa-icon-player active'})[contador].find_parent().get(\"href\")\n",
    "    links.append(link)\n",
    "    contador+=1    "
   ]
  },
  {
   "cell_type": "code",
   "execution_count": null,
   "metadata": {},
   "outputs": [],
   "source": [
    "contador=0\n",
    "for n in range(tamanho2):\n",
    "    rg_partida=tabela2.find_all('tr',id)[1].get(\"id\")\n",
    "    ids.append(rg_partida)\n",
    "    link=tabela2.find_all('span',{'class':'icon-aa aa-icon-player active'})[contador].find_parent().get(\"href\")\n",
    "    links.append(link)\n",
    "    contador+=1  "
   ]
  },
  {
   "cell_type": "code",
   "execution_count": null,
   "metadata": {},
   "outputs": [],
   "source": [
    "df=pd.DataFrame({'data':datas,\n",
    "                 'time_casa':time_casa,\n",
    "                 'time_visitante':time_visitante,\n",
    "                 'resultado':resultados,\n",
    "                 'id_partida':ids,\n",
    "                 'link':links})"
   ]
  },
  {
   "cell_type": "code",
   "execution_count": null,
   "metadata": {},
   "outputs": [],
   "source": [
    "len(datas)"
   ]
  },
  {
   "cell_type": "code",
   "execution_count": null,
   "metadata": {},
   "outputs": [],
   "source": [
    "len(time_casa)"
   ]
  },
  {
   "cell_type": "code",
   "execution_count": null,
   "metadata": {},
   "outputs": [],
   "source": [
    "len(time_visitante)"
   ]
  },
  {
   "cell_type": "code",
   "execution_count": null,
   "metadata": {},
   "outputs": [],
   "source": [
    "len(resultados)"
   ]
  },
  {
   "cell_type": "code",
   "execution_count": null,
   "metadata": {},
   "outputs": [],
   "source": [
    "len(ids)"
   ]
  },
  {
   "cell_type": "code",
   "execution_count": null,
   "metadata": {},
   "outputs": [],
   "source": [
    "len(links)"
   ]
  },
  {
   "cell_type": "code",
   "execution_count": null,
   "metadata": {},
   "outputs": [],
   "source": [
    "df.head()"
   ]
  },
  {
   "cell_type": "code",
   "execution_count": null,
   "metadata": {},
   "outputs": [],
   "source": [
    "df.tail()"
   ]
  },
  {
   "cell_type": "code",
   "execution_count": null,
   "metadata": {},
   "outputs": [],
   "source": [
    "#df.to_pickle(r'data\\jogos'+str(ano)+'.pkl')"
   ]
  },
  {
   "cell_type": "code",
   "execution_count": null,
   "metadata": {},
   "outputs": [],
   "source": [
    "#df2017=pd.read_pickle('data\\jogos2017.pkl')"
   ]
  },
  {
   "cell_type": "code",
   "execution_count": null,
   "metadata": {},
   "outputs": [],
   "source": []
  },
  {
   "cell_type": "code",
   "execution_count": null,
   "metadata": {},
   "outputs": [],
   "source": []
  }
 ],
 "metadata": {
  "kernelspec": {
   "display_name": "Python 3",
   "language": "python",
   "name": "python3"
  },
  "language_info": {
   "codemirror_mode": {
    "name": "ipython",
    "version": 3
   },
   "file_extension": ".py",
   "mimetype": "text/x-python",
   "name": "python",
   "nbconvert_exporter": "python",
   "pygments_lexer": "ipython3",
   "version": "3.7.3"
  }
 },
 "nbformat": 4,
 "nbformat_minor": 2
}
