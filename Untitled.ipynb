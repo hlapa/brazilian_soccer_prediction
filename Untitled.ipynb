{
 "cells": [
  {
   "cell_type": "code",
   "execution_count": 1,
   "metadata": {},
   "outputs": [],
   "source": [
    "import pandas as pd"
   ]
  },
  {
   "cell_type": "code",
   "execution_count": 2,
   "metadata": {},
   "outputs": [],
   "source": [
    "df_game=pd.read_csv('data/soccerDBNew2.csv')"
   ]
  },
  {
   "cell_type": "code",
   "execution_count": 3,
   "metadata": {},
   "outputs": [],
   "source": [
    "df_game=df_game.drop('Unnamed: 0',axis=1)"
   ]
  },
  {
   "cell_type": "code",
   "execution_count": 23,
   "metadata": {},
   "outputs": [
    {
     "data": {
      "text/html": [
       "<div>\n",
       "<style scoped>\n",
       "    .dataframe tbody tr th:only-of-type {\n",
       "        vertical-align: middle;\n",
       "    }\n",
       "\n",
       "    .dataframe tbody tr th {\n",
       "        vertical-align: top;\n",
       "    }\n",
       "\n",
       "    .dataframe thead th {\n",
       "        text-align: right;\n",
       "    }\n",
       "</style>\n",
       "<table border=\"1\" class=\"dataframe\">\n",
       "  <thead>\n",
       "    <tr style=\"text-align: right;\">\n",
       "      <th></th>\n",
       "      <th>home_team</th>\n",
       "      <th>away_team</th>\n",
       "      <th>home_team_score</th>\n",
       "      <th>away_team_score</th>\n",
       "      <th>referee</th>\n",
       "      <th>stadium</th>\n",
       "      <th>city</th>\n",
       "      <th>datetime</th>\n",
       "      <th>game</th>\n",
       "      <th>eventList1st</th>\n",
       "      <th>eventList2nd</th>\n",
       "      <th>lineupList</th>\n",
       "      <th>sublineupList</th>\n",
       "      <th>statsHome</th>\n",
       "      <th>statsAway</th>\n",
       "    </tr>\n",
       "  </thead>\n",
       "  <tbody>\n",
       "    <tr>\n",
       "      <th>3414</th>\n",
       "      <td>Fluminense</td>\n",
       "      <td>América</td>\n",
       "      <td>1</td>\n",
       "      <td>0</td>\n",
       "      <td>Rafael Traci</td>\n",
       "      <td>Estadio Jornalista Mário Filho (Maracanã)</td>\n",
       "      <td>Rio de Janeiro, Rio de Janeiro</td>\n",
       "      <td>02 dezembro 2018 - 17:00</td>\n",
       "      <td>8</td>\n",
       "      <td>[{'time': \"27'\", 'kind': 'Penalty save', 'home...</td>\n",
       "      <td>[{'time': \"59'\", 'kind': 'Yellow card', 'homet...</td>\n",
       "      <td>([('person-8933', 'Júlio César'), ('person-421...</td>\n",
       "      <td>([('person-78768', 'Rodolfo'), ('person-284729...</td>\n",
       "      <td>{'possession': '43%', 'goals': '1', 'shots_on_...</td>\n",
       "      <td>{'possession': '57%', 'goals': '0', 'shots_on_...</td>\n",
       "    </tr>\n",
       "    <tr>\n",
       "      <th>3415</th>\n",
       "      <td>Ceará</td>\n",
       "      <td>Vasco</td>\n",
       "      <td>0</td>\n",
       "      <td>0</td>\n",
       "      <td>Raphael Claus</td>\n",
       "      <td>Estádio Governador Plácido Aderaldo Castelo</td>\n",
       "      <td>Fortaleza, Ceará</td>\n",
       "      <td>02 dezembro 2018 - 17:00</td>\n",
       "      <td>8</td>\n",
       "      <td>[{'time': \"11'\", 'kind': 'Yellow card', 'homet...</td>\n",
       "      <td>[{'time': \"46'\", 'kind': 'Substitute in', 'hom...</td>\n",
       "      <td>([('person-112043', 'Everson'), ('person-28237...</td>\n",
       "      <td>([('person-71915', 'Diogo Silva'), ('person-91...</td>\n",
       "      <td>{'possession': '49%', 'shots_on_target': '3', ...</td>\n",
       "      <td>{'possession': '51%', 'shots_on_target': '1', ...</td>\n",
       "    </tr>\n",
       "    <tr>\n",
       "      <th>3416</th>\n",
       "      <td>Palmeiras</td>\n",
       "      <td>Vitória</td>\n",
       "      <td>3</td>\n",
       "      <td>2</td>\n",
       "      <td>Heber Lopes</td>\n",
       "      <td>Allianz Parque</td>\n",
       "      <td>São Paulo, São Paulo</td>\n",
       "      <td>02 dezembro 2018 - 17:00</td>\n",
       "      <td>8</td>\n",
       "      <td>[{'time': \"28'\", 'kind': 'Yellow card', 'homet...</td>\n",
       "      <td>[{'time': \"46'\", 'kind': 'Substitute in', 'hom...</td>\n",
       "      <td>([('person-32538', 'Weverton'), ('person-23360...</td>\n",
       "      <td>([('person-16938', 'Fernando Prass'), ('person...</td>\n",
       "      <td>{'possession': '54%', 'goals': '3', 'shots_on_...</td>\n",
       "      <td>{'possession': '46%', 'goals': '2', 'shots_on_...</td>\n",
       "    </tr>\n",
       "    <tr>\n",
       "      <th>3417</th>\n",
       "      <td>Sport</td>\n",
       "      <td>Santos</td>\n",
       "      <td>2</td>\n",
       "      <td>1</td>\n",
       "      <td>Anderson Daronco</td>\n",
       "      <td>Estádio Adelmar da Costa Carvalho</td>\n",
       "      <td>Recife, Pernambuco</td>\n",
       "      <td>02 dezembro 2018 - 17:00</td>\n",
       "      <td>8</td>\n",
       "      <td>[{'time': \"22'\", 'kind': 'Substitute in', 'hom...</td>\n",
       "      <td>[{'time': \"46'\", 'kind': 'Substitute in', 'hom...</td>\n",
       "      <td>([('person-473605', 'Mailson'), ('person-9156'...</td>\n",
       "      <td>([('person-414951', 'Lucas'), ('person-99990',...</td>\n",
       "      <td>{'possession': '49%', 'goals': '2', 'shots_on_...</td>\n",
       "      <td>{'possession': '51%', 'goals': '1', 'shots_on_...</td>\n",
       "    </tr>\n",
       "    <tr>\n",
       "      <th>3418</th>\n",
       "      <td>Grêmio</td>\n",
       "      <td>Corinthians</td>\n",
       "      <td>1</td>\n",
       "      <td>0</td>\n",
       "      <td>Ricardo Marques</td>\n",
       "      <td>Arena do Grêmio</td>\n",
       "      <td>Porto Alegre, Rio Grande do Sul</td>\n",
       "      <td>02 dezembro 2018 - 17:00</td>\n",
       "      <td>8</td>\n",
       "      <td>[{'time': \"12'\", 'kind': 'Goal', 'hometeam': T...</td>\n",
       "      <td>[{'time': \"62'\", 'kind': 'Yellow card', 'homet...</td>\n",
       "      <td>([('person-64355', 'Paulo Victor'), ('person-9...</td>\n",
       "      <td>([('person-68943', 'Bruno Grassi'), ('person-2...</td>\n",
       "      <td>{'possession': '53%', 'goals': '1', 'shots_on_...</td>\n",
       "      <td>{'possession': '47%', 'goals': '0', 'shots_on_...</td>\n",
       "    </tr>\n",
       "  </tbody>\n",
       "</table>\n",
       "</div>"
      ],
      "text/plain": [
       "       home_team    away_team  home_team_score  away_team_score  \\\n",
       "3414  Fluminense      América                1                0   \n",
       "3415       Ceará        Vasco                0                0   \n",
       "3416   Palmeiras      Vitória                3                2   \n",
       "3417       Sport       Santos                2                1   \n",
       "3418      Grêmio  Corinthians                1                0   \n",
       "\n",
       "               referee                                      stadium  \\\n",
       "3414      Rafael Traci    Estadio Jornalista Mário Filho (Maracanã)   \n",
       "3415     Raphael Claus  Estádio Governador Plácido Aderaldo Castelo   \n",
       "3416       Heber Lopes                               Allianz Parque   \n",
       "3417  Anderson Daronco            Estádio Adelmar da Costa Carvalho   \n",
       "3418   Ricardo Marques                              Arena do Grêmio   \n",
       "\n",
       "                                 city                  datetime game  \\\n",
       "3414   Rio de Janeiro, Rio de Janeiro  02 dezembro 2018 - 17:00    8   \n",
       "3415                 Fortaleza, Ceará  02 dezembro 2018 - 17:00    8   \n",
       "3416             São Paulo, São Paulo  02 dezembro 2018 - 17:00    8   \n",
       "3417               Recife, Pernambuco  02 dezembro 2018 - 17:00    8   \n",
       "3418  Porto Alegre, Rio Grande do Sul  02 dezembro 2018 - 17:00    8   \n",
       "\n",
       "                                           eventList1st  \\\n",
       "3414  [{'time': \"27'\", 'kind': 'Penalty save', 'home...   \n",
       "3415  [{'time': \"11'\", 'kind': 'Yellow card', 'homet...   \n",
       "3416  [{'time': \"28'\", 'kind': 'Yellow card', 'homet...   \n",
       "3417  [{'time': \"22'\", 'kind': 'Substitute in', 'hom...   \n",
       "3418  [{'time': \"12'\", 'kind': 'Goal', 'hometeam': T...   \n",
       "\n",
       "                                           eventList2nd  \\\n",
       "3414  [{'time': \"59'\", 'kind': 'Yellow card', 'homet...   \n",
       "3415  [{'time': \"46'\", 'kind': 'Substitute in', 'hom...   \n",
       "3416  [{'time': \"46'\", 'kind': 'Substitute in', 'hom...   \n",
       "3417  [{'time': \"46'\", 'kind': 'Substitute in', 'hom...   \n",
       "3418  [{'time': \"62'\", 'kind': 'Yellow card', 'homet...   \n",
       "\n",
       "                                             lineupList  \\\n",
       "3414  ([('person-8933', 'Júlio César'), ('person-421...   \n",
       "3415  ([('person-112043', 'Everson'), ('person-28237...   \n",
       "3416  ([('person-32538', 'Weverton'), ('person-23360...   \n",
       "3417  ([('person-473605', 'Mailson'), ('person-9156'...   \n",
       "3418  ([('person-64355', 'Paulo Victor'), ('person-9...   \n",
       "\n",
       "                                          sublineupList  \\\n",
       "3414  ([('person-78768', 'Rodolfo'), ('person-284729...   \n",
       "3415  ([('person-71915', 'Diogo Silva'), ('person-91...   \n",
       "3416  ([('person-16938', 'Fernando Prass'), ('person...   \n",
       "3417  ([('person-414951', 'Lucas'), ('person-99990',...   \n",
       "3418  ([('person-68943', 'Bruno Grassi'), ('person-2...   \n",
       "\n",
       "                                              statsHome  \\\n",
       "3414  {'possession': '43%', 'goals': '1', 'shots_on_...   \n",
       "3415  {'possession': '49%', 'shots_on_target': '3', ...   \n",
       "3416  {'possession': '54%', 'goals': '3', 'shots_on_...   \n",
       "3417  {'possession': '49%', 'goals': '2', 'shots_on_...   \n",
       "3418  {'possession': '53%', 'goals': '1', 'shots_on_...   \n",
       "\n",
       "                                              statsAway  \n",
       "3414  {'possession': '57%', 'goals': '0', 'shots_on_...  \n",
       "3415  {'possession': '51%', 'shots_on_target': '1', ...  \n",
       "3416  {'possession': '46%', 'goals': '2', 'shots_on_...  \n",
       "3417  {'possession': '51%', 'goals': '1', 'shots_on_...  \n",
       "3418  {'possession': '47%', 'goals': '0', 'shots_on_...  "
      ]
     },
     "execution_count": 23,
     "metadata": {},
     "output_type": "execute_result"
    }
   ],
   "source": [
    "df_game.tail()"
   ]
  },
  {
   "cell_type": "markdown",
   "metadata": {},
   "source": [
    "# Maping the stadiums"
   ]
  },
  {
   "cell_type": "code",
   "execution_count": 7,
   "metadata": {},
   "outputs": [],
   "source": [
    "estadio = df_game.stadium.unique()\n",
    "len(estadio)\n",
    "estadio_map = {}\n",
    "i = 0\n",
    "for estadio in estadio:\n",
    "    i+=1\n",
    "    estadio_map[estadio] = i"
   ]
  },
  {
   "cell_type": "code",
   "execution_count": null,
   "metadata": {},
   "outputs": [],
   "source": [
    "#estadio_map"
   ]
  },
  {
   "cell_type": "markdown",
   "metadata": {},
   "source": [
    "# Maping referee"
   ]
  },
  {
   "cell_type": "code",
   "execution_count": 9,
   "metadata": {},
   "outputs": [],
   "source": [
    "juiz = df_game.referee.unique()\n",
    "len(juiz)\n",
    "juiz_map = {}\n",
    "i = 0\n",
    "for juiz in juiz:\n",
    "    i+=1\n",
    "    juiz_map[juiz] = i"
   ]
  },
  {
   "cell_type": "code",
   "execution_count": 17,
   "metadata": {},
   "outputs": [],
   "source": [
    "#juiz_map"
   ]
  },
  {
   "cell_type": "markdown",
   "metadata": {},
   "source": [
    "# Maping city"
   ]
  },
  {
   "cell_type": "code",
   "execution_count": 19,
   "metadata": {},
   "outputs": [],
   "source": [
    "cidade = df_game.city.unique()\n",
    "len(cidade)\n",
    "cidade_map = {}\n",
    "i = 0\n",
    "for cidade in cidade:\n",
    "    i+=1\n",
    "    cidade_map[cidade] = i"
   ]
  },
  {
   "cell_type": "code",
   "execution_count": 21,
   "metadata": {},
   "outputs": [],
   "source": [
    "#cidade_map"
   ]
  },
  {
   "cell_type": "code",
   "execution_count": 30,
   "metadata": {},
   "outputs": [],
   "source": [
    "temp=df_game.eventList1st[0]"
   ]
  },
  {
   "cell_type": "code",
   "execution_count": 43,
   "metadata": {},
   "outputs": [
    {
     "data": {
      "text/plain": [
       "'[{\\'time\\': \"4\\'\", \\'kind\\': \\'Penalty goal\\', \\'hometeam\\': False, \\'player\\': \\'Kléber\\'}, {\\'time\\': \"7\\'\", \\'kind\\': \\'Goal\\', \\'hometeam\\': True, \\'player\\': \\'Taison\\'}, {\\'time\\': \"12\\'\", \\'kind\\': \\'Yellow card\\', \\'hometeam\\': False, \\'player\\': \\'Wellington Paulista\\'}, {\\'time\\': \"28\\'\", \\'kind\\': \\'Yellow card\\', \\'hometeam\\': True, \\'player\\': \\'Glaydson\\'}, {\\'time\\': \"36\\'\", \\'kind\\': \\'Goal\\', \\'hometeam\\': False, \\'player\\': \\'Kléber\\'}, {\\'time\\': \"38\\'\", \\'kind\\': \\'Yellow card\\', \\'hometeam\\': False, \\'player\\': \\'Pedro Ken\\'}, {\\'time\\': \"41\\'\", \\'kind\\': \\'Yellow card\\', \\'hometeam\\': False, \\'player\\': \\'Kléber\\'}, {\\'time\\': \"45\\'\", \\'kind\\': \\'Substitute in\\', \\'hometeam\\': True, \\'playerIn\\': \\'Wilson Tiago\\', \\'playerOut\\': \\'Ronaldo Conceição\\'}]'"
      ]
     },
     "execution_count": 43,
     "metadata": {},
     "output_type": "execute_result"
    }
   ],
   "source": [
    "temp"
   ]
  },
  {
   "cell_type": "code",
   "execution_count": null,
   "metadata": {},
   "outputs": [],
   "source": []
  }
 ],
 "metadata": {
  "kernelspec": {
   "display_name": "Python 3",
   "language": "python",
   "name": "python3"
  },
  "language_info": {
   "codemirror_mode": {
    "name": "ipython",
    "version": 3
   },
   "file_extension": ".py",
   "mimetype": "text/x-python",
   "name": "python",
   "nbconvert_exporter": "python",
   "pygments_lexer": "ipython3",
   "version": "3.7.3"
  }
 },
 "nbformat": 4,
 "nbformat_minor": 2
}
