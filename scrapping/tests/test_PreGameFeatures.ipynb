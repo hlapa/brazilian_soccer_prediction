{
 "cells": [
  {
   "cell_type": "code",
   "execution_count": 1,
   "metadata": {
    "ExecuteTime": {
     "end_time": "2019-06-18T06:34:01.232868Z",
     "start_time": "2019-06-18T06:34:01.018966Z"
    }
   },
   "outputs": [],
   "source": [
    "import pandas as pd\n",
    "from PreGameFeatures import PreGameFeatures\n",
    "import warnings\n",
    "warnings.filterwarnings(action='ignore')\n",
    "import time"
   ]
  },
  {
   "cell_type": "code",
   "execution_count": 2,
   "metadata": {},
   "outputs": [],
   "source": [
    "df=pd.read_csv('gamesDB.csv')"
   ]
  },
  {
   "cell_type": "code",
   "execution_count": 3,
   "metadata": {},
   "outputs": [],
   "source": [
    "links=df.link"
   ]
  },
  {
   "cell_type": "code",
   "execution_count": 4,
   "metadata": {},
   "outputs": [],
   "source": [
    "sfx='prelive'"
   ]
  },
  {
   "cell_type": "code",
   "execution_count": 13,
   "metadata": {},
   "outputs": [
    {
     "name": "stdout",
     "output_type": "stream",
     "text": [
      "1\n",
      "2\n",
      "3\n",
      "4\n",
      "5\n",
      "6\n",
      "7\n",
      "8\n",
      "9\n",
      "10\n",
      "11\n",
      "12\n",
      "13\n",
      "14\n",
      "15\n"
     ]
    }
   ],
   "source": [
    "pre_game=[]\n",
    "contador=0\n",
    "for n in range(15):\n",
    "    pre_game=PreGameFeatures(links[contador][:-4]+sfx)\n",
    "    contador+=1\n",
    "    time.sleep(5)\n",
    "    print(contador)"
   ]
  },
  {
   "cell_type": "code",
   "execution_count": null,
   "metadata": {},
   "outputs": [],
   "source": [
    "test='https://www.academiadasapostasbrasil.com/stats/match/brasil-stats/brasileirao-serie-a/parana-clube/internacional/2729608/1/prelive'"
   ]
  },
  {
   "cell_type": "code",
   "execution_count": 18,
   "metadata": {},
   "outputs": [
    {
     "data": {
      "text/plain": [
       "{'current_wins_home': '-',\n",
       " 'current_wins_away': '1',\n",
       " 'current_wins_global': '1',\n",
       " 'current_draws_home': '-',\n",
       " 'current_draws_away': '-',\n",
       " 'current_draws_global': '-',\n",
       " 'current_loss_home': '-',\n",
       " 'current_loss_away': '-',\n",
       " 'current_loss_global': '-',\n",
       " 'games_without_win_home': '-',\n",
       " 'games_without_win_away': '-',\n",
       " 'games_without_win_global': '-',\n",
       " 'games_without_draw_home': '-',\n",
       " 'games_without_draw_away': '1',\n",
       " 'games_without_draw_global': '1',\n",
       " 'games_without_lose_home': '-',\n",
       " 'games_without_lose_away': '1',\n",
       " 'games_without_lose_global': '1'}"
      ]
     },
     "execution_count": 18,
     "metadata": {},
     "output_type": "execute_result"
    }
   ],
   "source": [
    "pre_game.build()[0]"
   ]
  },
  {
   "cell_type": "code",
   "execution_count": null,
   "metadata": {
    "ExecuteTime": {
     "end_time": "2019-06-18T06:34:04.826555Z",
     "start_time": "2019-06-18T06:34:02.482577Z"
    }
   },
   "outputs": [],
   "source": [
    "pre_game = PreGameFeatures(pregame_url)"
   ]
  },
  {
   "cell_type": "code",
   "execution_count": null,
   "metadata": {
    "ExecuteTime": {
     "end_time": "2019-06-18T06:34:06.334879Z",
     "start_time": "2019-06-18T06:34:06.276903Z"
    }
   },
   "outputs": [],
   "source": [
    "pre_game.build()"
   ]
  },
  {
   "cell_type": "code",
   "execution_count": null,
   "metadata": {},
   "outputs": [],
   "source": [
    "#home_team, away_team, home_team_score, away_team_score, referee, stadium, city, datetime, game"
   ]
  },
  {
   "cell_type": "code",
   "execution_count": null,
   "metadata": {},
   "outputs": [],
   "source": [
    "#eventList1st"
   ]
  },
  {
   "cell_type": "code",
   "execution_count": null,
   "metadata": {
    "ExecuteTime": {
     "end_time": "2019-06-18T03:21:00.688067Z",
     "start_time": "2019-06-18T03:21:00.685705Z"
    }
   },
   "outputs": [],
   "source": [
    "#eventList2nd"
   ]
  },
  {
   "cell_type": "code",
   "execution_count": null,
   "metadata": {
    "ExecuteTime": {
     "end_time": "2019-06-18T03:20:27.582823Z",
     "start_time": "2019-06-18T03:20:27.579192Z"
    }
   },
   "outputs": [],
   "source": [
    "##lineupList"
   ]
  },
  {
   "cell_type": "code",
   "execution_count": null,
   "metadata": {
    "ExecuteTime": {
     "end_time": "2019-06-18T03:21:06.956528Z",
     "start_time": "2019-06-18T03:21:06.953849Z"
    }
   },
   "outputs": [],
   "source": [
    "#statsHome"
   ]
  },
  {
   "cell_type": "code",
   "execution_count": null,
   "metadata": {
    "ExecuteTime": {
     "end_time": "2019-06-18T03:21:10.645656Z",
     "start_time": "2019-06-18T03:21:10.643282Z"
    }
   },
   "outputs": [],
   "source": [
    "#statsAway"
   ]
  }
 ],
 "metadata": {
  "kernelspec": {
   "display_name": "Python 3",
   "language": "python",
   "name": "python3"
  },
  "language_info": {
   "codemirror_mode": {
    "name": "ipython",
    "version": 3
   },
   "file_extension": ".py",
   "mimetype": "text/x-python",
   "name": "python",
   "nbconvert_exporter": "python",
   "pygments_lexer": "ipython3",
   "version": "3.7.3"
  }
 },
 "nbformat": 4,
 "nbformat_minor": 2
}
