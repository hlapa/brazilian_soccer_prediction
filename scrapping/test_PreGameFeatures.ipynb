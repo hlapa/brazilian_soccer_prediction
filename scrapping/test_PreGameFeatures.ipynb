{
 "cells": [
  {
   "cell_type": "code",
   "execution_count": 1,
   "metadata": {
    "ExecuteTime": {
     "end_time": "2019-06-18T06:34:01.232868Z",
     "start_time": "2019-06-18T06:34:01.018966Z"
    }
   },
   "outputs": [],
   "source": [
    "from PreGameFeatures import PreGameFeatures"
   ]
  },
  {
   "cell_type": "code",
   "execution_count": 2,
   "metadata": {
    "ExecuteTime": {
     "end_time": "2019-06-18T06:34:01.778560Z",
     "start_time": "2019-06-18T06:34:01.775642Z"
    }
   },
   "outputs": [],
   "source": [
    "pregame_url = 'https://www.academiadasapostasbrasil.com/stats/match/brasil-stats/brasileirao-serie-a/vasco/internacional/2988991/1/prelive'"
   ]
  },
  {
   "cell_type": "code",
   "execution_count": 3,
   "metadata": {
    "ExecuteTime": {
     "end_time": "2019-06-18T06:34:04.826555Z",
     "start_time": "2019-06-18T06:34:02.482577Z"
    }
   },
   "outputs": [
    {
     "name": "stderr",
     "output_type": "stream",
     "text": [
      "/Users/silvio/.pyenv/versions/anaconda3-5.2.0/lib/python3.6/site-packages/urllib3/connectionpool.py:847: InsecureRequestWarning: Unverified HTTPS request is being made. Adding certificate verification is strongly advised. See: https://urllib3.readthedocs.io/en/latest/advanced-usage.html#ssl-warnings\n",
      "  InsecureRequestWarning)\n"
     ]
    }
   ],
   "source": [
    "pre_game = PreGameFeatures(pregame_url)"
   ]
  },
  {
   "cell_type": "code",
   "execution_count": 5,
   "metadata": {
    "ExecuteTime": {
     "end_time": "2019-06-20T01:09:03.219650Z",
     "start_time": "2019-06-20T01:09:02.978359Z"
    }
   },
   "outputs": [
    {
     "name": "stdout",
     "output_type": "stream",
     "text": [
      "HHHOME TEAM:\n",
      "Current_wins :-, -, -\n",
      "Current_draws :2, -, -\n",
      "Current_loss :-, 1, 1\n",
      "Games_without_win : 3, 4, 7\n",
      "Games_without_draw :-, 1, 1\n",
      "Games_without_lose :2, -, -\n",
      "\n",
      " AWAY TEAM:\n",
      "Current_wins :4, -, 1\n",
      "Current_draws :-, 1, -\n",
      "Current_loss :-, -, -\n",
      "Games_without_win : -, 3, -\n",
      "Games_without_draw :4, -, 1\n",
      "Games_without_lose :4, 1, 4\n"
     ]
    }
   ],
   "source": [
    "pre_game.build()"
   ]
  },
  {
   "cell_type": "code",
   "execution_count": null,
   "metadata": {},
   "outputs": [],
   "source": [
    "#home_team, away_team, home_team_score, away_team_score, referee, stadium, city, datetime, game"
   ]
  },
  {
   "cell_type": "code",
   "execution_count": null,
   "metadata": {},
   "outputs": [],
   "source": [
    "#eventList1st"
   ]
  },
  {
   "cell_type": "code",
   "execution_count": null,
   "metadata": {
    "ExecuteTime": {
     "end_time": "2019-06-18T03:21:00.688067Z",
     "start_time": "2019-06-18T03:21:00.685705Z"
    }
   },
   "outputs": [],
   "source": [
    "#eventList2nd"
   ]
  },
  {
   "cell_type": "code",
   "execution_count": null,
   "metadata": {
    "ExecuteTime": {
     "end_time": "2019-06-18T03:20:27.582823Z",
     "start_time": "2019-06-18T03:20:27.579192Z"
    }
   },
   "outputs": [],
   "source": [
    "##lineupList"
   ]
  },
  {
   "cell_type": "code",
   "execution_count": null,
   "metadata": {
    "ExecuteTime": {
     "end_time": "2019-06-18T03:21:06.956528Z",
     "start_time": "2019-06-18T03:21:06.953849Z"
    }
   },
   "outputs": [],
   "source": [
    "#statsHome"
   ]
  },
  {
   "cell_type": "code",
   "execution_count": null,
   "metadata": {
    "ExecuteTime": {
     "end_time": "2019-06-18T03:21:10.645656Z",
     "start_time": "2019-06-18T03:21:10.643282Z"
    }
   },
   "outputs": [],
   "source": [
    "#statsAway"
   ]
  },
  {
   "cell_type": "code",
   "execution_count": null,
   "metadata": {},
   "outputs": [],
   "source": []
  }
 ],
 "metadata": {
  "kernelspec": {
   "display_name": "base",
   "language": "python",
   "name": "base"
  },
  "language_info": {
   "codemirror_mode": {
    "name": "ipython",
    "version": 3
   },
   "file_extension": ".py",
   "mimetype": "text/x-python",
   "name": "python",
   "nbconvert_exporter": "python",
   "pygments_lexer": "ipython3",
   "version": "3.6.8"
  }
 },
 "nbformat": 4,
 "nbformat_minor": 2
}
