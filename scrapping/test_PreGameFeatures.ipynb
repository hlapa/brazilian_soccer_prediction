{
 "cells": [
  {
   "cell_type": "code",
   "execution_count": 1,
   "metadata": {
    "ExecuteTime": {
     "end_time": "2019-06-18T06:34:01.232868Z",
     "start_time": "2019-06-18T06:34:01.018966Z"
    }
   },
   "outputs": [],
   "source": [
    "from PreGameFeatures import PreGameFeatures"
   ]
  },
  {
   "cell_type": "code",
   "execution_count": 2,
   "metadata": {
    "ExecuteTime": {
     "end_time": "2019-06-18T06:34:01.778560Z",
     "start_time": "2019-06-18T06:34:01.775642Z"
    }
   },
   "outputs": [],
   "source": [
    "pregame_url = 'https://www.academiadasapostasbrasil.com/stats/match/brasil-stats/brasileirao-serie-a/vasco/internacional/2988991/1/prelive'"
   ]
  },
  {
   "cell_type": "code",
   "execution_count": 3,
   "metadata": {
    "ExecuteTime": {
     "end_time": "2019-06-18T06:34:04.826555Z",
     "start_time": "2019-06-18T06:34:02.482577Z"
    }
   },
   "outputs": [
    {
     "name": "stderr",
     "output_type": "stream",
     "text": [
      "/home/renan/anaconda3/lib/python3.7/site-packages/urllib3/connectionpool.py:847: InsecureRequestWarning: Unverified HTTPS request is being made. Adding certificate verification is strongly advised. See: https://urllib3.readthedocs.io/en/latest/advanced-usage.html#ssl-warnings\n",
      "  InsecureRequestWarning)\n"
     ]
    }
   ],
   "source": [
    "pre_game = PreGameFeatures(pregame_url)"
   ]
  },
  {
   "cell_type": "code",
   "execution_count": 4,
   "metadata": {
    "ExecuteTime": {
     "end_time": "2019-06-18T06:34:06.334879Z",
     "start_time": "2019-06-18T06:34:06.276903Z"
    }
   },
   "outputs": [
    {
     "data": {
      "text/plain": [
       "({'current_wins_home': '-',\n",
       "  'current_wins_away': '-',\n",
       "  'current_wins_global': '-',\n",
       "  'current_draws_home': '2',\n",
       "  'current_draws_away': '-',\n",
       "  'current_draws_global': '-',\n",
       "  'current_loss_home': '-',\n",
       "  'current_loss_away': '1',\n",
       "  'current_loss_global': '1',\n",
       "  'games_without_win_home': '3',\n",
       "  'games_without_win_away': '4',\n",
       "  'games_without_win_global': '7',\n",
       "  'games_without_draw_home': '-',\n",
       "  'games_without_draw_away': '1',\n",
       "  'games_without_draw_global': '1',\n",
       "  'games_without_lose_home': '2',\n",
       "  'games_without_lose_away': '-',\n",
       "  'games_without_lose_global': '-'},\n",
       " {'current_wins_home': '4',\n",
       "  'current_wins_away': '-',\n",
       "  'current_wins_global': '1',\n",
       "  'current_draws_home': '-',\n",
       "  'current_draws_away': '1',\n",
       "  'current_draws_global': '-',\n",
       "  'current_loss_home': '-',\n",
       "  'current_loss_away': '-',\n",
       "  'current_loss_global': '-',\n",
       "  'games_without_win_home': '-',\n",
       "  'games_without_win_away': '3',\n",
       "  'games_without_win_global': '-',\n",
       "  'games_without_draw_home': '4',\n",
       "  'games_without_draw_away': '-',\n",
       "  'games_without_draw_global': '1',\n",
       "  'games_without_lose_home': '4',\n",
       "  'games_without_lose_away': '1',\n",
       "  'games_without_lose_global': '4'})"
      ]
     },
     "execution_count": 4,
     "metadata": {},
     "output_type": "execute_result"
    }
   ],
   "source": [
    "pre_game.build()"
   ]
  },
  {
   "cell_type": "code",
   "execution_count": null,
   "metadata": {},
   "outputs": [],
   "source": [
    "#home_team, away_team, home_team_score, away_team_score, referee, stadium, city, datetime, game"
   ]
  },
  {
   "cell_type": "code",
   "execution_count": null,
   "metadata": {},
   "outputs": [],
   "source": [
    "#eventList1st"
   ]
  },
  {
   "cell_type": "code",
   "execution_count": null,
   "metadata": {
    "ExecuteTime": {
     "end_time": "2019-06-18T03:21:00.688067Z",
     "start_time": "2019-06-18T03:21:00.685705Z"
    }
   },
   "outputs": [],
   "source": [
    "#eventList2nd"
   ]
  },
  {
   "cell_type": "code",
   "execution_count": null,
   "metadata": {
    "ExecuteTime": {
     "end_time": "2019-06-18T03:20:27.582823Z",
     "start_time": "2019-06-18T03:20:27.579192Z"
    }
   },
   "outputs": [],
   "source": [
    "##lineupList"
   ]
  },
  {
   "cell_type": "code",
   "execution_count": null,
   "metadata": {
    "ExecuteTime": {
     "end_time": "2019-06-18T03:21:06.956528Z",
     "start_time": "2019-06-18T03:21:06.953849Z"
    }
   },
   "outputs": [],
   "source": [
    "#statsHome"
   ]
  },
  {
   "cell_type": "code",
   "execution_count": null,
   "metadata": {
    "ExecuteTime": {
     "end_time": "2019-06-18T03:21:10.645656Z",
     "start_time": "2019-06-18T03:21:10.643282Z"
    }
   },
   "outputs": [],
   "source": [
    "#statsAway"
   ]
  },
  {
   "cell_type": "code",
   "execution_count": null,
   "metadata": {},
   "outputs": [],
   "source": []
  }
 ],
 "metadata": {
  "kernelspec": {
   "display_name": "Python 3",
   "language": "python",
   "name": "python3"
  },
  "language_info": {
   "codemirror_mode": {
    "name": "ipython",
    "version": 3
   },
   "file_extension": ".py",
   "mimetype": "text/x-python",
   "name": "python",
   "nbconvert_exporter": "python",
   "pygments_lexer": "ipython3",
   "version": "3.7.3"
  }
 },
 "nbformat": 4,
 "nbformat_minor": 2
}
