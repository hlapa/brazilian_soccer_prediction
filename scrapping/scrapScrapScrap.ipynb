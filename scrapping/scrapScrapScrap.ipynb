{
 "cells": [
  {
   "cell_type": "code",
   "execution_count": 4,
   "metadata": {},
   "outputs": [],
   "source": [
    "import pandas as pd\n",
    "from GameFeatures import GameFeatures\n",
    "import warnings\n",
    "warnings.filterwarnings(\"ignore\")"
   ]
  },
  {
   "cell_type": "code",
   "execution_count": 5,
   "metadata": {},
   "outputs": [],
   "source": [
    "df = pd.read_csv('gamesDB.csv')"
   ]
  },
  {
   "cell_type": "code",
   "execution_count": 6,
   "metadata": {},
   "outputs": [
    {
     "data": {
      "text/plain": [
       "Index(['Unnamed: 0', 'data', 'time_casa', 'time_visitante', 'resultado',\n",
       "       'id_partida', 'link'],\n",
       "      dtype='object')"
      ]
     },
     "execution_count": 6,
     "metadata": {},
     "output_type": "execute_result"
    }
   ],
   "source": [
    "df.columns"
   ]
  },
  {
   "cell_type": "code",
   "execution_count": 7,
   "metadata": {},
   "outputs": [],
   "source": [
    "df.drop(columns='Unnamed: 0', inplace=True)"
   ]
  },
  {
   "cell_type": "code",
   "execution_count": 8,
   "metadata": {},
   "outputs": [
    {
     "name": "stdout",
     "output_type": "stream",
     "text": [
      "<class 'pandas.core.frame.DataFrame'>\n",
      "RangeIndex: 4560 entries, 0 to 4559\n",
      "Data columns (total 6 columns):\n",
      "data              4560 non-null object\n",
      "time_casa         4560 non-null object\n",
      "time_visitante    4560 non-null object\n",
      "resultado         4560 non-null object\n",
      "id_partida        4560 non-null object\n",
      "link              4560 non-null object\n",
      "dtypes: object(6)\n",
      "memory usage: 213.8+ KB\n"
     ]
    }
   ],
   "source": [
    "df.info()"
   ]
  },
  {
   "cell_type": "code",
   "execution_count": 9,
   "metadata": {},
   "outputs": [
    {
     "data": {
      "text/plain": [
       "'2007-05-12 19:10:00'"
      ]
     },
     "execution_count": 9,
     "metadata": {},
     "output_type": "execute_result"
    }
   ],
   "source": [
    "df.data[0]"
   ]
  },
  {
   "cell_type": "code",
   "execution_count": 10,
   "metadata": {},
   "outputs": [],
   "source": [
    "df.data = pd.to_datetime(df.data)"
   ]
  },
  {
   "cell_type": "code",
   "execution_count": 11,
   "metadata": {},
   "outputs": [
    {
     "name": "stdout",
     "output_type": "stream",
     "text": [
      "<class 'pandas.core.frame.DataFrame'>\n",
      "RangeIndex: 4560 entries, 0 to 4559\n",
      "Data columns (total 6 columns):\n",
      "data              4560 non-null datetime64[ns]\n",
      "time_casa         4560 non-null object\n",
      "time_visitante    4560 non-null object\n",
      "resultado         4560 non-null object\n",
      "id_partida        4560 non-null object\n",
      "link              4560 non-null object\n",
      "dtypes: datetime64[ns](1), object(5)\n",
      "memory usage: 213.8+ KB\n"
     ]
    }
   ],
   "source": [
    "df.info()"
   ]
  },
  {
   "cell_type": "code",
   "execution_count": 12,
   "metadata": {},
   "outputs": [],
   "source": [
    "mask = df.data.dt.year > 2009"
   ]
  },
  {
   "cell_type": "code",
   "execution_count": 14,
   "metadata": {},
   "outputs": [
    {
     "data": {
      "text/html": [
       "<div>\n",
       "<style scoped>\n",
       "    .dataframe tbody tr th:only-of-type {\n",
       "        vertical-align: middle;\n",
       "    }\n",
       "\n",
       "    .dataframe tbody tr th {\n",
       "        vertical-align: top;\n",
       "    }\n",
       "\n",
       "    .dataframe thead th {\n",
       "        text-align: right;\n",
       "    }\n",
       "</style>\n",
       "<table border=\"1\" class=\"dataframe\">\n",
       "  <thead>\n",
       "    <tr style=\"text-align: right;\">\n",
       "      <th></th>\n",
       "      <th>data</th>\n",
       "      <th>time_casa</th>\n",
       "      <th>time_visitante</th>\n",
       "      <th>resultado</th>\n",
       "      <th>id_partida</th>\n",
       "      <th>link</th>\n",
       "    </tr>\n",
       "  </thead>\n",
       "  <tbody>\n",
       "    <tr>\n",
       "      <th>1140</th>\n",
       "      <td>2010-05-08 19:30:00</td>\n",
       "      <td>Botafogo</td>\n",
       "      <td>Santos</td>\n",
       "      <td>3-3</td>\n",
       "      <td>gsm_id_919738</td>\n",
       "      <td>https://www.academiadasapostasbrasil.com/stats...</td>\n",
       "    </tr>\n",
       "    <tr>\n",
       "      <th>1141</th>\n",
       "      <td>2010-05-08 19:30:00</td>\n",
       "      <td>Atlético GO</td>\n",
       "      <td>Grêmio</td>\n",
       "      <td>0-0</td>\n",
       "      <td>gsm_id_919738</td>\n",
       "      <td>https://www.academiadasapostasbrasil.com/stats...</td>\n",
       "    </tr>\n",
       "    <tr>\n",
       "      <th>1142</th>\n",
       "      <td>2010-05-08 19:35:00</td>\n",
       "      <td>Palmeiras</td>\n",
       "      <td>Vitória</td>\n",
       "      <td>1-0</td>\n",
       "      <td>gsm_id_919738</td>\n",
       "      <td>https://www.academiadasapostasbrasil.com/stats...</td>\n",
       "    </tr>\n",
       "    <tr>\n",
       "      <th>1143</th>\n",
       "      <td>2010-05-09 17:00:00</td>\n",
       "      <td>Flamengo</td>\n",
       "      <td>São Paulo</td>\n",
       "      <td>1-1</td>\n",
       "      <td>gsm_id_919738</td>\n",
       "      <td>https://www.academiadasapostasbrasil.com/stats...</td>\n",
       "    </tr>\n",
       "    <tr>\n",
       "      <th>1144</th>\n",
       "      <td>2010-05-09 17:00:00</td>\n",
       "      <td>Atlético MG</td>\n",
       "      <td>Vasco</td>\n",
       "      <td>2-1</td>\n",
       "      <td>gsm_id_919738</td>\n",
       "      <td>https://www.academiadasapostasbrasil.com/stats...</td>\n",
       "    </tr>\n",
       "  </tbody>\n",
       "</table>\n",
       "</div>"
      ],
      "text/plain": [
       "                    data    time_casa time_visitante resultado     id_partida  \\\n",
       "1140 2010-05-08 19:30:00     Botafogo         Santos       3-3  gsm_id_919738   \n",
       "1141 2010-05-08 19:30:00  Atlético GO         Grêmio       0-0  gsm_id_919738   \n",
       "1142 2010-05-08 19:35:00    Palmeiras        Vitória       1-0  gsm_id_919738   \n",
       "1143 2010-05-09 17:00:00     Flamengo      São Paulo       1-1  gsm_id_919738   \n",
       "1144 2010-05-09 17:00:00  Atlético MG          Vasco       2-1  gsm_id_919738   \n",
       "\n",
       "                                                   link  \n",
       "1140  https://www.academiadasapostasbrasil.com/stats...  \n",
       "1141  https://www.academiadasapostasbrasil.com/stats...  \n",
       "1142  https://www.academiadasapostasbrasil.com/stats...  \n",
       "1143  https://www.academiadasapostasbrasil.com/stats...  \n",
       "1144  https://www.academiadasapostasbrasil.com/stats...  "
      ]
     },
     "execution_count": 14,
     "metadata": {},
     "output_type": "execute_result"
    }
   ],
   "source": [
    "df[mask].head()"
   ]
  },
  {
   "cell_type": "code",
   "execution_count": 15,
   "metadata": {},
   "outputs": [],
   "source": [
    "links = df.link[1140:1150]"
   ]
  },
  {
   "cell_type": "code",
   "execution_count": 16,
   "metadata": {},
   "outputs": [],
   "source": [
    "home_team = []\n",
    "away_team = []\n",
    "home_team_score = []\n",
    "away_team_score = []\n",
    "referee = []\n",
    "stadium = []\n",
    "city = []\n",
    "datetime = []\n",
    "game = []\n",
    "eventList1st = []\n",
    "eventList2nd = []\n",
    "lineupList = []\n",
    "sublineupList = []\n",
    "statsHome = []\n",
    "statsAway = []"
   ]
  },
  {
   "cell_type": "code",
   "execution_count": 17,
   "metadata": {},
   "outputs": [
    {
     "name": "stdout",
     "output_type": "stream",
     "text": [
      "Game number: 1/10\n",
      "Game number: 2/10\n",
      "Game number: 3/10\n",
      "Game number: 4/10\n",
      "Game number: 5/10\n",
      "Game number: 6/10\n",
      "Game number: 7/10\n",
      "Game number: 8/10\n",
      "Game number: 9/10\n",
      "Game number: 10/10\n"
     ]
    }
   ],
   "source": [
    "i = 0\n",
    "games_len = len(links)\n",
    "for url in links:\n",
    "    home_teamT, away_teamT, home_team_scoreT, away_team_scoreT, refereeT, stadiumT, cityT, datetimeT, gameT, eventList1stT, eventList2ndT, lineupListT, sublineupListT, statsHomeT, statsAwayT = GameFeatures(url)\n",
    "    \n",
    "    home_team.append(home_teamT) \n",
    "    away_team.append(away_teamT) \n",
    "    home_team_score.append(home_team_scoreT) \n",
    "    away_team_score.append(away_team_scoreT) \n",
    "    referee.append(refereeT) \n",
    "    stadium.append(stadiumT) \n",
    "    city.append(cityT) \n",
    "    datetime.append(datetimeT) \n",
    "    game.append(gameT) \n",
    "    eventList1st.append(eventList1stT) \n",
    "    eventList2nd.append(eventList2ndT) \n",
    "    lineupList.append(lineupListT) \n",
    "    sublineupList.append(sublineupListT) \n",
    "    statsHome.append(statsHomeT) \n",
    "    statsAway.append(statsAwayT)\n",
    "    \n",
    "    i+=1\n",
    "    print('Game number: '+str(i)+'/'+str(games_len))"
   ]
  },
  {
   "cell_type": "code",
   "execution_count": 19,
   "metadata": {},
   "outputs": [],
   "source": [
    "df = pd.DataFrame({'home_team':home_team, \n",
    "                    'away_team':away_team, \n",
    "                    'home_team_score':home_team_score, \n",
    "                    'away_team_score':away_team_score, \n",
    "                    'referee':referee, \n",
    "                    'stadium':stadium, \n",
    "                    'city':city, \n",
    "                    'datetime':datetime, \n",
    "                    'game':game, \n",
    "                    'eventList1st':eventList1st, \n",
    "                    'eventList2nd':eventList2nd, \n",
    "                    'lineupList':lineupList, \n",
    "                    'sublineupList':sublineupList, \n",
    "                    'statsHome':statsHome, \n",
    "                    'statsAway':statsAway})"
   ]
  },
  {
   "cell_type": "code",
   "execution_count": 20,
   "metadata": {},
   "outputs": [],
   "source": [
    "df.to_csv('soccerDB.csv')"
   ]
  }
 ],
 "metadata": {
  "kernelspec": {
   "display_name": "Python 3",
   "language": "python",
   "name": "python3"
  },
  "language_info": {
   "codemirror_mode": {
    "name": "ipython",
    "version": 3
   },
   "file_extension": ".py",
   "mimetype": "text/x-python",
   "name": "python",
   "nbconvert_exporter": "python",
   "pygments_lexer": "ipython3",
   "version": "3.7.3"
  }
 },
 "nbformat": 4,
 "nbformat_minor": 2
}
