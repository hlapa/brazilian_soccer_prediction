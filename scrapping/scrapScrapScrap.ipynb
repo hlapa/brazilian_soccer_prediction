{
 "cells": [
  {
   "cell_type": "code",
   "execution_count": 1,
   "metadata": {
    "ExecuteTime": {
     "end_time": "2019-06-26T23:59:39.305222Z",
     "start_time": "2019-06-26T23:59:38.570182Z"
    }
   },
   "outputs": [],
   "source": [
    "import pandas as pd\n",
    "from GameFeatures import GameFeatures\n",
    "from PreGameFeatures import PreGameFeatures\n",
    "import warnings\n",
    "warnings.filterwarnings(\"ignore\")"
   ]
  },
  {
   "cell_type": "code",
   "execution_count": 2,
   "metadata": {
    "ExecuteTime": {
     "end_time": "2019-06-26T23:59:40.010686Z",
     "start_time": "2019-06-26T23:59:39.974172Z"
    }
   },
   "outputs": [],
   "source": [
    "df = pd.read_csv('gamesDB.csv')"
   ]
  },
  {
   "cell_type": "code",
   "execution_count": 3,
   "metadata": {
    "ExecuteTime": {
     "end_time": "2019-06-26T23:59:40.938711Z",
     "start_time": "2019-06-26T23:59:40.926049Z"
    }
   },
   "outputs": [
    {
     "data": {
      "text/plain": [
       "Index(['Unnamed: 0', 'data', 'time_casa', 'time_visitante', 'resultado',\n",
       "       'id_partida', 'link'],\n",
       "      dtype='object')"
      ]
     },
     "execution_count": 3,
     "metadata": {},
     "output_type": "execute_result"
    }
   ],
   "source": [
    "df.columns"
   ]
  },
  {
   "cell_type": "code",
   "execution_count": 4,
   "metadata": {
    "ExecuteTime": {
     "end_time": "2019-06-26T23:59:41.212831Z",
     "start_time": "2019-06-26T23:59:41.206996Z"
    }
   },
   "outputs": [],
   "source": [
    "df.drop(columns='Unnamed: 0', inplace=True)"
   ]
  },
  {
   "cell_type": "code",
   "execution_count": 5,
   "metadata": {
    "ExecuteTime": {
     "end_time": "2019-06-26T23:59:41.403662Z",
     "start_time": "2019-06-26T23:59:41.389823Z"
    }
   },
   "outputs": [
    {
     "name": "stdout",
     "output_type": "stream",
     "text": [
      "<class 'pandas.core.frame.DataFrame'>\n",
      "RangeIndex: 4560 entries, 0 to 4559\n",
      "Data columns (total 6 columns):\n",
      "data              4560 non-null object\n",
      "time_casa         4560 non-null object\n",
      "time_visitante    4560 non-null object\n",
      "resultado         4560 non-null object\n",
      "id_partida        4560 non-null object\n",
      "link              4560 non-null object\n",
      "dtypes: object(6)\n",
      "memory usage: 213.8+ KB\n"
     ]
    }
   ],
   "source": [
    "df.info()"
   ]
  },
  {
   "cell_type": "code",
   "execution_count": 6,
   "metadata": {
    "ExecuteTime": {
     "end_time": "2019-06-26T23:59:41.594809Z",
     "start_time": "2019-06-26T23:59:41.590133Z"
    }
   },
   "outputs": [
    {
     "data": {
      "text/plain": [
       "'2007-05-12 19:10:00'"
      ]
     },
     "execution_count": 6,
     "metadata": {},
     "output_type": "execute_result"
    }
   ],
   "source": [
    "df.data[0]"
   ]
  },
  {
   "cell_type": "code",
   "execution_count": 7,
   "metadata": {
    "ExecuteTime": {
     "end_time": "2019-06-26T23:59:41.747177Z",
     "start_time": "2019-06-26T23:59:41.739182Z"
    }
   },
   "outputs": [],
   "source": [
    "df.data = pd.to_datetime(df.data)"
   ]
  },
  {
   "cell_type": "code",
   "execution_count": 8,
   "metadata": {
    "ExecuteTime": {
     "end_time": "2019-06-26T23:59:41.901776Z",
     "start_time": "2019-06-26T23:59:41.889533Z"
    }
   },
   "outputs": [
    {
     "name": "stdout",
     "output_type": "stream",
     "text": [
      "<class 'pandas.core.frame.DataFrame'>\n",
      "RangeIndex: 4560 entries, 0 to 4559\n",
      "Data columns (total 6 columns):\n",
      "data              4560 non-null datetime64[ns]\n",
      "time_casa         4560 non-null object\n",
      "time_visitante    4560 non-null object\n",
      "resultado         4560 non-null object\n",
      "id_partida        4560 non-null object\n",
      "link              4560 non-null object\n",
      "dtypes: datetime64[ns](1), object(5)\n",
      "memory usage: 213.8+ KB\n"
     ]
    }
   ],
   "source": [
    "df.info()"
   ]
  },
  {
   "cell_type": "code",
   "execution_count": 9,
   "metadata": {
    "ExecuteTime": {
     "end_time": "2019-06-26T23:59:42.554647Z",
     "start_time": "2019-06-26T23:59:42.548695Z"
    }
   },
   "outputs": [],
   "source": [
    "mask = df.data.dt.year > 2009"
   ]
  },
  {
   "cell_type": "code",
   "execution_count": 10,
   "metadata": {
    "ExecuteTime": {
     "end_time": "2019-06-26T23:59:42.956801Z",
     "start_time": "2019-06-26T23:59:42.938104Z"
    }
   },
   "outputs": [
    {
     "data": {
      "text/html": [
       "<div>\n",
       "<style scoped>\n",
       "    .dataframe tbody tr th:only-of-type {\n",
       "        vertical-align: middle;\n",
       "    }\n",
       "\n",
       "    .dataframe tbody tr th {\n",
       "        vertical-align: top;\n",
       "    }\n",
       "\n",
       "    .dataframe thead th {\n",
       "        text-align: right;\n",
       "    }\n",
       "</style>\n",
       "<table border=\"1\" class=\"dataframe\">\n",
       "  <thead>\n",
       "    <tr style=\"text-align: right;\">\n",
       "      <th></th>\n",
       "      <th>data</th>\n",
       "      <th>time_casa</th>\n",
       "      <th>time_visitante</th>\n",
       "      <th>resultado</th>\n",
       "      <th>id_partida</th>\n",
       "      <th>link</th>\n",
       "    </tr>\n",
       "  </thead>\n",
       "  <tbody>\n",
       "    <tr>\n",
       "      <th>1140</th>\n",
       "      <td>2010-05-08 19:30:00</td>\n",
       "      <td>Botafogo</td>\n",
       "      <td>Santos</td>\n",
       "      <td>3-3</td>\n",
       "      <td>gsm_id_919738</td>\n",
       "      <td>https://www.academiadasapostasbrasil.com/stats...</td>\n",
       "    </tr>\n",
       "    <tr>\n",
       "      <th>1141</th>\n",
       "      <td>2010-05-08 19:30:00</td>\n",
       "      <td>Atlético GO</td>\n",
       "      <td>Grêmio</td>\n",
       "      <td>0-0</td>\n",
       "      <td>gsm_id_919738</td>\n",
       "      <td>https://www.academiadasapostasbrasil.com/stats...</td>\n",
       "    </tr>\n",
       "    <tr>\n",
       "      <th>1142</th>\n",
       "      <td>2010-05-08 19:35:00</td>\n",
       "      <td>Palmeiras</td>\n",
       "      <td>Vitória</td>\n",
       "      <td>1-0</td>\n",
       "      <td>gsm_id_919738</td>\n",
       "      <td>https://www.academiadasapostasbrasil.com/stats...</td>\n",
       "    </tr>\n",
       "    <tr>\n",
       "      <th>1143</th>\n",
       "      <td>2010-05-09 17:00:00</td>\n",
       "      <td>Flamengo</td>\n",
       "      <td>São Paulo</td>\n",
       "      <td>1-1</td>\n",
       "      <td>gsm_id_919738</td>\n",
       "      <td>https://www.academiadasapostasbrasil.com/stats...</td>\n",
       "    </tr>\n",
       "    <tr>\n",
       "      <th>1144</th>\n",
       "      <td>2010-05-09 17:00:00</td>\n",
       "      <td>Atlético MG</td>\n",
       "      <td>Vasco</td>\n",
       "      <td>2-1</td>\n",
       "      <td>gsm_id_919738</td>\n",
       "      <td>https://www.academiadasapostasbrasil.com/stats...</td>\n",
       "    </tr>\n",
       "  </tbody>\n",
       "</table>\n",
       "</div>"
      ],
      "text/plain": [
       "                    data    time_casa time_visitante resultado     id_partida  \\\n",
       "1140 2010-05-08 19:30:00     Botafogo         Santos       3-3  gsm_id_919738   \n",
       "1141 2010-05-08 19:30:00  Atlético GO         Grêmio       0-0  gsm_id_919738   \n",
       "1142 2010-05-08 19:35:00    Palmeiras        Vitória       1-0  gsm_id_919738   \n",
       "1143 2010-05-09 17:00:00     Flamengo      São Paulo       1-1  gsm_id_919738   \n",
       "1144 2010-05-09 17:00:00  Atlético MG          Vasco       2-1  gsm_id_919738   \n",
       "\n",
       "                                                   link  \n",
       "1140  https://www.academiadasapostasbrasil.com/stats...  \n",
       "1141  https://www.academiadasapostasbrasil.com/stats...  \n",
       "1142  https://www.academiadasapostasbrasil.com/stats...  \n",
       "1143  https://www.academiadasapostasbrasil.com/stats...  \n",
       "1144  https://www.academiadasapostasbrasil.com/stats...  "
      ]
     },
     "execution_count": 10,
     "metadata": {},
     "output_type": "execute_result"
    }
   ],
   "source": [
    "df[mask].head()"
   ]
  },
  {
   "cell_type": "code",
   "execution_count": 11,
   "metadata": {
    "ExecuteTime": {
     "end_time": "2019-06-26T23:59:43.408427Z",
     "start_time": "2019-06-26T23:59:43.404936Z"
    }
   },
   "outputs": [],
   "source": [
    "links = df.link[1140:1150]"
   ]
  },
  {
   "cell_type": "code",
   "execution_count": 12,
   "metadata": {
    "ExecuteTime": {
     "end_time": "2019-06-26T23:59:43.936434Z",
     "start_time": "2019-06-26T23:59:43.931629Z"
    }
   },
   "outputs": [],
   "source": [
    "home_team = []\n",
    "away_team = []\n",
    "home_team_score = []\n",
    "away_team_score = []\n",
    "referee = []\n",
    "stadium = []\n",
    "city = []\n",
    "datetime = []\n",
    "game = []\n",
    "eventList1st = []\n",
    "eventList2nd = []\n",
    "lineupList = []\n",
    "sublineupList = []\n",
    "statsHome = []\n",
    "statsAway = []"
   ]
  },
  {
   "cell_type": "code",
   "execution_count": 13,
   "metadata": {
    "ExecuteTime": {
     "end_time": "2019-06-26T23:59:44.326517Z",
     "start_time": "2019-06-26T23:59:44.323601Z"
    }
   },
   "outputs": [],
   "source": [
    "import concurrent.futures"
   ]
  },
  {
   "cell_type": "code",
   "execution_count": 14,
   "metadata": {
    "ExecuteTime": {
     "end_time": "2019-06-26T23:59:44.758874Z",
     "start_time": "2019-06-26T23:59:44.756498Z"
    }
   },
   "outputs": [],
   "source": [
    "#from GameFeatures import GameFeatures\n",
    "#from random_ua import get_random_ua, get_random_agent\n",
    "#print(get_random_agent())\n",
    "\n",
    "#url = 'https://www.academiadasapostasbrasil.com/stats/match/brasil-stats/brasileirao-serie-a/vitoria/ponte-preta/2218001/1/live'\n",
    "#print(GameFeatures(url))\n"
   ]
  },
  {
   "cell_type": "code",
   "execution_count": 15,
   "metadata": {
    "ExecuteTime": {
     "end_time": "2019-06-26T23:59:45.392374Z",
     "start_time": "2019-06-26T23:59:45.390032Z"
    }
   },
   "outputs": [],
   "source": [
    "#%load_ext cython"
   ]
  },
  {
   "cell_type": "code",
   "execution_count": null,
   "metadata": {
    "ExecuteTime": {
     "start_time": "2019-06-27T00:00:54.801Z"
    }
   },
   "outputs": [
    {
     "name": "stdout",
     "output_type": "stream",
     "text": [
      "games_len: $10\n",
      "Game number: 1/10\n",
      "Game number: 2/10\n",
      "Game number: 3/10\n",
      "Game number: 4/10\n"
     ]
    }
   ],
   "source": [
    "\n",
    "\n",
    "i = 0\n",
    "games_len = len(links)\n",
    "print(f'games_len: ${games_len}')\n",
    "sfx='prelive'\n",
    "\n",
    "with concurrent.futures.ThreadPoolExecutor(max_workers=6) as executor:\n",
    "    # Start the load operations and mark each future with its URL\n",
    "    future_to_url = {executor.submit(GameFeatures, url): url for url in links}\n",
    "    for future in concurrent.futures.as_completed(future_to_url):\n",
    "        url = future_to_url[future]\n",
    "        try:\n",
    "            #data = future.result()\n",
    "            home_teamT, away_teamT, home_team_scoreT, away_team_scoreT, refereeT, stadiumT, cityT, datetimeT, gameT, eventList1stT, eventList2ndT, lineupListT, sublineupListT, statsHomeT, statsAwayT = future.result()\n",
    "            \n",
    "            pre_game=PreGameFeatures(url[:-4]+sfx)\n",
    "            pre_game.build()\n",
    "            \n",
    "            home_team.append(home_teamT) \n",
    "            away_team.append(away_teamT) \n",
    "            home_team_score.append(home_team_scoreT) \n",
    "            away_team_score.append(away_team_scoreT) \n",
    "            referee.append(refereeT) \n",
    "            stadium.append(stadiumT) \n",
    "            city.append(cityT) \n",
    "            datetime.append(datetimeT) \n",
    "            game.append(gameT) \n",
    "            eventList1st.append(eventList1stT) \n",
    "            eventList2nd.append(eventList2ndT) \n",
    "            lineupList.append(lineupListT) \n",
    "            sublineupList.append(sublineupListT) \n",
    "            statsHome.append(statsHomeT) \n",
    "            statsAway.append(statsAwayT)\n",
    "            i+=1\n",
    "            #print(f'home_teamT:{home_teamT}')\n",
    "            print('Game number: '+str(i)+'/'+str(games_len))\n",
    "        except Exception as exc:\n",
    "            print('%r generated an exception: %s' % (url, exc))\n",
    "        #else:\n",
    "            #print('%r page ' % (url))"
   ]
  },
  {
   "cell_type": "code",
   "execution_count": null,
   "metadata": {
    "ExecuteTime": {
     "end_time": "2019-06-20T22:11:29.548401Z",
     "start_time": "2019-06-20T22:11:28.193646Z"
    }
   },
   "outputs": [],
   "source": [
    "df2 = pd.DataFrame({'home_team':home_team, \n",
    "                    'away_team':away_team, \n",
    "                    'home_team_score':home_team_score, \n",
    "                    'away_team_score':away_team_score, \n",
    "                    'referee':referee, \n",
    "                    'stadium':stadium, \n",
    "                    'city':city, \n",
    "                    'datetime':datetime, \n",
    "                    'game':game, \n",
    "                    'eventList1st':eventList1st, \n",
    "                    'eventList2nd':eventList2nd, \n",
    "                    'lineupList':lineupList, \n",
    "                    'sublineupList':sublineupList, \n",
    "                    'statsHome':statsHome, \n",
    "                    'statsAway':statsAway})\n"
   ]
  },
  {
   "cell_type": "code",
   "execution_count": null,
   "metadata": {
    "ExecuteTime": {
     "end_time": "2019-06-20T22:11:34.785018Z",
     "start_time": "2019-06-20T22:11:33.913551Z"
    }
   },
   "outputs": [],
   "source": [
    "df2.to_csv('soccerDBNew2.csv')"
   ]
  },
  {
   "cell_type": "code",
   "execution_count": null,
   "metadata": {},
   "outputs": [],
   "source": []
  }
 ],
 "metadata": {
  "kernelspec": {
   "display_name": "base",
   "language": "python",
   "name": "base"
  },
  "language_info": {
   "codemirror_mode": {
    "name": "ipython",
    "version": 3
   },
   "file_extension": ".py",
   "mimetype": "text/x-python",
   "name": "python",
   "nbconvert_exporter": "python",
   "pygments_lexer": "ipython3",
   "version": "3.6.8"
  }
 },
 "nbformat": 4,
 "nbformat_minor": 2
}
