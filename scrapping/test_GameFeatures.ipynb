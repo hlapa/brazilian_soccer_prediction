{
 "cells": [
  {
   "cell_type": "code",
   "execution_count": 1,
   "metadata": {},
   "outputs": [],
   "source": [
    "import GameFeatures"
   ]
  },
  {
   "cell_type": "code",
   "execution_count": 2,
   "metadata": {},
   "outputs": [],
   "source": [
    "url = 'https://www.academiadasapostasbrasil.com/stats/match/brasil-stats/brasileirao-serie-a/vasco/internacional/2988991/1/live'"
   ]
  },
  {
   "cell_type": "code",
   "execution_count": 3,
   "metadata": {},
   "outputs": [
    {
     "name": "stderr",
     "output_type": "stream",
     "text": [
      "/home/renan/anaconda3/lib/python3.7/site-packages/urllib3/connectionpool.py:847: InsecureRequestWarning: Unverified HTTPS request is being made. Adding certificate verification is strongly advised. See: https://urllib3.readthedocs.io/en/latest/advanced-usage.html#ssl-warnings\n",
      "  InsecureRequestWarning)\n"
     ]
    }
   ],
   "source": [
    "a = GameFeatures.GameFeatures(url)"
   ]
  },
  {
   "cell_type": "code",
   "execution_count": 4,
   "metadata": {},
   "outputs": [],
   "source": [
    "home_team, away_team, home_team_score, away_team_score, referee, stadium, city, datetime, game, eventList1st, eventList2nd, lineupList, sublineupList, statsHome, statsAway = a"
   ]
  },
  {
   "cell_type": "code",
   "execution_count": 5,
   "metadata": {},
   "outputs": [
    {
     "data": {
      "text/plain": [
       "('Vasco',\n",
       " 'Internacional',\n",
       " '2',\n",
       " '1',\n",
       " 'Heber Lopes',\n",
       " 'Estádio Club de Regatas Vasco da Gama',\n",
       " 'Rio de Janeiro, Rio de Janeiro',\n",
       " '07 junho 2019 - 20:30',\n",
       " '8')"
      ]
     },
     "execution_count": 5,
     "metadata": {},
     "output_type": "execute_result"
    }
   ],
   "source": [
    "home_team, away_team, home_team_score, away_team_score, referee, stadium, city, datetime, game"
   ]
  },
  {
   "cell_type": "code",
   "execution_count": 6,
   "metadata": {},
   "outputs": [
    {
     "data": {
      "text/plain": [
       "[{'time': \"44'\", 'kind': 'Goal', 'hometeam': True, 'player': 'Andrey'},\n",
       " {'time': \"45'+3'\", 'kind': 'Goal', 'hometeam': True, 'player': 'Tiago Reis'}]"
      ]
     },
     "execution_count": 6,
     "metadata": {},
     "output_type": "execute_result"
    }
   ],
   "source": [
    "eventList1st"
   ]
  },
  {
   "cell_type": "code",
   "execution_count": 7,
   "metadata": {},
   "outputs": [
    {
     "data": {
      "text/plain": [
       "[{'time': \"46'\",\n",
       "  'kind': 'Substitute in',\n",
       "  'hometeam': False,\n",
       "  'playerIn': 'Patrick',\n",
       "  'playerOut': 'Edenílson'},\n",
       " {'time': \"56'\",\n",
       "  'kind': 'Goal',\n",
       "  'hometeam': False,\n",
       "  'player': 'Emerson Santos'},\n",
       " {'time': \"57'\",\n",
       "  'kind': 'Substitute in',\n",
       "  'hometeam': False,\n",
       "  'playerIn': 'J. Alvez',\n",
       "  'playerOut': 'Guilherme Parede'},\n",
       " {'time': \"61'\",\n",
       "  'kind': 'Substitute in',\n",
       "  'hometeam': True,\n",
       "  'playerIn': 'Jairinho',\n",
       "  'playerOut': 'Tiago Reis'},\n",
       " {'time': \"76'\",\n",
       "  'kind': 'Substitute in',\n",
       "  'hometeam': False,\n",
       "  'playerIn': 'M. Sarrafiore',\n",
       "  'playerOut': 'N. López'},\n",
       " {'time': \"78'\",\n",
       "  'kind': 'Substitute in',\n",
       "  'hometeam': True,\n",
       "  'playerIn': 'Bruno César',\n",
       "  'playerOut': 'Rossi'},\n",
       " {'time': \"90'\",\n",
       "  'kind': 'Substitute in',\n",
       "  'hometeam': True,\n",
       "  'playerIn': 'Fellipe Bastos',\n",
       "  'playerOut': 'Andrey'},\n",
       " {'time': \"90'+4'\",\n",
       "  'kind': 'Yellow card',\n",
       "  'hometeam': False,\n",
       "  'player': 'Rafael Sóbis'},\n",
       " {'time': \"90'+7'\",\n",
       "  'kind': 'Yellow card',\n",
       "  'hometeam': False,\n",
       "  'player': 'Emerson Santos'}]"
      ]
     },
     "execution_count": 7,
     "metadata": {},
     "output_type": "execute_result"
    }
   ],
   "source": [
    "eventList2nd"
   ]
  },
  {
   "cell_type": "code",
   "execution_count": 8,
   "metadata": {},
   "outputs": [
    {
     "data": {
      "text/plain": [
       "([('person-71994', 'Fernando Miguel'),\n",
       "  ('person-490044', 'Ricardo Graça'),\n",
       "  ('person-282265', 'Danilo Barcelos'),\n",
       "  ('person-22275', 'O. Henríquez'),\n",
       "  ('person-402060', 'Raul'),\n",
       "  ('person-447415', 'Marcos Júnior'),\n",
       "  ('person-398755', 'Andrey'),\n",
       "  ('person-226564', 'Rossi'),\n",
       "  ('person-234689', 'Yago Pikachu'),\n",
       "  ('person-534321', 'Marrony'),\n",
       "  ('person-594684', 'Tiago Reis')],\n",
       " [('person-9062', 'Marcelo Lomba'),\n",
       "  ('person-32574', 'Uendel'),\n",
       "  ('person-332808', 'Zeca'),\n",
       "  ('person-328427', 'Emerson Santos'),\n",
       "  ('person-113709', 'V. Cuesta'),\n",
       "  ('person-112806', 'Rodrigo Lindoso'),\n",
       "  ('person-72088', 'Edenílson'),\n",
       "  ('person-440539', 'Nonato'),\n",
       "  ('person-3596', 'Rafael Sóbis'),\n",
       "  ('person-187303', 'N. López'),\n",
       "  ('person-285008', 'Guilherme Parede')])"
      ]
     },
     "execution_count": 8,
     "metadata": {},
     "output_type": "execute_result"
    }
   ],
   "source": [
    "lineupList"
   ]
  },
  {
   "cell_type": "code",
   "execution_count": 9,
   "metadata": {},
   "outputs": [
    {
     "data": {
      "text/plain": [
       "([('person-112354', 'Sidão'),\n",
       "  ('person-131039', 'R. Cáceres'),\n",
       "  ('person-234585', 'Luiz Gustavo'),\n",
       "  ('person-534322', 'Miranda'),\n",
       "  ('person-302496', 'Henrique'),\n",
       "  ('person-72067', 'Bruno César'),\n",
       "  ('person-455798', 'Yan Sasse'),\n",
       "  ('person-21094', 'Fellipe Bastos'),\n",
       "  ('person-433835', 'Ribamar'),\n",
       "  ('person-586258', 'Talles Magno'),\n",
       "  ('person-539399', 'Jairinho'),\n",
       "  ('person-283703', 'Vinícius Araújo')],\n",
       " [('person-103538', 'Danilo Fernandes'),\n",
       "  ('person-9241', 'Bruno'),\n",
       "  ('person-590953', 'Roberto'),\n",
       "  ('person-380051', 'Klaus'),\n",
       "  ('person-104850', 'Rithely'),\n",
       "  ('person-421817', 'M. Sarrafiore'),\n",
       "  ('person-197822', 'Patrick'),\n",
       "  ('person-289800', 'Neilton'),\n",
       "  ('person-590956', 'Pedro Lucas'),\n",
       "  ('person-299992', 'J. Alvez'),\n",
       "  ('person-207386', 'William Pottker'),\n",
       "  ('person-102692', 'Wellington Silva')])"
      ]
     },
     "execution_count": 9,
     "metadata": {},
     "output_type": "execute_result"
    }
   ],
   "source": [
    "sublineupList"
   ]
  },
  {
   "cell_type": "code",
   "execution_count": 10,
   "metadata": {},
   "outputs": [
    {
     "data": {
      "text/plain": [
       "{'possession': '36%',\n",
       " 'goals': '2',\n",
       " 'shots_on_target': '2',\n",
       " 'shots_blocked': '4',\n",
       " 'shots_off_target': '3',\n",
       " 'attacks': '41',\n",
       " 'dangerous_attacks': '20',\n",
       " 'offsides': '0',\n",
       " 'yellow_cards': '0',\n",
       " 'fouls': '13',\n",
       " 'free_kicks': '20',\n",
       " 'goal_kicks': '9',\n",
       " 'throw_ins': '17',\n",
       " 'substitutions': '3',\n",
       " 'corners': '0'}"
      ]
     },
     "execution_count": 10,
     "metadata": {},
     "output_type": "execute_result"
    }
   ],
   "source": [
    "statsHome"
   ]
  },
  {
   "cell_type": "code",
   "execution_count": 11,
   "metadata": {},
   "outputs": [
    {
     "data": {
      "text/plain": [
       "{'possession': '64%',\n",
       " 'goals': '1',\n",
       " 'shots_on_target': '5',\n",
       " 'shots_blocked': '3',\n",
       " 'shots_off_target': '6',\n",
       " 'attacks': '61',\n",
       " 'dangerous_attacks': '38',\n",
       " 'offsides': '4',\n",
       " 'yellow_cards': '1',\n",
       " 'fouls': '16',\n",
       " 'free_kicks': '13',\n",
       " 'goal_kicks': '4',\n",
       " 'throw_ins': '19',\n",
       " 'substitutions': '3',\n",
       " 'corners': '10'}"
      ]
     },
     "execution_count": 11,
     "metadata": {},
     "output_type": "execute_result"
    }
   ],
   "source": [
    "statsAway"
   ]
  }
 ],
 "metadata": {
  "kernelspec": {
   "display_name": "Python 3",
   "language": "python",
   "name": "python3"
  },
  "language_info": {
   "codemirror_mode": {
    "name": "ipython",
    "version": 3
   },
   "file_extension": ".py",
   "mimetype": "text/x-python",
   "name": "python",
   "nbconvert_exporter": "python",
   "pygments_lexer": "ipython3",
   "version": "3.7.3"
  }
 },
 "nbformat": 4,
 "nbformat_minor": 2
}
