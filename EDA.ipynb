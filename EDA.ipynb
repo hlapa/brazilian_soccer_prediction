{
 "cells": [
  {
   "cell_type": "code",
   "execution_count": 172,
   "metadata": {},
   "outputs": [],
   "source": [
    "import pandas as pd\n",
    "import matplotlib.pyplot as plt\n",
    "import warnings "
   ]
  },
  {
   "cell_type": "code",
   "execution_count": 14,
   "metadata": {},
   "outputs": [],
   "source": [
    "warnings.filterwarnings(action='ignore')"
   ]
  },
  {
   "cell_type": "code",
   "execution_count": 3,
   "metadata": {},
   "outputs": [],
   "source": [
    "df=pd.read_pickle('data/soccerDBNew2_n.pkl')"
   ]
  },
  {
   "cell_type": "code",
   "execution_count": 4,
   "metadata": {},
   "outputs": [],
   "source": [
    "eda=df[['home_team', 'away_team', 'home_team_score', 'away_team_score','city','datetime','game']]"
   ]
  },
  {
   "cell_type": "code",
   "execution_count": 5,
   "metadata": {},
   "outputs": [
    {
     "name": "stderr",
     "output_type": "stream",
     "text": [
      "C:\\ProgramData\\Anaconda3\\lib\\site-packages\\ipykernel_launcher.py:1: SettingWithCopyWarning: \n",
      "A value is trying to be set on a copy of a slice from a DataFrame.\n",
      "Try using .loc[row_indexer,col_indexer] = value instead\n",
      "\n",
      "See the caveats in the documentation: http://pandas.pydata.org/pandas-docs/stable/indexing.html#indexing-view-versus-copy\n",
      "  \"\"\"Entry point for launching an IPython kernel.\n"
     ]
    }
   ],
   "source": [
    "eda['winner']=1"
   ]
  },
  {
   "cell_type": "code",
   "execution_count": 6,
   "metadata": {},
   "outputs": [
    {
     "name": "stderr",
     "output_type": "stream",
     "text": [
      "C:\\ProgramData\\Anaconda3\\lib\\site-packages\\ipykernel_launcher.py:4: SettingWithCopyWarning: \n",
      "A value is trying to be set on a copy of a slice from a DataFrame\n",
      "\n",
      "See the caveats in the documentation: http://pandas.pydata.org/pandas-docs/stable/indexing.html#indexing-view-versus-copy\n",
      "  after removing the cwd from sys.path.\n",
      "C:\\ProgramData\\Anaconda3\\lib\\site-packages\\pandas\\core\\indexing.py:190: SettingWithCopyWarning: \n",
      "A value is trying to be set on a copy of a slice from a DataFrame\n",
      "\n",
      "See the caveats in the documentation: http://pandas.pydata.org/pandas-docs/stable/indexing.html#indexing-view-versus-copy\n",
      "  self._setitem_with_indexer(indexer, value)\n",
      "C:\\ProgramData\\Anaconda3\\lib\\site-packages\\pandas\\core\\series.py:1015: SettingWithCopyWarning: \n",
      "A value is trying to be set on a copy of a slice from a DataFrame\n",
      "\n",
      "See the caveats in the documentation: http://pandas.pydata.org/pandas-docs/stable/indexing.html#indexing-view-versus-copy\n",
      "  self.loc[key] = value\n",
      "C:\\ProgramData\\Anaconda3\\lib\\site-packages\\IPython\\core\\magics\\execution.py:1292: SettingWithCopyWarning: \n",
      "A value is trying to be set on a copy of a slice from a DataFrame\n",
      "\n",
      "See the caveats in the documentation: http://pandas.pydata.org/pandas-docs/stable/indexing.html#indexing-view-versus-copy\n",
      "  exec(code, glob, local_ns)\n",
      "C:\\ProgramData\\Anaconda3\\lib\\site-packages\\ipykernel_launcher.py:6: SettingWithCopyWarning: \n",
      "A value is trying to be set on a copy of a slice from a DataFrame\n",
      "\n",
      "See the caveats in the documentation: http://pandas.pydata.org/pandas-docs/stable/indexing.html#indexing-view-versus-copy\n",
      "  \n",
      "C:\\ProgramData\\Anaconda3\\lib\\site-packages\\ipykernel_launcher.py:8: SettingWithCopyWarning: \n",
      "A value is trying to be set on a copy of a slice from a DataFrame\n",
      "\n",
      "See the caveats in the documentation: http://pandas.pydata.org/pandas-docs/stable/indexing.html#indexing-view-versus-copy\n",
      "  \n"
     ]
    },
    {
     "name": "stdout",
     "output_type": "stream",
     "text": [
      "Wall time: 3min 36s\n"
     ]
    }
   ],
   "source": [
    "%%time\n",
    "contador=0\n",
    "for n in range (3419):\n",
    "    if eda['home_team_score'][contador] > eda['away_team_score'][contador]:\n",
    "        eda['winner'][contador]='HW'\n",
    "    elif eda['home_team_score'][contador] < eda['away_team_score'][contador]:\n",
    "        eda['winner'][contador]='AW'\n",
    "    else:\n",
    "        eda['winner'][contador]='D'\n",
    "    contador+=1"
   ]
  },
  {
   "cell_type": "code",
   "execution_count": 15,
   "metadata": {},
   "outputs": [
    {
     "data": {
      "text/html": [
       "<div>\n",
       "<style scoped>\n",
       "    .dataframe tbody tr th:only-of-type {\n",
       "        vertical-align: middle;\n",
       "    }\n",
       "\n",
       "    .dataframe tbody tr th {\n",
       "        vertical-align: top;\n",
       "    }\n",
       "\n",
       "    .dataframe thead th {\n",
       "        text-align: right;\n",
       "    }\n",
       "</style>\n",
       "<table border=\"1\" class=\"dataframe\">\n",
       "  <thead>\n",
       "    <tr style=\"text-align: right;\">\n",
       "      <th></th>\n",
       "      <th>home_team</th>\n",
       "      <th>away_team</th>\n",
       "      <th>home_team_score</th>\n",
       "      <th>away_team_score</th>\n",
       "      <th>city</th>\n",
       "      <th>datetime</th>\n",
       "      <th>game</th>\n",
       "      <th>winner</th>\n",
       "    </tr>\n",
       "  </thead>\n",
       "  <tbody>\n",
       "    <tr>\n",
       "      <th>3414</th>\n",
       "      <td>Palmeiras</td>\n",
       "      <td>Vitória</td>\n",
       "      <td>3</td>\n",
       "      <td>2</td>\n",
       "      <td>São Paulo, São Paulo</td>\n",
       "      <td>2018-02-12</td>\n",
       "      <td>8</td>\n",
       "      <td>HW</td>\n",
       "    </tr>\n",
       "    <tr>\n",
       "      <th>3415</th>\n",
       "      <td>Sport</td>\n",
       "      <td>Santos</td>\n",
       "      <td>2</td>\n",
       "      <td>1</td>\n",
       "      <td>Recife, Pernambuco</td>\n",
       "      <td>2018-02-12</td>\n",
       "      <td>8</td>\n",
       "      <td>HW</td>\n",
       "    </tr>\n",
       "    <tr>\n",
       "      <th>3416</th>\n",
       "      <td>Bahia</td>\n",
       "      <td>Cruzeiro</td>\n",
       "      <td>0</td>\n",
       "      <td>0</td>\n",
       "      <td>Salvador de Bahia, Bahia</td>\n",
       "      <td>2018-02-12</td>\n",
       "      <td>8</td>\n",
       "      <td>D</td>\n",
       "    </tr>\n",
       "    <tr>\n",
       "      <th>3417</th>\n",
       "      <td>Ceará</td>\n",
       "      <td>Vasco</td>\n",
       "      <td>0</td>\n",
       "      <td>0</td>\n",
       "      <td>Fortaleza, Ceará</td>\n",
       "      <td>2018-02-12</td>\n",
       "      <td>8</td>\n",
       "      <td>D</td>\n",
       "    </tr>\n",
       "    <tr>\n",
       "      <th>3418</th>\n",
       "      <td>Grêmio</td>\n",
       "      <td>Corinthians</td>\n",
       "      <td>1</td>\n",
       "      <td>0</td>\n",
       "      <td>Porto Alegre, Rio Grande do Sul</td>\n",
       "      <td>2018-02-12</td>\n",
       "      <td>8</td>\n",
       "      <td>HW</td>\n",
       "    </tr>\n",
       "  </tbody>\n",
       "</table>\n",
       "</div>"
      ],
      "text/plain": [
       "      home_team    away_team home_team_score away_team_score  \\\n",
       "3414  Palmeiras      Vitória               3               2   \n",
       "3415      Sport       Santos               2               1   \n",
       "3416      Bahia     Cruzeiro               0               0   \n",
       "3417      Ceará        Vasco               0               0   \n",
       "3418     Grêmio  Corinthians               1               0   \n",
       "\n",
       "                                 city   datetime game winner  \n",
       "3414             São Paulo, São Paulo 2018-02-12    8     HW  \n",
       "3415               Recife, Pernambuco 2018-02-12    8     HW  \n",
       "3416         Salvador de Bahia, Bahia 2018-02-12    8      D  \n",
       "3417                 Fortaleza, Ceará 2018-02-12    8      D  \n",
       "3418  Porto Alegre, Rio Grande do Sul 2018-02-12    8     HW  "
      ]
     },
     "execution_count": 15,
     "metadata": {},
     "output_type": "execute_result"
    }
   ],
   "source": [
    "eda.tail()"
   ]
  },
  {
   "cell_type": "markdown",
   "metadata": {},
   "source": [
    "# Proporção de vitórias por mando"
   ]
  },
  {
   "cell_type": "code",
   "execution_count": 16,
   "metadata": {},
   "outputs": [
    {
     "data": {
      "text/plain": [
       "<matplotlib.axes._subplots.AxesSubplot at 0x202ba7ab240>"
      ]
     },
     "execution_count": 16,
     "metadata": {},
     "output_type": "execute_result"
    },
    {
     "data": {
      "image/png": "[encoded data removed]",
      "text/plain": [
       "<Figure size 432x288 with 1 Axes>"
      ]
     },
     "metadata": {},
     "output_type": "display_data"
    }
   ],
   "source": [
    "eda['winner'].value_counts().plot.pie()"
   ]
  },
  {
   "cell_type": "code",
   "execution_count": 200,
   "metadata": {},
   "outputs": [],
   "source": [
    "times=eda[['home_team','away_team','winner','datetime']]"
   ]
  },
  {
   "cell_type": "code",
   "execution_count": 201,
   "metadata": {},
   "outputs": [
    {
     "data": {
      "text/html": [
       "<div>\n",
       "<style scoped>\n",
       "    .dataframe tbody tr th:only-of-type {\n",
       "        vertical-align: middle;\n",
       "    }\n",
       "\n",
       "    .dataframe tbody tr th {\n",
       "        vertical-align: top;\n",
       "    }\n",
       "\n",
       "    .dataframe thead th {\n",
       "        text-align: right;\n",
       "    }\n",
       "</style>\n",
       "<table border=\"1\" class=\"dataframe\">\n",
       "  <thead>\n",
       "    <tr style=\"text-align: right;\">\n",
       "      <th></th>\n",
       "      <th>home_team</th>\n",
       "      <th>away_team</th>\n",
       "      <th>winner</th>\n",
       "      <th>datetime</th>\n",
       "    </tr>\n",
       "  </thead>\n",
       "  <tbody>\n",
       "    <tr>\n",
       "      <th>0</th>\n",
       "      <td>Palmeiras</td>\n",
       "      <td>Vitória</td>\n",
       "      <td>HW</td>\n",
       "      <td>2010-08-05</td>\n",
       "    </tr>\n",
       "    <tr>\n",
       "      <th>1</th>\n",
       "      <td>Internacional</td>\n",
       "      <td>Cruzeiro</td>\n",
       "      <td>AW</td>\n",
       "      <td>2010-09-05</td>\n",
       "    </tr>\n",
       "    <tr>\n",
       "      <th>2</th>\n",
       "      <td>Flamengo</td>\n",
       "      <td>São Paulo</td>\n",
       "      <td>D</td>\n",
       "      <td>2010-09-05</td>\n",
       "    </tr>\n",
       "    <tr>\n",
       "      <th>3</th>\n",
       "      <td>Atlético GO</td>\n",
       "      <td>Grêmio</td>\n",
       "      <td>D</td>\n",
       "      <td>2010-08-05</td>\n",
       "    </tr>\n",
       "    <tr>\n",
       "      <th>4</th>\n",
       "      <td>Atlético MG</td>\n",
       "      <td>Vasco</td>\n",
       "      <td>HW</td>\n",
       "      <td>2010-09-05</td>\n",
       "    </tr>\n",
       "  </tbody>\n",
       "</table>\n",
       "</div>"
      ],
      "text/plain": [
       "       home_team  away_team winner   datetime\n",
       "0      Palmeiras    Vitória     HW 2010-08-05\n",
       "1  Internacional   Cruzeiro     AW 2010-09-05\n",
       "2       Flamengo  São Paulo      D 2010-09-05\n",
       "3    Atlético GO     Grêmio      D 2010-08-05\n",
       "4    Atlético MG      Vasco     HW 2010-09-05"
      ]
     },
     "execution_count": 201,
     "metadata": {},
     "output_type": "execute_result"
    }
   ],
   "source": [
    "times.head()"
   ]
  },
  {
   "cell_type": "code",
   "execution_count": 103,
   "metadata": {},
   "outputs": [
    {
     "data": {
      "text/plain": [
       "home_team    winner\n",
       "América MG   HW         22\n",
       "             AW         18\n",
       "             D          17\n",
       "Atlético GO  AW         34\n",
       "             HW         25\n",
       "             D          17\n",
       "Atlético MG  HW        103\n",
       "             AW         36\n",
       "             D          32\n",
       "Atlético PR  HW         89\n",
       "             D          40\n",
       "             AW         23\n",
       "Avaí         D          26\n",
       "             HW         26\n",
       "             AW         24\n",
       "Bahia        HW         45\n",
       "             D          38\n",
       "             AW         31\n",
       "Botafogo     HW         76\n",
       "             D          44\n",
       "             AW         32\n",
       "Ceará        HW         23\n",
       "             D          22\n",
       "             AW         12\n",
       "Chapecoense  HW         44\n",
       "             D          26\n",
       "             AW         24\n",
       "Corinthians  HW        105\n",
       "             D          47\n",
       "             AW         19\n",
       "                      ... \n",
       "Palmeiras    HW         81\n",
       "             AW         38\n",
       "             D          33\n",
       "Paraná       D          10\n",
       "             AW          6\n",
       "             HW          3\n",
       "Ponte Preta  HW         46\n",
       "             AW         29\n",
       "             D          20\n",
       "Portuguesa   HW         16\n",
       "             D          15\n",
       "             AW          7\n",
       "Santa Cruz   AW         10\n",
       "             HW          7\n",
       "             D           2\n",
       "Santos       HW         99\n",
       "             D          44\n",
       "             AW         28\n",
       "Sport        HW         55\n",
       "             D          35\n",
       "             AW         24\n",
       "São Paulo    HW         93\n",
       "             D          47\n",
       "             AW         31\n",
       "Vasco        HW         59\n",
       "             D          43\n",
       "             AW         31\n",
       "Vitória      HW         42\n",
       "             AW         39\n",
       "             D          33\n",
       "Name: winner, Length: 99, dtype: int64"
      ]
     },
     "execution_count": 103,
     "metadata": {},
     "output_type": "execute_result"
    }
   ],
   "source": [
    "times.groupby(['home_team'])['winner'].value_counts()"
   ]
  },
  {
   "cell_type": "code",
   "execution_count": 202,
   "metadata": {},
   "outputs": [
    {
     "data": {
      "text/plain": [
       "away_team    winner\n",
       "América MG   HW        41\n",
       "             D         13\n",
       "             AW         3\n",
       "Atlético GO  HW        40\n",
       "             D         22\n",
       "             AW        14\n",
       "Atlético MG  HW        74\n",
       "             D         52\n",
       "             AW        44\n",
       "Atlético PR  HW        88\n",
       "             AW        32\n",
       "             D         32\n",
       "Avaí         HW        47\n",
       "             D         16\n",
       "             AW        13\n",
       "Bahia        HW        57\n",
       "             D         34\n",
       "             AW        23\n",
       "Botafogo     HW        74\n",
       "             AW        39\n",
       "             D         39\n",
       "Ceará        HW        32\n",
       "             D         18\n",
       "             AW         7\n",
       "Chapecoense  HW        49\n",
       "             D         28\n",
       "             AW        18\n",
       "Corinthians  HW        68\n",
       "             D         52\n",
       "             AW        51\n",
       "                       ..\n",
       "Palmeiras    HW        64\n",
       "             D         45\n",
       "             AW        43\n",
       "Paraná       HW        17\n",
       "             AW         1\n",
       "             D          1\n",
       "Ponte Preta  HW        51\n",
       "             D         31\n",
       "             AW        13\n",
       "Portuguesa   HW        20\n",
       "             D         12\n",
       "             AW         6\n",
       "Santa Cruz   HW        13\n",
       "             D          5\n",
       "             AW         1\n",
       "Santos       HW        82\n",
       "             D         47\n",
       "             AW        42\n",
       "Sport        HW        68\n",
       "             D         26\n",
       "             AW        20\n",
       "São Paulo    HW        76\n",
       "             AW        53\n",
       "             D         42\n",
       "Vasco        HW        59\n",
       "             D         41\n",
       "             AW        33\n",
       "Vitória      HW        59\n",
       "             D         30\n",
       "             AW        25\n",
       "Name: winner, Length: 99, dtype: int64"
      ]
     },
     "execution_count": 202,
     "metadata": {},
     "output_type": "execute_result"
    }
   ],
   "source": [
    "times.groupby(['away_team'])['winner'].value_counts()"
   ]
  },
  {
   "cell_type": "code",
   "execution_count": 87,
   "metadata": {},
   "outputs": [
    {
     "data": {
      "text/plain": [
       "winner  home_team     \n",
       "AW      Fluminense        41\n",
       "        Vitória           39\n",
       "        Palmeiras         38\n",
       "        Atlético MG       36\n",
       "        Atlético GO       34\n",
       "        Flamengo          34\n",
       "        Cruzeiro          33\n",
       "        Botafogo          32\n",
       "        Bahia             31\n",
       "        Coritiba          31\n",
       "        São Paulo         31\n",
       "        Vasco             31\n",
       "        Figueirense       29\n",
       "        Grêmio            29\n",
       "        Internacional     29\n",
       "        Ponte Preta       29\n",
       "        Santos            28\n",
       "        Goiás             25\n",
       "        Avaí              24\n",
       "        Chapecoense       24\n",
       "        Sport             24\n",
       "        Atlético PR       23\n",
       "        Corinthians       19\n",
       "        América MG        18\n",
       "        Náutico           16\n",
       "        Criciúma          14\n",
       "        Ceará             12\n",
       "        Santa Cruz        10\n",
       "        Grêmio Barueri     9\n",
       "        Portuguesa         7\n",
       "                          ..\n",
       "HW      Santos            99\n",
       "        Cruzeiro          94\n",
       "        São Paulo         93\n",
       "        Atlético PR       89\n",
       "        Fluminense        88\n",
       "        Internacional     87\n",
       "        Flamengo          85\n",
       "        Palmeiras         81\n",
       "        Botafogo          76\n",
       "        Coritiba          66\n",
       "        Vasco             59\n",
       "        Sport             55\n",
       "        Ponte Preta       46\n",
       "        Bahia             45\n",
       "        Chapecoense       44\n",
       "        Vitória           42\n",
       "        Figueirense       34\n",
       "        Goiás             32\n",
       "        Avaí              26\n",
       "        Atlético GO       25\n",
       "        Ceará             23\n",
       "        América MG        22\n",
       "        Náutico           16\n",
       "        Portuguesa        16\n",
       "        Criciúma          15\n",
       "        Guarani            7\n",
       "        Santa Cruz         7\n",
       "        Joinville          6\n",
       "        Grêmio Barueri     5\n",
       "        Paraná             3\n",
       "Name: home_team, Length: 99, dtype: int64"
      ]
     },
     "execution_count": 87,
     "metadata": {},
     "output_type": "execute_result"
    }
   ],
   "source": [
    "times.groupby(['winner'])['home_team'].value_counts()"
   ]
  },
  {
   "cell_type": "code",
   "execution_count": 204,
   "metadata": {},
   "outputs": [
    {
     "data": {
      "text/plain": [
       "winner  away_team     \n",
       "AW      Cruzeiro          57\n",
       "        Fluminense        53\n",
       "        São Paulo         53\n",
       "        Corinthians       51\n",
       "        Grêmio            51\n",
       "        Flamengo          48\n",
       "        Atlético MG       44\n",
       "        Palmeiras         43\n",
       "        Santos            42\n",
       "        Botafogo          39\n",
       "        Internacional     37\n",
       "        Vasco             33\n",
       "        Atlético PR       32\n",
       "        Vitória           25\n",
       "        Bahia             23\n",
       "        Coritiba          21\n",
       "        Figueirense       20\n",
       "        Sport             20\n",
       "        Chapecoense       18\n",
       "        Goiás             15\n",
       "        Atlético GO       14\n",
       "        Avaí              13\n",
       "        Ponte Preta       13\n",
       "        Ceará              7\n",
       "        Portuguesa         6\n",
       "        Criciúma           5\n",
       "        América MG         3\n",
       "        Náutico            3\n",
       "        Grêmio Barueri     2\n",
       "        Guarani            1\n",
       "                          ..\n",
       "HW      Fluminense        76\n",
       "        São Paulo         76\n",
       "        Cruzeiro          75\n",
       "        Atlético MG       74\n",
       "        Botafogo          74\n",
       "        Flamengo          70\n",
       "        Corinthians       68\n",
       "        Sport             68\n",
       "        Grêmio            66\n",
       "        Internacional     64\n",
       "        Palmeiras         64\n",
       "        Vasco             59\n",
       "        Vitória           59\n",
       "        Bahia             57\n",
       "        Figueirense       54\n",
       "        Ponte Preta       51\n",
       "        Chapecoense       49\n",
       "        Avaí              47\n",
       "        Goiás             44\n",
       "        América MG        41\n",
       "        Atlético GO       40\n",
       "        Ceará             32\n",
       "        Náutico           29\n",
       "        Criciúma          24\n",
       "        Portuguesa        20\n",
       "        Paraná            17\n",
       "        Joinville         15\n",
       "        Guarani           14\n",
       "        Santa Cruz        13\n",
       "        Grêmio Barueri    12\n",
       "Name: away_team, Length: 99, dtype: int64"
      ]
     },
     "execution_count": 204,
     "metadata": {},
     "output_type": "execute_result"
    }
   ],
   "source": [
    "times.groupby(['winner'])['away_team'].value_counts()"
   ]
  },
  {
   "cell_type": "code",
   "execution_count": 207,
   "metadata": {},
   "outputs": [],
   "source": [
    "temp=times.groupby(['winner'])['home_team'].value_counts()"
   ]
  },
  {
   "cell_type": "code",
   "execution_count": 114,
   "metadata": {},
   "outputs": [],
   "source": [
    "temp2=pd.DataFrame(temp)"
   ]
  },
  {
   "cell_type": "code",
   "execution_count": 121,
   "metadata": {},
   "outputs": [],
   "source": [
    "temp2=temp2.rename(columns={'home_team':'#_vitorias'})"
   ]
  },
  {
   "cell_type": "code",
   "execution_count": 123,
   "metadata": {},
   "outputs": [],
   "source": [
    "temp2=temp2.reset_index()"
   ]
  },
  {
   "cell_type": "code",
   "execution_count": 174,
   "metadata": {},
   "outputs": [
    {
     "data": {
      "text/plain": [
       "<matplotlib.axes._subplots.AxesSubplot at 0x202c38c6b00>"
      ]
     },
     "execution_count": 174,
     "metadata": {},
     "output_type": "execute_result"
    },
    {
     "data": {
      "image/png": "[encoded data removed]",
      "text/plain": [
       "<Figure size 432x288 with 1 Axes>"
      ]
     },
     "metadata": {
      "needs_background": "light"
     },
     "output_type": "display_data"
    }
   ],
   "source": [
    "temp2[temp2['home_team']=='Palmeiras'].plot.bar()"
   ]
  },
  {
   "cell_type": "code",
   "execution_count": 154,
   "metadata": {},
   "outputs": [],
   "source": [
    "vitorias_hw=temp2[temp2['winner']=='HW']"
   ]
  },
  {
   "cell_type": "code",
   "execution_count": 198,
   "metadata": {},
   "outputs": [
    {
     "data": {
      "text/plain": [
       "<matplotlib.axes._subplots.AxesSubplot at 0x202ca8c6320>"
      ]
     },
     "execution_count": 198,
     "metadata": {},
     "output_type": "execute_result"
    },
    {
     "data": {
      "image/png": "[encoded data removed]",
      "text/plain": [
       "<Figure size 1440x1080 with 1 Axes>"
      ]
     },
     "metadata": {
      "needs_background": "light"
     },
     "output_type": "display_data"
    }
   ],
   "source": [
    "vitorias_hw.set_index('home_team').plot.barh(figsize=(20,15), title='Vitorias em casa')"
   ]
  },
  {
   "cell_type": "code",
   "execution_count": 208,
   "metadata": {},
   "outputs": [],
   "source": [
    "temp3=times.groupby(['winner'])['away_team'].value_counts()"
   ]
  },
  {
   "cell_type": "code",
   "execution_count": 209,
   "metadata": {},
   "outputs": [],
   "source": [
    "temp3=pd.DataFrame(temp3)"
   ]
  },
  {
   "cell_type": "code",
   "execution_count": 211,
   "metadata": {},
   "outputs": [],
   "source": [
    "temp3=temp3.rename(columns={'away_team':'#_vitorias'})"
   ]
  },
  {
   "cell_type": "code",
   "execution_count": 216,
   "metadata": {},
   "outputs": [],
   "source": [
    "temp3=temp3.reset_index()"
   ]
  },
  {
   "cell_type": "code",
   "execution_count": 218,
   "metadata": {},
   "outputs": [],
   "source": [
    "vitorias_aw=temp3[temp3['winner']=='AW']"
   ]
  },
  {
   "cell_type": "code",
   "execution_count": 219,
   "metadata": {},
   "outputs": [
    {
     "data": {
      "text/plain": [
       "<matplotlib.axes._subplots.AxesSubplot at 0x202cd0c6d68>"
      ]
     },
     "execution_count": 219,
     "metadata": {},
     "output_type": "execute_result"
    },
    {
     "data": {
      "image/png": "[encoded data removed]",
      "text/plain": [
       "<Figure size 1440x720 with 1 Axes>"
      ]
     },
     "metadata": {
      "needs_background": "light"
     },
     "output_type": "display_data"
    }
   ],
   "source": [
    "vitorias_aw.set_index('away_team').plot.barh(figsize=(20,10),title='Vitorias fora casa')"
   ]
  },
  {
   "cell_type": "code",
   "execution_count": null,
   "metadata": {},
   "outputs": [],
   "source": []
  },
  {
   "cell_type": "code",
   "execution_count": null,
   "metadata": {},
   "outputs": [],
   "source": []
  },
  {
   "cell_type": "code",
   "execution_count": null,
   "metadata": {},
   "outputs": [],
   "source": []
  },
  {
   "cell_type": "code",
   "execution_count": null,
   "metadata": {},
   "outputs": [],
   "source": []
  },
  {
   "cell_type": "code",
   "execution_count": null,
   "metadata": {},
   "outputs": [],
   "source": []
  }
 ],
 "metadata": {
  "kernelspec": {
   "display_name": "Python 3",
   "language": "python",
   "name": "python3"
  },
  "language_info": {
   "codemirror_mode": {
    "name": "ipython",
    "version": 3
   },
   "file_extension": ".py",
   "mimetype": "text/x-python",
   "name": "python",
   "nbconvert_exporter": "python",
   "pygments_lexer": "ipython3",
   "version": "3.7.3"
  }
 },
 "nbformat": 4,
 "nbformat_minor": 2
}
