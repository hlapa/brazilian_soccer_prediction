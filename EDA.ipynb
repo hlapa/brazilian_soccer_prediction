{
 "cells": [
  {
   "cell_type": "code",
   "execution_count": 23,
   "metadata": {},
   "outputs": [],
   "source": [
    "import pandas as pd\n",
    "import matplotlib as plt"
   ]
  },
  {
   "cell_type": "code",
   "execution_count": 2,
   "metadata": {},
   "outputs": [],
   "source": [
    "df=pd.read_pickle('data/soccerDBNew2_n.pkl')"
   ]
  },
  {
   "cell_type": "code",
   "execution_count": 7,
   "metadata": {},
   "outputs": [],
   "source": [
    "eda=df[['home_team', 'away_team', 'home_team_score', 'away_team_score','city','datetime','game']]"
   ]
  },
  {
   "cell_type": "code",
   "execution_count": 19,
   "metadata": {},
   "outputs": [
    {
     "name": "stderr",
     "output_type": "stream",
     "text": [
      "C:\\ProgramData\\Anaconda3\\lib\\site-packages\\ipykernel_launcher.py:1: SettingWithCopyWarning: \n",
      "A value is trying to be set on a copy of a slice from a DataFrame.\n",
      "Try using .loc[row_indexer,col_indexer] = value instead\n",
      "\n",
      "See the caveats in the documentation: http://pandas.pydata.org/pandas-docs/stable/indexing.html#indexing-view-versus-copy\n",
      "  \"\"\"Entry point for launching an IPython kernel.\n"
     ]
    }
   ],
   "source": [
    "eda['winner']=1"
   ]
  },
  {
   "cell_type": "code",
   "execution_count": 21,
   "metadata": {},
   "outputs": [
    {
     "name": "stderr",
     "output_type": "stream",
     "text": [
      "C:\\ProgramData\\Anaconda3\\lib\\site-packages\\ipykernel_launcher.py:4: SettingWithCopyWarning: \n",
      "A value is trying to be set on a copy of a slice from a DataFrame\n",
      "\n",
      "See the caveats in the documentation: http://pandas.pydata.org/pandas-docs/stable/indexing.html#indexing-view-versus-copy\n",
      "  after removing the cwd from sys.path.\n",
      "C:\\ProgramData\\Anaconda3\\lib\\site-packages\\ipykernel_launcher.py:6: SettingWithCopyWarning: \n",
      "A value is trying to be set on a copy of a slice from a DataFrame\n",
      "\n",
      "See the caveats in the documentation: http://pandas.pydata.org/pandas-docs/stable/indexing.html#indexing-view-versus-copy\n",
      "  \n",
      "C:\\ProgramData\\Anaconda3\\lib\\site-packages\\ipykernel_launcher.py:8: SettingWithCopyWarning: \n",
      "A value is trying to be set on a copy of a slice from a DataFrame\n",
      "\n",
      "See the caveats in the documentation: http://pandas.pydata.org/pandas-docs/stable/indexing.html#indexing-view-versus-copy\n",
      "  \n"
     ]
    }
   ],
   "source": [
    "contador=0\n",
    "for n in range (3419):\n",
    "    if eda['home_team_score'][contador] > eda['away_team_score'][contador]:\n",
    "        eda['winner'][contador]='HW'\n",
    "    elif eda['home_team_score'][contador] < eda['away_team_score'][contador]:\n",
    "        eda['winner'][contador]='AW'\n",
    "    else:\n",
    "        eda['winner'][contador]='D'\n",
    "    contador+=1"
   ]
  },
  {
   "cell_type": "code",
   "execution_count": 22,
   "metadata": {},
   "outputs": [
    {
     "data": {
      "text/html": [
       "<div>\n",
       "<style scoped>\n",
       "    .dataframe tbody tr th:only-of-type {\n",
       "        vertical-align: middle;\n",
       "    }\n",
       "\n",
       "    .dataframe tbody tr th {\n",
       "        vertical-align: top;\n",
       "    }\n",
       "\n",
       "    .dataframe thead th {\n",
       "        text-align: right;\n",
       "    }\n",
       "</style>\n",
       "<table border=\"1\" class=\"dataframe\">\n",
       "  <thead>\n",
       "    <tr style=\"text-align: right;\">\n",
       "      <th></th>\n",
       "      <th>home_team</th>\n",
       "      <th>away_team</th>\n",
       "      <th>home_team_score</th>\n",
       "      <th>away_team_score</th>\n",
       "      <th>city</th>\n",
       "      <th>datetime</th>\n",
       "      <th>game</th>\n",
       "      <th>winner</th>\n",
       "    </tr>\n",
       "  </thead>\n",
       "  <tbody>\n",
       "    <tr>\n",
       "      <th>0</th>\n",
       "      <td>Palmeiras</td>\n",
       "      <td>Vitória</td>\n",
       "      <td>1</td>\n",
       "      <td>0</td>\n",
       "      <td>São Paulo, São Paulo</td>\n",
       "      <td>2010-08-05</td>\n",
       "      <td>1</td>\n",
       "      <td>HW</td>\n",
       "    </tr>\n",
       "    <tr>\n",
       "      <th>1</th>\n",
       "      <td>Internacional</td>\n",
       "      <td>Cruzeiro</td>\n",
       "      <td>1</td>\n",
       "      <td>2</td>\n",
       "      <td>Porto Alegre, Rio Grande do Sul</td>\n",
       "      <td>2010-09-05</td>\n",
       "      <td>1</td>\n",
       "      <td>AW</td>\n",
       "    </tr>\n",
       "    <tr>\n",
       "      <th>2</th>\n",
       "      <td>Flamengo</td>\n",
       "      <td>São Paulo</td>\n",
       "      <td>1</td>\n",
       "      <td>1</td>\n",
       "      <td>Rio de Janeiro, Rio de Janeiro</td>\n",
       "      <td>2010-09-05</td>\n",
       "      <td>1</td>\n",
       "      <td>D</td>\n",
       "    </tr>\n",
       "    <tr>\n",
       "      <th>3</th>\n",
       "      <td>Atlético GO</td>\n",
       "      <td>Grêmio</td>\n",
       "      <td>0</td>\n",
       "      <td>0</td>\n",
       "      <td>Goiânia, Goiás</td>\n",
       "      <td>2010-08-05</td>\n",
       "      <td>1</td>\n",
       "      <td>D</td>\n",
       "    </tr>\n",
       "    <tr>\n",
       "      <th>4</th>\n",
       "      <td>Atlético MG</td>\n",
       "      <td>Vasco</td>\n",
       "      <td>2</td>\n",
       "      <td>1</td>\n",
       "      <td>Belo Horizonte, Minas Gerais</td>\n",
       "      <td>2010-09-05</td>\n",
       "      <td>1</td>\n",
       "      <td>HW</td>\n",
       "    </tr>\n",
       "  </tbody>\n",
       "</table>\n",
       "</div>"
      ],
      "text/plain": [
       "       home_team  away_team home_team_score away_team_score  \\\n",
       "0      Palmeiras    Vitória               1               0   \n",
       "1  Internacional   Cruzeiro               1               2   \n",
       "2       Flamengo  São Paulo               1               1   \n",
       "3    Atlético GO     Grêmio               0               0   \n",
       "4    Atlético MG      Vasco               2               1   \n",
       "\n",
       "                              city   datetime game winner  \n",
       "0             São Paulo, São Paulo 2010-08-05    1     HW  \n",
       "1  Porto Alegre, Rio Grande do Sul 2010-09-05    1     AW  \n",
       "2   Rio de Janeiro, Rio de Janeiro 2010-09-05    1      D  \n",
       "3                   Goiânia, Goiás 2010-08-05    1      D  \n",
       "4     Belo Horizonte, Minas Gerais 2010-09-05    1     HW  "
      ]
     },
     "execution_count": 22,
     "metadata": {},
     "output_type": "execute_result"
    }
   ],
   "source": [
    "eda.hea"
   ]
  },
  {
   "cell_type": "markdown",
   "metadata": {},
   "source": [
    "# Proporção de vitórias por mando"
   ]
  },
  {
   "cell_type": "code",
   "execution_count": 45,
   "metadata": {},
   "outputs": [
    {
     "data": {
      "text/plain": [
       "<matplotlib.axes._subplots.AxesSubplot at 0x1c5f56aadd8>"
      ]
     },
     "execution_count": 45,
     "metadata": {},
     "output_type": "execute_result"
    },
    {
     "data": {
      "image/png": "[encoded data removed]",
      "text/plain": [
       "<Figure size 432x288 with 1 Axes>"
      ]
     },
     "metadata": {
      "needs_background": "light"
     },
     "output_type": "display_data"
    }
   ],
   "source": [
    "eda['winner'].value_counts().plot.bar()"
   ]
  },
  {
   "cell_type": "code",
   "execution_count": 50,
   "metadata": {},
   "outputs": [],
   "source": [
    "times=eda[['home_team','winner','datetime']]"
   ]
  },
  {
   "cell_type": "code",
   "execution_count": 71,
   "metadata": {},
   "outputs": [
    {
     "name": "stderr",
     "output_type": "stream",
     "text": [
      "C:\\ProgramData\\Anaconda3\\lib\\site-packages\\ipykernel_launcher.py:1: SettingWithCopyWarning: \n",
      "A value is trying to be set on a copy of a slice from a DataFrame.\n",
      "Try using .loc[row_indexer,col_indexer] = value instead\n",
      "\n",
      "See the caveats in the documentation: http://pandas.pydata.org/pandas-docs/stable/indexing.html#indexing-view-versus-copy\n",
      "  \"\"\"Entry point for launching an IPython kernel.\n",
      "C:\\ProgramData\\Anaconda3\\lib\\site-packages\\ipykernel_launcher.py:2: SettingWithCopyWarning: \n",
      "A value is trying to be set on a copy of a slice from a DataFrame.\n",
      "Try using .loc[row_indexer,col_indexer] = value instead\n",
      "\n",
      "See the caveats in the documentation: http://pandas.pydata.org/pandas-docs/stable/indexing.html#indexing-view-versus-copy\n",
      "  \n"
     ]
    }
   ],
   "source": [
    "times['score_home']=0\n",
    "times['score_away']=0"
   ]
  },
  {
   "cell_type": "code",
   "execution_count": 116,
   "metadata": {},
   "outputs": [
    {
     "data": {
      "text/html": [
       "<div>\n",
       "<style scoped>\n",
       "    .dataframe tbody tr th:only-of-type {\n",
       "        vertical-align: middle;\n",
       "    }\n",
       "\n",
       "    .dataframe tbody tr th {\n",
       "        vertical-align: top;\n",
       "    }\n",
       "\n",
       "    .dataframe thead th {\n",
       "        text-align: right;\n",
       "    }\n",
       "</style>\n",
       "<table border=\"1\" class=\"dataframe\">\n",
       "  <thead>\n",
       "    <tr style=\"text-align: right;\">\n",
       "      <th></th>\n",
       "      <th>home_team</th>\n",
       "      <th>winner</th>\n",
       "      <th>datetime</th>\n",
       "    </tr>\n",
       "  </thead>\n",
       "  <tbody>\n",
       "    <tr>\n",
       "      <th>0</th>\n",
       "      <td>Palmeiras</td>\n",
       "      <td>HW</td>\n",
       "      <td>2010-08-05</td>\n",
       "    </tr>\n",
       "    <tr>\n",
       "      <th>1</th>\n",
       "      <td>Internacional</td>\n",
       "      <td>AW</td>\n",
       "      <td>2010-09-05</td>\n",
       "    </tr>\n",
       "    <tr>\n",
       "      <th>2</th>\n",
       "      <td>Flamengo</td>\n",
       "      <td>D</td>\n",
       "      <td>2010-09-05</td>\n",
       "    </tr>\n",
       "    <tr>\n",
       "      <th>3</th>\n",
       "      <td>Atlético GO</td>\n",
       "      <td>D</td>\n",
       "      <td>2010-08-05</td>\n",
       "    </tr>\n",
       "    <tr>\n",
       "      <th>4</th>\n",
       "      <td>Atlético MG</td>\n",
       "      <td>HW</td>\n",
       "      <td>2010-09-05</td>\n",
       "    </tr>\n",
       "  </tbody>\n",
       "</table>\n",
       "</div>"
      ],
      "text/plain": [
       "       home_team winner   datetime\n",
       "0      Palmeiras     HW 2010-08-05\n",
       "1  Internacional     AW 2010-09-05\n",
       "2       Flamengo      D 2010-09-05\n",
       "3    Atlético GO      D 2010-08-05\n",
       "4    Atlético MG     HW 2010-09-05"
      ]
     },
     "execution_count": 116,
     "metadata": {},
     "output_type": "execute_result"
    }
   ],
   "source": [
    "times.head()"
   ]
  },
  {
   "cell_type": "code",
   "execution_count": 200,
   "metadata": {},
   "outputs": [],
   "source": [
    "temp=times.groupby(['home_team'])['winner'].value_counts()"
   ]
  },
  {
   "cell_type": "code",
   "execution_count": 204,
   "metadata": {},
   "outputs": [
    {
     "data": {
      "text/plain": [
       "home_team    winner\n",
       "América MG   HW         22\n",
       "             AW         18\n",
       "             D          17\n",
       "Atlético GO  AW         34\n",
       "             HW         25\n",
       "             D          17\n",
       "Atlético MG  HW        103\n",
       "             AW         36\n",
       "             D          32\n",
       "Atlético PR  HW         89\n",
       "             D          40\n",
       "             AW         23\n",
       "Avaí         D          26\n",
       "             HW         26\n",
       "             AW         24\n",
       "Bahia        HW         45\n",
       "             D          38\n",
       "             AW         31\n",
       "Botafogo     HW         76\n",
       "             D          44\n",
       "             AW         32\n",
       "Ceará        HW         23\n",
       "             D          22\n",
       "             AW         12\n",
       "Chapecoense  HW         44\n",
       "             D          26\n",
       "             AW         24\n",
       "Corinthians  HW        105\n",
       "             D          47\n",
       "             AW         19\n",
       "                      ... \n",
       "Palmeiras    HW         81\n",
       "             AW         38\n",
       "             D          33\n",
       "Paraná       D          10\n",
       "             AW          6\n",
       "             HW          3\n",
       "Ponte Preta  HW         46\n",
       "             AW         29\n",
       "             D          20\n",
       "Portuguesa   HW         16\n",
       "             D          15\n",
       "             AW          7\n",
       "Santa Cruz   AW         10\n",
       "             HW          7\n",
       "             D           2\n",
       "Santos       HW         99\n",
       "             D          44\n",
       "             AW         28\n",
       "Sport        HW         55\n",
       "             D          35\n",
       "             AW         24\n",
       "São Paulo    HW         93\n",
       "             D          47\n",
       "             AW         31\n",
       "Vasco        HW         59\n",
       "             D          43\n",
       "             AW         31\n",
       "Vitória      HW         42\n",
       "             AW         39\n",
       "             D          33\n",
       "Name: winner, Length: 99, dtype: int64"
      ]
     },
     "execution_count": 204,
     "metadata": {},
     "output_type": "execute_result"
    }
   ],
   "source": [
    "temp"
   ]
  },
  {
   "cell_type": "code",
   "execution_count": null,
   "metadata": {},
   "outputs": [],
   "source": []
  }
 ],
 "metadata": {
  "kernelspec": {
   "display_name": "Python 3",
   "language": "python",
   "name": "python3"
  },
  "language_info": {
   "codemirror_mode": {
    "name": "ipython",
    "version": 3
   },
   "file_extension": ".py",
   "mimetype": "text/x-python",
   "name": "python",
   "nbconvert_exporter": "python",
   "pygments_lexer": "ipython3",
   "version": "3.7.3"
  }
 },
 "nbformat": 4,
 "nbformat_minor": 2
}
