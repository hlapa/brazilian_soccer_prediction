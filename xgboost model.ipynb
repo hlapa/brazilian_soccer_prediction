{
 "cells": [
  {
   "cell_type": "code",
   "execution_count": 16,
   "metadata": {},
   "outputs": [],
   "source": [
    "import pandas as pd\n",
    "from xgboost import XGBClassifier\n",
    "import time\n",
    "from sklearn import metrics\n",
    "import shap\n",
    "import numpy as np\n",
    "from xgboost import plot_importance"
   ]
  },
  {
   "cell_type": "code",
   "execution_count": 17,
   "metadata": {},
   "outputs": [],
   "source": [
    "df = pd.read_csv('soccerDB5.csv')"
   ]
  },
  {
   "cell_type": "code",
   "execution_count": 18,
   "metadata": {},
   "outputs": [],
   "source": [
    "df.drop(columns=['Unnamed: 0', 'Unnamed: 0.1'], inplace=True)"
   ]
  },
  {
   "cell_type": "code",
   "execution_count": 19,
   "metadata": {},
   "outputs": [],
   "source": [
    "df.drop(columns=['home_player_1',\n",
    " 'home_player_2',\n",
    " 'home_player_3',\n",
    " 'home_player_4',\n",
    " 'home_player_5',\n",
    " 'home_player_6',\n",
    " 'home_player_7',\n",
    " 'home_player_8',\n",
    " 'home_player_9',\n",
    " 'home_player_10',\n",
    " 'home_player_11',\n",
    " 'away_player_1',\n",
    " 'away_player_2',\n",
    " 'away_player_3',\n",
    " 'away_player_4',\n",
    " 'away_player_5',\n",
    " 'away_player_6',\n",
    " 'away_player_7',\n",
    " 'away_player_8',\n",
    " 'away_player_9',\n",
    " 'away_player_10',\n",
    " 'away_player_11',\n",
    " 'sub_home_player_1',\n",
    " 'sub_home_player_2',\n",
    " 'sub_home_player_3',\n",
    " 'sub_home_player_4',\n",
    " 'sub_home_player_5',\n",
    " 'sub_home_player_6',\n",
    " 'sub_home_player_7',\n",
    " 'sub_home_player_8',\n",
    " 'sub_home_player_9',\n",
    " 'sub_home_player_10',\n",
    " 'sub_home_player_11',\n",
    " 'sub_home_player_12',\n",
    " 'sub_away_player_1',\n",
    " 'sub_away_player_2',\n",
    " 'sub_away_player_3',\n",
    " 'sub_away_player_4',\n",
    " 'sub_away_player_5',\n",
    " 'sub_away_player_6',\n",
    " 'sub_away_player_7',\n",
    " 'sub_away_player_8',\n",
    " 'sub_away_player_9',\n",
    " 'sub_away_player_10',\n",
    " 'sub_away_player_11',\n",
    " 'sub_away_player_12',\n",
    " 'city',\n",
    " 'referee',\n",
    " 'stadium'], inplace=True)"
   ]
  },
  {
   "cell_type": "code",
   "execution_count": 20,
   "metadata": {},
   "outputs": [
    {
     "data": {
      "text/plain": [
       "array(['a_Ataques', 'a_Ataques perigosos', 'a_Cartões amarelos',\n",
       "       'a_Cartões vermelhos', 'a_chutes_a_gol', 'a_Chutes ao ferro',\n",
       "       'a_Chutes bloqueados', 'a_Chutes fora', 'a_Escanteios', 'a_Faltas',\n",
       "       'a_Gols', 'a_Impedimentos', 'a_Laterais', 'a_Pênaltis',\n",
       "       'a_Segundo cartão amarelo', 'a_Substituições', 'a_Tiros de meta',\n",
       "       'a_Tiros-livres', 'at_current_classification',\n",
       "       'at_current_draws_away', 'at_current_draws_global',\n",
       "       'at_current_draws_home', 'at_current_loss_away',\n",
       "       'at_current_loss_global', 'at_current_loss_home',\n",
       "       'at_current_wins_away', 'at_current_wins_global',\n",
       "       'at_current_wins_home', 'at_games_without_draw_away',\n",
       "       'at_games_without_draw_global', 'at_games_without_draw_home',\n",
       "       'at_games_without_lose_away', 'at_games_without_lose_global',\n",
       "       'at_games_without_lose_home', 'at_games_without_win_away',\n",
       "       'at_games_without_win_global', 'at_games_without_win_home',\n",
       "       'away_team', 'away_team_score', 'datetime', 'h_Ataques',\n",
       "       'h_Ataques perigosos', 'h_Cartões amarelos', 'h_Cartões vermelhos',\n",
       "       'h_chutes_a_gol', 'h_Chutes ao ferro', 'h_Chutes bloqueados',\n",
       "       'h_Chutes fora', 'h_Escanteios', 'h_Faltas', 'h_Gols',\n",
       "       'h_Impedimentos', 'h_Laterais', 'possession', 'h_Pênaltis',\n",
       "       'h_Segundo cartão amarelo', 'h_Substituições', 'h_Tiros de meta',\n",
       "       'h_Tiros-livres', 'home_team', 'home_team_score',\n",
       "       'ht_current_classification', 'ht_current_draws_away',\n",
       "       'ht_current_draws_global', 'ht_current_draws_home',\n",
       "       'ht_current_loss_away', 'ht_current_loss_global',\n",
       "       'ht_current_loss_home', 'ht_current_wins_away',\n",
       "       'ht_current_wins_global', 'ht_current_wins_home',\n",
       "       'ht_games_without_draw_away', 'ht_games_without_draw_global',\n",
       "       'ht_games_without_draw_home', 'ht_games_without_lose_away',\n",
       "       'ht_games_without_lose_global', 'ht_games_without_lose_home',\n",
       "       'ht_games_without_win_away', 'ht_games_without_win_global',\n",
       "       'ht_games_without_win_home', 'round', 'result', 'int_date',\n",
       "       'ht_eff_of', 'at_eff_of', 'home_score_history',\n",
       "       'conceded_score_history'], dtype=object)"
      ]
     },
     "execution_count": 20,
     "metadata": {},
     "output_type": "execute_result"
    }
   ],
   "source": [
    "df.columns.values"
   ]
  },
  {
   "cell_type": "code",
   "execution_count": 21,
   "metadata": {},
   "outputs": [],
   "source": [
    "categorical_features_no_players=['away_team',\n",
    " 'home_team']"
   ]
  },
  {
   "cell_type": "code",
   "execution_count": 22,
   "metadata": {},
   "outputs": [],
   "source": [
    "df.datetime = pd.to_datetime(df.datetime, format='%Y-%m-%d')"
   ]
  },
  {
   "cell_type": "code",
   "execution_count": 23,
   "metadata": {},
   "outputs": [],
   "source": [
    "def to_integer(dt_time):\n",
    "    return dt_time.dt.day + 100*dt_time.dt.month + 10000*dt_time.dt.year"
   ]
  },
  {
   "cell_type": "code",
   "execution_count": 24,
   "metadata": {},
   "outputs": [
    {
     "name": "stdout",
     "output_type": "stream",
     "text": [
      "CPU times: user 5.69 ms, sys: 0 ns, total: 5.69 ms\n",
      "Wall time: 6.69 ms\n"
     ]
    }
   ],
   "source": [
    "%%time\n",
    "df.datetime = to_integer(df.datetime)"
   ]
  },
  {
   "cell_type": "code",
   "execution_count": 25,
   "metadata": {},
   "outputs": [],
   "source": [
    "# def runModel(df, categorical_features):\n",
    "#     t0 = time.time()    \n",
    "#     data = df.drop(columns=['home_team_score','away_team_score', 'a_Gols', 'h_Gols', 'result'])\n",
    "#     label = df['result']\n",
    "#     data = pd.get_dummies(data, dummy_na=True, columns=categorical_features)\n",
    "#     print(data.shape)\n",
    "#     a = round(len(df)*.8)\n",
    "#     X_train, X_test, y_train, y_test = data[0:a], data[a:], label[0:a], label[a:]\n",
    "#     params = {\n",
    "#         'max_depth': 10,\n",
    "#         'objective': 'multi:softmax',  # error evaluation for multiclass training\n",
    "#         'num_class': 3,   \n",
    "#     }\n",
    "#     model = XGBClassifier(param=params,nthread=-1)\n",
    "#     model.fit(X_train, y_train)\n",
    "#     pred = model.predict(X_test)\n",
    "#     cm = metrics.confusion_matrix(y_test, pred)\n",
    "#     print ('run time: ', time.time()-t0,'s')\n",
    "#     print(\"Accuracy:\",metrics.accuracy_score(y_test, pred))\n",
    "#     print (cm)\n",
    "#     ax = plot_importance(model, max_num_features=1000)\n",
    "#     fig = ax.figure\n",
    "#     fig.set_size_inches(18,100)"
   ]
  },
  {
   "cell_type": "code",
   "execution_count": 26,
   "metadata": {},
   "outputs": [],
   "source": [
    "from sklearn.model_selection import GridSearchCV"
   ]
  },
  {
   "cell_type": "code",
   "execution_count": 37,
   "metadata": {},
   "outputs": [],
   "source": [
    "def runModel(df, categorical_features):\n",
    "    t0 = time.time()    \n",
    "    data = df.drop(columns=['home_team_score','away_team_score', 'a_Gols', 'h_Gols', 'result'])\n",
    "    label = df['result']\n",
    "    data = pd.get_dummies(data, dummy_na=True, columns=categorical_features)\n",
    "    print(data.shape)\n",
    "    a = round(len(df)*.8)\n",
    "    X_train, X_test, y_train, y_test = data[0:a], data[a:], label[0:a], label[a:]\n",
    "    gbm_param_grid = {\n",
    "        'learning_rate':[0.01, 0.1, 0.5 ,0.9 , 1],\n",
    "        'n_estimators':[200],\n",
    "        'colsample_bytree':[0.01, 0.1, 0.5, 1],\n",
    "        'max_depth': [6, 10, 15, 20],\n",
    "        'gamma': [0, 1, 2, 3],\n",
    "        'lambda': [1, 3, 5, 7]\n",
    "    }\n",
    "#     params = {\n",
    "#         'objective': 'multi:softmax',  # error evaluation for multiclass training\n",
    "#         'num_class': 3,   \n",
    "#     }\n",
    "    model = XGBClassifier(nthread=-1)\n",
    "    grid_mse = GridSearchCV(estimator=model, param_grid=gbm_param_grid, scoring='accuracy', cv=4, verbose=1)\n",
    "    grid_mse.fit(X_train, y_train)\n",
    "    pred = grid_mse.predict(X_test)\n",
    "    cm = metrics.confusion_matrix(y_test, pred)\n",
    "    print ('run time: ', time.time()-t0,'s')\n",
    "    print(\"Accuracy:\",metrics.accuracy_score(y_test, pred))\n",
    "    print (cm)\n",
    "    ax = plot_importance(model, max_num_features=1000)\n",
    "    fig = ax.figure\n",
    "    fig.set_size_inches(18,100)"
   ]
  },
  {
   "cell_type": "code",
   "execution_count": 38,
   "metadata": {
    "scrolled": true
   },
   "outputs": [
    {
     "name": "stdout",
     "output_type": "stream",
     "text": [
      "(2271, 144)\n",
      "Fitting 4 folds for each of 1280 candidates, totalling 5120 fits\n"
     ]
    },
    {
     "name": "stderr",
     "output_type": "stream",
     "text": [
      "[Parallel(n_jobs=1)]: Using backend SequentialBackend with 1 concurrent workers.\n",
      "[Parallel(n_jobs=1)]: Done 5120 out of 5120 | elapsed: 211.7min finished\n",
      "/home/renan/anaconda3/lib/python3.7/site-packages/sklearn/model_selection/_search.py:841: DeprecationWarning: The default of the `iid` parameter will change from True to False in version 0.22 and will be removed in 0.24. This will change numeric results when test-set sizes are unequal.\n",
      "  DeprecationWarning)\n"
     ]
    },
    {
     "name": "stdout",
     "output_type": "stream",
     "text": [
      "run time:  12703.292353391647 s\n",
      "Accuracy: 0.5374449339207048\n",
      "[[  3  10 119]\n",
      " [  5  10  70]\n",
      " [  2   4 231]]\n"
     ]
    },
    {
     "ename": "XGBoostError",
     "evalue": "need to call fit or load_model beforehand",
     "output_type": "error",
     "traceback": [
      "\u001b[0;31m---------------------------------------------------------------------------\u001b[0m",
      "\u001b[0;31mXGBoostError\u001b[0m                              Traceback (most recent call last)",
      "\u001b[0;32m<timed exec>\u001b[0m in \u001b[0;36m<module>\u001b[0;34m\u001b[0m\n",
      "\u001b[0;32m<ipython-input-37-dadbabf596a9>\u001b[0m in \u001b[0;36mrunModel\u001b[0;34m(df, categorical_features)\u001b[0m\n\u001b[1;32m     27\u001b[0m     \u001b[0mprint\u001b[0m\u001b[0;34m(\u001b[0m\u001b[0;34m\"Accuracy:\"\u001b[0m\u001b[0;34m,\u001b[0m\u001b[0mmetrics\u001b[0m\u001b[0;34m.\u001b[0m\u001b[0maccuracy_score\u001b[0m\u001b[0;34m(\u001b[0m\u001b[0my_test\u001b[0m\u001b[0;34m,\u001b[0m \u001b[0mpred\u001b[0m\u001b[0;34m)\u001b[0m\u001b[0;34m)\u001b[0m\u001b[0;34m\u001b[0m\u001b[0;34m\u001b[0m\u001b[0m\n\u001b[1;32m     28\u001b[0m     \u001b[0mprint\u001b[0m \u001b[0;34m(\u001b[0m\u001b[0mcm\u001b[0m\u001b[0;34m)\u001b[0m\u001b[0;34m\u001b[0m\u001b[0;34m\u001b[0m\u001b[0m\n\u001b[0;32m---> 29\u001b[0;31m     \u001b[0max\u001b[0m \u001b[0;34m=\u001b[0m \u001b[0mplot_importance\u001b[0m\u001b[0;34m(\u001b[0m\u001b[0mmodel\u001b[0m\u001b[0;34m,\u001b[0m \u001b[0mmax_num_features\u001b[0m\u001b[0;34m=\u001b[0m\u001b[0;36m1000\u001b[0m\u001b[0;34m)\u001b[0m\u001b[0;34m\u001b[0m\u001b[0;34m\u001b[0m\u001b[0m\n\u001b[0m\u001b[1;32m     30\u001b[0m     \u001b[0mfig\u001b[0m \u001b[0;34m=\u001b[0m \u001b[0max\u001b[0m\u001b[0;34m.\u001b[0m\u001b[0mfigure\u001b[0m\u001b[0;34m\u001b[0m\u001b[0;34m\u001b[0m\u001b[0m\n\u001b[1;32m     31\u001b[0m     \u001b[0mfig\u001b[0m\u001b[0;34m.\u001b[0m\u001b[0mset_size_inches\u001b[0m\u001b[0;34m(\u001b[0m\u001b[0;36m18\u001b[0m\u001b[0;34m,\u001b[0m\u001b[0;36m100\u001b[0m\u001b[0;34m)\u001b[0m\u001b[0;34m\u001b[0m\u001b[0;34m\u001b[0m\u001b[0m\n",
      "\u001b[0;32m~/anaconda3/lib/python3.7/site-packages/xgboost/plotting.py\u001b[0m in \u001b[0;36mplot_importance\u001b[0;34m(booster, ax, height, xlim, ylim, title, xlabel, ylabel, importance_type, max_num_features, grid, show_values, **kwargs)\u001b[0m\n\u001b[1;32m     62\u001b[0m \u001b[0;34m\u001b[0m\u001b[0m\n\u001b[1;32m     63\u001b[0m     \u001b[0;32mif\u001b[0m \u001b[0misinstance\u001b[0m\u001b[0;34m(\u001b[0m\u001b[0mbooster\u001b[0m\u001b[0;34m,\u001b[0m \u001b[0mXGBModel\u001b[0m\u001b[0;34m)\u001b[0m\u001b[0;34m:\u001b[0m\u001b[0;34m\u001b[0m\u001b[0;34m\u001b[0m\u001b[0m\n\u001b[0;32m---> 64\u001b[0;31m         \u001b[0mimportance\u001b[0m \u001b[0;34m=\u001b[0m \u001b[0mbooster\u001b[0m\u001b[0;34m.\u001b[0m\u001b[0mget_booster\u001b[0m\u001b[0;34m(\u001b[0m\u001b[0;34m)\u001b[0m\u001b[0;34m.\u001b[0m\u001b[0mget_score\u001b[0m\u001b[0;34m(\u001b[0m\u001b[0mimportance_type\u001b[0m\u001b[0;34m=\u001b[0m\u001b[0mimportance_type\u001b[0m\u001b[0;34m)\u001b[0m\u001b[0;34m\u001b[0m\u001b[0;34m\u001b[0m\u001b[0m\n\u001b[0m\u001b[1;32m     65\u001b[0m     \u001b[0;32melif\u001b[0m \u001b[0misinstance\u001b[0m\u001b[0;34m(\u001b[0m\u001b[0mbooster\u001b[0m\u001b[0;34m,\u001b[0m \u001b[0mBooster\u001b[0m\u001b[0;34m)\u001b[0m\u001b[0;34m:\u001b[0m\u001b[0;34m\u001b[0m\u001b[0;34m\u001b[0m\u001b[0m\n\u001b[1;32m     66\u001b[0m         \u001b[0mimportance\u001b[0m \u001b[0;34m=\u001b[0m \u001b[0mbooster\u001b[0m\u001b[0;34m.\u001b[0m\u001b[0mget_score\u001b[0m\u001b[0;34m(\u001b[0m\u001b[0mimportance_type\u001b[0m\u001b[0;34m=\u001b[0m\u001b[0mimportance_type\u001b[0m\u001b[0;34m)\u001b[0m\u001b[0;34m\u001b[0m\u001b[0;34m\u001b[0m\u001b[0m\n",
      "\u001b[0;32m~/anaconda3/lib/python3.7/site-packages/xgboost/sklearn.py\u001b[0m in \u001b[0;36mget_booster\u001b[0;34m(self)\u001b[0m\n\u001b[1;32m    191\u001b[0m         \"\"\"\n\u001b[1;32m    192\u001b[0m         \u001b[0;32mif\u001b[0m \u001b[0mself\u001b[0m\u001b[0;34m.\u001b[0m\u001b[0m_Booster\u001b[0m \u001b[0;32mis\u001b[0m \u001b[0;32mNone\u001b[0m\u001b[0;34m:\u001b[0m\u001b[0;34m\u001b[0m\u001b[0;34m\u001b[0m\u001b[0m\n\u001b[0;32m--> 193\u001b[0;31m             \u001b[0;32mraise\u001b[0m \u001b[0mXGBoostError\u001b[0m\u001b[0;34m(\u001b[0m\u001b[0;34m'need to call fit or load_model beforehand'\u001b[0m\u001b[0;34m)\u001b[0m\u001b[0;34m\u001b[0m\u001b[0;34m\u001b[0m\u001b[0m\n\u001b[0m\u001b[1;32m    194\u001b[0m         \u001b[0;32mreturn\u001b[0m \u001b[0mself\u001b[0m\u001b[0;34m.\u001b[0m\u001b[0m_Booster\u001b[0m\u001b[0;34m\u001b[0m\u001b[0;34m\u001b[0m\u001b[0m\n\u001b[1;32m    195\u001b[0m \u001b[0;34m\u001b[0m\u001b[0m\n",
      "\u001b[0;31mXGBoostError\u001b[0m: need to call fit or load_model beforehand"
     ]
    }
   ],
   "source": [
    "%%time\n",
    "model = runModel(df, categorical_features_no_players)"
   ]
  },
  {
   "cell_type": "code",
   "execution_count": 12,
   "metadata": {},
   "outputs": [
    {
     "data": {
      "text/plain": [
       "(2271, 87)"
      ]
     },
     "execution_count": 12,
     "metadata": {},
     "output_type": "execute_result"
    }
   ],
   "source": [
    "df.shape"
   ]
  },
  {
   "cell_type": "code",
   "execution_count": null,
   "metadata": {},
   "outputs": [],
   "source": []
  }
 ],
 "metadata": {
  "kernelspec": {
   "display_name": "Python [conda env:root] *",
   "language": "python",
   "name": "conda-root-py"
  },
  "language_info": {
   "codemirror_mode": {
    "name": "ipython",
    "version": 3
   },
   "file_extension": ".py",
   "mimetype": "text/x-python",
   "name": "python",
   "nbconvert_exporter": "python",
   "pygments_lexer": "ipython3",
   "version": "3.7.3"
  }
 },
 "nbformat": 4,
 "nbformat_minor": 2
}
