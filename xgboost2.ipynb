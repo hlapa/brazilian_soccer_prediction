{
 "cells": [
  {
   "cell_type": "code",
   "execution_count": 1,
   "metadata": {},
   "outputs": [],
   "source": [
    "import pandas as pd\n",
    "import numpy as np\n",
    "from xgboost import XGBClassifier\n",
    "import seaborn as sns\n",
    "from sklearn.metrics import confusion_matrix\n",
    "from tqdm import tqdm\n",
    "import time\n",
    "from sklearn import metrics"
   ]
  },
  {
   "cell_type": "code",
   "execution_count": 2,
   "metadata": {},
   "outputs": [],
   "source": [
    "df = pd.read_csv('./silvio/crawler.csv')"
   ]
  },
  {
   "cell_type": "code",
   "execution_count": 3,
   "metadata": {},
   "outputs": [],
   "source": [
    "# df = pd.read_pickle('soccerDBNew2.pkl')"
   ]
  },
  {
   "cell_type": "code",
   "execution_count": 4,
   "metadata": {},
   "outputs": [
    {
     "name": "stdout",
     "output_type": "stream",
     "text": [
      "<class 'pandas.core.frame.DataFrame'>\n",
      "RangeIndex: 3417 entries, 0 to 3416\n",
      "Data columns (total 115 columns):\n",
      "Unnamed: 0                      int64\n",
      "at_current_draws_away           object\n",
      "at_current_draws_global         object\n",
      "at_current_draws_home           object\n",
      "at_current_loss_away            object\n",
      "at_current_loss_global          object\n",
      "at_current_loss_home            object\n",
      "at_current_wins_away            object\n",
      "at_current_wins_global          object\n",
      "at_current_wins_home            object\n",
      "at_games_without_draw_away      object\n",
      "at_games_without_draw_global    object\n",
      "at_games_without_draw_home      object\n",
      "at_games_without_lose_away      object\n",
      "at_games_without_lose_global    object\n",
      "at_games_without_lose_home      object\n",
      "at_games_without_win_away       object\n",
      "at_games_without_win_global     object\n",
      "at_games_without_win_home       object\n",
      "attacks                         float64\n",
      "away_team                       object\n",
      "away_team_score                 int64\n",
      "city                            object\n",
      "corners                         float64\n",
      "dangerous_attacks               float64\n",
      "datetime                        object\n",
      "eventList1st                    object\n",
      "eventList2nd                    object\n",
      "fouls                           float64\n",
      "free_kicks                      float64\n",
      "goal_kicks                      float64\n",
      "goals                           float64\n",
      "home_team                       object\n",
      "home_team_score                 int64\n",
      "ht_current_draws_away           object\n",
      "ht_current_draws_global         object\n",
      "ht_current_draws_home           object\n",
      "ht_current_loss_away            object\n",
      "ht_current_loss_global          object\n",
      "ht_current_loss_home            object\n",
      "ht_current_wins_away            object\n",
      "ht_current_wins_global          object\n",
      "ht_current_wins_home            object\n",
      "ht_games_without_draw_away      object\n",
      "ht_games_without_draw_global    object\n",
      "ht_games_without_draw_home      object\n",
      "ht_games_without_lose_away      object\n",
      "ht_games_without_lose_global    object\n",
      "ht_games_without_lose_home      object\n",
      "ht_games_without_win_away       object\n",
      "ht_games_without_win_global     object\n",
      "ht_games_without_win_home       object\n",
      "offsides                        float64\n",
      "penalties                       float64\n",
      "possession                      object\n",
      "red_cards                       float64\n",
      "referee                         object\n",
      "round                           object\n",
      "shots_blocked                   float64\n",
      "shots_off_target                float64\n",
      "shots_on_target                 float64\n",
      "shots_target                    float64\n",
      "shots_wide                      float64\n",
      "shots_woodwork                  float64\n",
      "stadium                         object\n",
      "substitutions                   float64\n",
      "throw_ins                       float64\n",
      "yellow_cards                    float64\n",
      "yellow_red_cards                float64\n",
      "home_player_1                   object\n",
      "home_player_2                   object\n",
      "home_player_3                   object\n",
      "home_player_4                   object\n",
      "home_player_5                   object\n",
      "home_player_6                   object\n",
      "home_player_7                   object\n",
      "home_player_8                   object\n",
      "home_player_9                   object\n",
      "home_player_10                  object\n",
      "home_player_11                  object\n",
      "away_player_1                   object\n",
      "away_player_2                   object\n",
      "away_player_3                   object\n",
      "away_player_4                   object\n",
      "away_player_5                   object\n",
      "away_player_6                   object\n",
      "away_player_7                   object\n",
      "away_player_8                   object\n",
      "away_player_9                   object\n",
      "away_player_10                  object\n",
      "away_player_11                  object\n",
      "sub_home_player_1               object\n",
      "sub_home_player_2               object\n",
      "sub_home_player_3               object\n",
      "sub_home_player_4               object\n",
      "sub_home_player_5               object\n",
      "sub_home_player_6               object\n",
      "sub_home_player_7               object\n",
      "sub_home_player_8               object\n",
      "sub_home_player_9               object\n",
      "sub_home_player_10              object\n",
      "sub_home_player_11              object\n",
      "sub_home_player_12              object\n",
      "sub_away_player_1               object\n",
      "sub_away_player_2               object\n",
      "sub_away_player_3               object\n",
      "sub_away_player_4               object\n",
      "sub_away_player_5               object\n",
      "sub_away_player_6               object\n",
      "sub_away_player_7               object\n",
      "sub_away_player_8               object\n",
      "sub_away_player_9               object\n",
      "sub_away_player_10              object\n",
      "sub_away_player_11              object\n",
      "sub_away_player_12              object\n",
      "dtypes: float64(20), int64(3), object(92)\n",
      "memory usage: 3.0+ MB\n"
     ]
    }
   ],
   "source": [
    "df.info(verbose=True)"
   ]
  },
  {
   "cell_type": "code",
   "execution_count": 5,
   "metadata": {},
   "outputs": [
    {
     "data": {
      "text/html": [
       "<div>\n",
       "<style scoped>\n",
       "    .dataframe tbody tr th:only-of-type {\n",
       "        vertical-align: middle;\n",
       "    }\n",
       "\n",
       "    .dataframe tbody tr th {\n",
       "        vertical-align: top;\n",
       "    }\n",
       "\n",
       "    .dataframe thead th {\n",
       "        text-align: right;\n",
       "    }\n",
       "</style>\n",
       "<table border=\"1\" class=\"dataframe\">\n",
       "  <thead>\n",
       "    <tr style=\"text-align: right;\">\n",
       "      <th></th>\n",
       "      <th>Unnamed: 0</th>\n",
       "      <th>at_current_draws_away</th>\n",
       "      <th>at_current_draws_global</th>\n",
       "      <th>at_current_draws_home</th>\n",
       "      <th>at_current_loss_away</th>\n",
       "      <th>at_current_loss_global</th>\n",
       "      <th>at_current_loss_home</th>\n",
       "      <th>at_current_wins_away</th>\n",
       "      <th>at_current_wins_global</th>\n",
       "      <th>at_current_wins_home</th>\n",
       "      <th>...</th>\n",
       "      <th>sub_away_player_3</th>\n",
       "      <th>sub_away_player_4</th>\n",
       "      <th>sub_away_player_5</th>\n",
       "      <th>sub_away_player_6</th>\n",
       "      <th>sub_away_player_7</th>\n",
       "      <th>sub_away_player_8</th>\n",
       "      <th>sub_away_player_9</th>\n",
       "      <th>sub_away_player_10</th>\n",
       "      <th>sub_away_player_11</th>\n",
       "      <th>sub_away_player_12</th>\n",
       "    </tr>\n",
       "  </thead>\n",
       "  <tbody>\n",
       "    <tr>\n",
       "      <th>0</th>\n",
       "      <td>0</td>\n",
       "      <td>-</td>\n",
       "      <td>-</td>\n",
       "      <td>-</td>\n",
       "      <td>-</td>\n",
       "      <td>-</td>\n",
       "      <td>-</td>\n",
       "      <td>-</td>\n",
       "      <td>-</td>\n",
       "      <td>-</td>\n",
       "      <td>...</td>\n",
       "      <td>('person-32923', 'Rodrigo Mancha')</td>\n",
       "      <td>('person-53474', 'Rodriguinho')</td>\n",
       "      <td>('person-112379', 'Breitner')</td>\n",
       "      <td>('person-9453', 'Zé Love')</td>\n",
       "      <td>('person-40138', 'Maikon Leite')</td>\n",
       "      <td>None</td>\n",
       "      <td>None</td>\n",
       "      <td>None</td>\n",
       "      <td>None</td>\n",
       "      <td>None</td>\n",
       "    </tr>\n",
       "    <tr>\n",
       "      <th>1</th>\n",
       "      <td>1</td>\n",
       "      <td>-</td>\n",
       "      <td>-</td>\n",
       "      <td>-</td>\n",
       "      <td>-</td>\n",
       "      <td>-</td>\n",
       "      <td>-</td>\n",
       "      <td>-</td>\n",
       "      <td>-</td>\n",
       "      <td>-</td>\n",
       "      <td>...</td>\n",
       "      <td>('person-8939', 'Rafael Marques')</td>\n",
       "      <td>('person-2825', 'Fábio Rochemback')</td>\n",
       "      <td>('person-82793', 'Fernando')</td>\n",
       "      <td>('person-8950', 'Joílson')</td>\n",
       "      <td>('person-73190', 'Roberson')</td>\n",
       "      <td>None</td>\n",
       "      <td>None</td>\n",
       "      <td>None</td>\n",
       "      <td>None</td>\n",
       "      <td>None</td>\n",
       "    </tr>\n",
       "    <tr>\n",
       "      <th>2</th>\n",
       "      <td>2</td>\n",
       "      <td>-</td>\n",
       "      <td>-</td>\n",
       "      <td>-</td>\n",
       "      <td>-</td>\n",
       "      <td>-</td>\n",
       "      <td>-</td>\n",
       "      <td>-</td>\n",
       "      <td>-</td>\n",
       "      <td>-</td>\n",
       "      <td>...</td>\n",
       "      <td>('person-71111', 'Caique')</td>\n",
       "      <td>('person-94859', 'Allan')</td>\n",
       "      <td>('person-32699', 'Léo Gago')</td>\n",
       "      <td>('person-33519', 'Rafael Carioca')</td>\n",
       "      <td>('person-20615', 'Jumar')</td>\n",
       "      <td>None</td>\n",
       "      <td>None</td>\n",
       "      <td>None</td>\n",
       "      <td>None</td>\n",
       "      <td>None</td>\n",
       "    </tr>\n",
       "    <tr>\n",
       "      <th>3</th>\n",
       "      <td>3</td>\n",
       "      <td>-</td>\n",
       "      <td>-</td>\n",
       "      <td>-</td>\n",
       "      <td>-</td>\n",
       "      <td>-</td>\n",
       "      <td>-</td>\n",
       "      <td>-</td>\n",
       "      <td>-</td>\n",
       "      <td>-</td>\n",
       "      <td>...</td>\n",
       "      <td>('person-13105', 'Fábio Santos')</td>\n",
       "      <td>('person-140', 'Gilberto')</td>\n",
       "      <td>('person-9112', 'Henrique')</td>\n",
       "      <td>('person-22988', 'J. Guerrón')</td>\n",
       "      <td>('person-63706', 'Thiago Ribeiro')</td>\n",
       "      <td>None</td>\n",
       "      <td>None</td>\n",
       "      <td>None</td>\n",
       "      <td>None</td>\n",
       "      <td>None</td>\n",
       "    </tr>\n",
       "    <tr>\n",
       "      <th>4</th>\n",
       "      <td>4</td>\n",
       "      <td>-</td>\n",
       "      <td>-</td>\n",
       "      <td>-</td>\n",
       "      <td>-</td>\n",
       "      <td>-</td>\n",
       "      <td>-</td>\n",
       "      <td>-</td>\n",
       "      <td>-</td>\n",
       "      <td>-</td>\n",
       "      <td>...</td>\n",
       "      <td>('person-178620', 'Vanderson')</td>\n",
       "      <td>('person-72467', 'Marconi')</td>\n",
       "      <td>('person-70722', 'Kleiton Domingues')</td>\n",
       "      <td>('person-81530', 'Edson Reis')</td>\n",
       "      <td>('person-70899', 'Neto Berola')</td>\n",
       "      <td>None</td>\n",
       "      <td>None</td>\n",
       "      <td>None</td>\n",
       "      <td>None</td>\n",
       "      <td>None</td>\n",
       "    </tr>\n",
       "  </tbody>\n",
       "</table>\n",
       "<p>5 rows × 115 columns</p>\n",
       "</div>"
      ],
      "text/plain": [
       "   Unnamed: 0 at_current_draws_away at_current_draws_global  \\\n",
       "0           0                     -                       -   \n",
       "1           1                     -                       -   \n",
       "2           2                     -                       -   \n",
       "3           3                     -                       -   \n",
       "4           4                     -                       -   \n",
       "\n",
       "  at_current_draws_home at_current_loss_away at_current_loss_global  \\\n",
       "0                     -                    -                      -   \n",
       "1                     -                    -                      -   \n",
       "2                     -                    -                      -   \n",
       "3                     -                    -                      -   \n",
       "4                     -                    -                      -   \n",
       "\n",
       "  at_current_loss_home at_current_wins_away at_current_wins_global  \\\n",
       "0                    -                    -                      -   \n",
       "1                    -                    -                      -   \n",
       "2                    -                    -                      -   \n",
       "3                    -                    -                      -   \n",
       "4                    -                    -                      -   \n",
       "\n",
       "  at_current_wins_home  ...                   sub_away_player_3  \\\n",
       "0                    -  ...  ('person-32923', 'Rodrigo Mancha')   \n",
       "1                    -  ...   ('person-8939', 'Rafael Marques')   \n",
       "2                    -  ...          ('person-71111', 'Caique')   \n",
       "3                    -  ...    ('person-13105', 'Fábio Santos')   \n",
       "4                    -  ...      ('person-178620', 'Vanderson')   \n",
       "\n",
       "                     sub_away_player_4                      sub_away_player_5  \\\n",
       "0      ('person-53474', 'Rodriguinho')          ('person-112379', 'Breitner')   \n",
       "1  ('person-2825', 'Fábio Rochemback')           ('person-82793', 'Fernando')   \n",
       "2            ('person-94859', 'Allan')           ('person-32699', 'Léo Gago')   \n",
       "3           ('person-140', 'Gilberto')            ('person-9112', 'Henrique')   \n",
       "4          ('person-72467', 'Marconi')  ('person-70722', 'Kleiton Domingues')   \n",
       "\n",
       "                    sub_away_player_6                   sub_away_player_7  \\\n",
       "0          ('person-9453', 'Zé Love')    ('person-40138', 'Maikon Leite')   \n",
       "1          ('person-8950', 'Joílson')        ('person-73190', 'Roberson')   \n",
       "2  ('person-33519', 'Rafael Carioca')           ('person-20615', 'Jumar')   \n",
       "3      ('person-22988', 'J. Guerrón')  ('person-63706', 'Thiago Ribeiro')   \n",
       "4      ('person-81530', 'Edson Reis')     ('person-70899', 'Neto Berola')   \n",
       "\n",
       "  sub_away_player_8 sub_away_player_9 sub_away_player_10 sub_away_player_11  \\\n",
       "0              None              None               None               None   \n",
       "1              None              None               None               None   \n",
       "2              None              None               None               None   \n",
       "3              None              None               None               None   \n",
       "4              None              None               None               None   \n",
       "\n",
       "   sub_away_player_12  \n",
       "0                None  \n",
       "1                None  \n",
       "2                None  \n",
       "3                None  \n",
       "4                None  \n",
       "\n",
       "[5 rows x 115 columns]"
      ]
     },
     "execution_count": 5,
     "metadata": {},
     "output_type": "execute_result"
    }
   ],
   "source": [
    "df.head()"
   ]
  },
  {
   "cell_type": "code",
   "execution_count": 6,
   "metadata": {},
   "outputs": [],
   "source": [
    "df['result'] = np.nan"
   ]
  },
  {
   "cell_type": "code",
   "execution_count": 7,
   "metadata": {},
   "outputs": [
    {
     "data": {
      "text/plain": [
       "3417"
      ]
     },
     "execution_count": 7,
     "metadata": {},
     "output_type": "execute_result"
    }
   ],
   "source": [
    "len(df)"
   ]
  },
  {
   "cell_type": "code",
   "execution_count": 8,
   "metadata": {},
   "outputs": [],
   "source": [
    "df.drop(columns=['Unnamed: 0'], inplace=True)"
   ]
  },
  {
   "cell_type": "code",
   "execution_count": 9,
   "metadata": {},
   "outputs": [],
   "source": [
    "def getResult(row):\n",
    "    if row.home_team_score > row.away_team_score:\n",
    "        result = 'win'\n",
    "    elif row.home_team_score == row.away_team_score:\n",
    "        result = 'draw'\n",
    "    else:\n",
    "        result = 'lose'\n",
    "    return result"
   ]
  },
  {
   "cell_type": "code",
   "execution_count": 10,
   "metadata": {},
   "outputs": [
    {
     "name": "stdout",
     "output_type": "stream",
     "text": [
      "150 ms ± 17.4 ms per loop (mean ± std. dev. of 7 runs, 10 loops each)\n"
     ]
    }
   ],
   "source": [
    "%timeit df.result = df.apply(getResult, axis=1)"
   ]
  },
  {
   "cell_type": "code",
   "execution_count": 11,
   "metadata": {},
   "outputs": [
    {
     "data": {
      "text/html": [
       "<div>\n",
       "<style scoped>\n",
       "    .dataframe tbody tr th:only-of-type {\n",
       "        vertical-align: middle;\n",
       "    }\n",
       "\n",
       "    .dataframe tbody tr th {\n",
       "        vertical-align: top;\n",
       "    }\n",
       "\n",
       "    .dataframe thead th {\n",
       "        text-align: right;\n",
       "    }\n",
       "</style>\n",
       "<table border=\"1\" class=\"dataframe\">\n",
       "  <thead>\n",
       "    <tr style=\"text-align: right;\">\n",
       "      <th></th>\n",
       "      <th>home_team_score</th>\n",
       "      <th>away_team_score</th>\n",
       "      <th>result</th>\n",
       "    </tr>\n",
       "  </thead>\n",
       "  <tbody>\n",
       "    <tr>\n",
       "      <th>0</th>\n",
       "      <td>3</td>\n",
       "      <td>3</td>\n",
       "      <td>draw</td>\n",
       "    </tr>\n",
       "    <tr>\n",
       "      <th>1</th>\n",
       "      <td>0</td>\n",
       "      <td>0</td>\n",
       "      <td>draw</td>\n",
       "    </tr>\n",
       "    <tr>\n",
       "      <th>2</th>\n",
       "      <td>2</td>\n",
       "      <td>1</td>\n",
       "      <td>win</td>\n",
       "    </tr>\n",
       "    <tr>\n",
       "      <th>3</th>\n",
       "      <td>1</td>\n",
       "      <td>2</td>\n",
       "      <td>lose</td>\n",
       "    </tr>\n",
       "    <tr>\n",
       "      <th>4</th>\n",
       "      <td>1</td>\n",
       "      <td>0</td>\n",
       "      <td>win</td>\n",
       "    </tr>\n",
       "  </tbody>\n",
       "</table>\n",
       "</div>"
      ],
      "text/plain": [
       "   home_team_score  away_team_score result\n",
       "0                3                3   draw\n",
       "1                0                0   draw\n",
       "2                2                1    win\n",
       "3                1                2   lose\n",
       "4                1                0    win"
      ]
     },
     "execution_count": 11,
     "metadata": {},
     "output_type": "execute_result"
    }
   ],
   "source": [
    "df[['home_team_score', 'away_team_score', 'result']].head()"
   ]
  },
  {
   "cell_type": "code",
   "execution_count": 12,
   "metadata": {},
   "outputs": [
    {
     "data": {
      "text/plain": [
       "(3417, 115)"
      ]
     },
     "execution_count": 12,
     "metadata": {},
     "output_type": "execute_result"
    }
   ],
   "source": [
    "df.shape"
   ]
  },
  {
   "cell_type": "code",
   "execution_count": 13,
   "metadata": {},
   "outputs": [
    {
     "data": {
      "text/html": [
       "<div>\n",
       "<style scoped>\n",
       "    .dataframe tbody tr th:only-of-type {\n",
       "        vertical-align: middle;\n",
       "    }\n",
       "\n",
       "    .dataframe tbody tr th {\n",
       "        vertical-align: top;\n",
       "    }\n",
       "\n",
       "    .dataframe thead th {\n",
       "        text-align: right;\n",
       "    }\n",
       "</style>\n",
       "<table border=\"1\" class=\"dataframe\">\n",
       "  <thead>\n",
       "    <tr style=\"text-align: right;\">\n",
       "      <th></th>\n",
       "      <th>at_current_draws_away</th>\n",
       "      <th>at_current_draws_global</th>\n",
       "      <th>at_current_draws_home</th>\n",
       "      <th>at_current_loss_away</th>\n",
       "      <th>at_current_loss_global</th>\n",
       "      <th>at_current_loss_home</th>\n",
       "      <th>at_current_wins_away</th>\n",
       "      <th>at_current_wins_global</th>\n",
       "      <th>at_current_wins_home</th>\n",
       "      <th>at_games_without_draw_away</th>\n",
       "      <th>...</th>\n",
       "      <th>sub_away_player_4</th>\n",
       "      <th>sub_away_player_5</th>\n",
       "      <th>sub_away_player_6</th>\n",
       "      <th>sub_away_player_7</th>\n",
       "      <th>sub_away_player_8</th>\n",
       "      <th>sub_away_player_9</th>\n",
       "      <th>sub_away_player_10</th>\n",
       "      <th>sub_away_player_11</th>\n",
       "      <th>sub_away_player_12</th>\n",
       "      <th>result</th>\n",
       "    </tr>\n",
       "  </thead>\n",
       "  <tbody>\n",
       "    <tr>\n",
       "      <th>0</th>\n",
       "      <td>-</td>\n",
       "      <td>-</td>\n",
       "      <td>-</td>\n",
       "      <td>-</td>\n",
       "      <td>-</td>\n",
       "      <td>-</td>\n",
       "      <td>-</td>\n",
       "      <td>-</td>\n",
       "      <td>-</td>\n",
       "      <td>-</td>\n",
       "      <td>...</td>\n",
       "      <td>('person-53474', 'Rodriguinho')</td>\n",
       "      <td>('person-112379', 'Breitner')</td>\n",
       "      <td>('person-9453', 'Zé Love')</td>\n",
       "      <td>('person-40138', 'Maikon Leite')</td>\n",
       "      <td>None</td>\n",
       "      <td>None</td>\n",
       "      <td>None</td>\n",
       "      <td>None</td>\n",
       "      <td>None</td>\n",
       "      <td>draw</td>\n",
       "    </tr>\n",
       "    <tr>\n",
       "      <th>1</th>\n",
       "      <td>-</td>\n",
       "      <td>-</td>\n",
       "      <td>-</td>\n",
       "      <td>-</td>\n",
       "      <td>-</td>\n",
       "      <td>-</td>\n",
       "      <td>-</td>\n",
       "      <td>-</td>\n",
       "      <td>-</td>\n",
       "      <td>-</td>\n",
       "      <td>...</td>\n",
       "      <td>('person-2825', 'Fábio Rochemback')</td>\n",
       "      <td>('person-82793', 'Fernando')</td>\n",
       "      <td>('person-8950', 'Joílson')</td>\n",
       "      <td>('person-73190', 'Roberson')</td>\n",
       "      <td>None</td>\n",
       "      <td>None</td>\n",
       "      <td>None</td>\n",
       "      <td>None</td>\n",
       "      <td>None</td>\n",
       "      <td>draw</td>\n",
       "    </tr>\n",
       "    <tr>\n",
       "      <th>2</th>\n",
       "      <td>-</td>\n",
       "      <td>-</td>\n",
       "      <td>-</td>\n",
       "      <td>-</td>\n",
       "      <td>-</td>\n",
       "      <td>-</td>\n",
       "      <td>-</td>\n",
       "      <td>-</td>\n",
       "      <td>-</td>\n",
       "      <td>-</td>\n",
       "      <td>...</td>\n",
       "      <td>('person-94859', 'Allan')</td>\n",
       "      <td>('person-32699', 'Léo Gago')</td>\n",
       "      <td>('person-33519', 'Rafael Carioca')</td>\n",
       "      <td>('person-20615', 'Jumar')</td>\n",
       "      <td>None</td>\n",
       "      <td>None</td>\n",
       "      <td>None</td>\n",
       "      <td>None</td>\n",
       "      <td>None</td>\n",
       "      <td>win</td>\n",
       "    </tr>\n",
       "  </tbody>\n",
       "</table>\n",
       "<p>3 rows × 115 columns</p>\n",
       "</div>"
      ],
      "text/plain": [
       "  at_current_draws_away at_current_draws_global at_current_draws_home  \\\n",
       "0                     -                       -                     -   \n",
       "1                     -                       -                     -   \n",
       "2                     -                       -                     -   \n",
       "\n",
       "  at_current_loss_away at_current_loss_global at_current_loss_home  \\\n",
       "0                    -                      -                    -   \n",
       "1                    -                      -                    -   \n",
       "2                    -                      -                    -   \n",
       "\n",
       "  at_current_wins_away at_current_wins_global at_current_wins_home  \\\n",
       "0                    -                      -                    -   \n",
       "1                    -                      -                    -   \n",
       "2                    -                      -                    -   \n",
       "\n",
       "  at_games_without_draw_away  ...                    sub_away_player_4  \\\n",
       "0                          -  ...      ('person-53474', 'Rodriguinho')   \n",
       "1                          -  ...  ('person-2825', 'Fábio Rochemback')   \n",
       "2                          -  ...            ('person-94859', 'Allan')   \n",
       "\n",
       "               sub_away_player_5                   sub_away_player_6  \\\n",
       "0  ('person-112379', 'Breitner')          ('person-9453', 'Zé Love')   \n",
       "1   ('person-82793', 'Fernando')          ('person-8950', 'Joílson')   \n",
       "2   ('person-32699', 'Léo Gago')  ('person-33519', 'Rafael Carioca')   \n",
       "\n",
       "                  sub_away_player_7 sub_away_player_8 sub_away_player_9  \\\n",
       "0  ('person-40138', 'Maikon Leite')              None              None   \n",
       "1      ('person-73190', 'Roberson')              None              None   \n",
       "2         ('person-20615', 'Jumar')              None              None   \n",
       "\n",
       "  sub_away_player_10 sub_away_player_11  sub_away_player_12 result  \n",
       "0               None               None                None   draw  \n",
       "1               None               None                None   draw  \n",
       "2               None               None                None    win  \n",
       "\n",
       "[3 rows x 115 columns]"
      ]
     },
     "execution_count": 13,
     "metadata": {},
     "output_type": "execute_result"
    }
   ],
   "source": [
    "df.head(3)"
   ]
  },
  {
   "cell_type": "code",
   "execution_count": 14,
   "metadata": {},
   "outputs": [],
   "source": [
    "df.drop(columns=['eventList1st', 'eventList2nd'], inplace=True)"
   ]
  },
  {
   "cell_type": "code",
   "execution_count": 38,
   "metadata": {},
   "outputs": [],
   "source": [
    "categorical_features=['away_team',\n",
    " 'city',\n",
    " 'home_team',\n",
    " 'referee',\n",
    " 'stadium',\n",
    " 'home_player_1',\n",
    " 'home_player_2',\n",
    " 'home_player_3',\n",
    " 'home_player_4',\n",
    " 'home_player_5',\n",
    " 'home_player_6',\n",
    " 'home_player_7',\n",
    " 'home_player_8',\n",
    " 'home_player_9',\n",
    " 'home_player_10',\n",
    " 'home_player_11',\n",
    " 'away_player_1',\n",
    " 'away_player_2',\n",
    " 'away_player_3',\n",
    " 'away_player_4',\n",
    " 'away_player_5',\n",
    " 'away_player_6',\n",
    " 'away_player_7',\n",
    " 'away_player_8',\n",
    " 'away_player_9',\n",
    " 'away_player_10',\n",
    " 'away_player_11',\n",
    " 'sub_home_player_1',\n",
    " 'sub_home_player_2',\n",
    " 'sub_home_player_3',\n",
    " 'sub_home_player_4',\n",
    " 'sub_home_player_5',\n",
    " 'sub_home_player_6',\n",
    " 'sub_home_player_7',\n",
    " 'sub_home_player_8',\n",
    " 'sub_home_player_9',\n",
    " 'sub_home_player_10',\n",
    " 'sub_home_player_11',\n",
    " 'sub_home_player_12',\n",
    " 'sub_away_player_1',\n",
    " 'sub_away_player_2',\n",
    " 'sub_away_player_3',\n",
    " 'sub_away_player_4',\n",
    " 'sub_away_player_5',\n",
    " 'sub_away_player_6',\n",
    " 'sub_away_player_7',\n",
    " 'sub_away_player_8',\n",
    " 'sub_away_player_9',\n",
    " 'sub_away_player_10',\n",
    " 'sub_away_player_11',\n",
    " 'sub_away_player_12']"
   ]
  },
  {
   "cell_type": "code",
   "execution_count": 16,
   "metadata": {},
   "outputs": [],
   "source": [
    "pd.set_option('display.max_columns', None)"
   ]
  },
  {
   "cell_type": "markdown",
   "metadata": {},
   "source": [
    "# Dashes to zeros"
   ]
  },
  {
   "cell_type": "code",
   "execution_count": 18,
   "metadata": {},
   "outputs": [],
   "source": [
    "cols =  ['at_current_draws_away', \n",
    "  'at_current_draws_global', \n",
    "  'at_current_draws_home', \n",
    "  'at_current_loss_away', \n",
    "  'at_current_loss_global', \n",
    "  'at_current_loss_home', \n",
    "  'at_current_wins_away', \n",
    "  'at_current_wins_global', \n",
    "  'at_current_wins_home', \n",
    "  'at_games_without_draw_away', \n",
    "  'at_games_without_draw_global', \n",
    "  'at_games_without_draw_home', \n",
    "  'at_games_without_lose_away', \n",
    "  'at_games_without_lose_global', \n",
    "  'at_games_without_lose_home', \n",
    "  'at_games_without_win_away', \n",
    "  'at_games_without_win_global', \n",
    "  'at_games_without_win_home', \n",
    "  'ht_current_draws_away', \n",
    "  'ht_current_draws_global', \n",
    "  'ht_current_draws_home', \n",
    "  'ht_current_loss_away', \n",
    "  'ht_current_loss_global', \n",
    "  'ht_current_loss_home', \n",
    "  'ht_current_wins_away', \n",
    "  'ht_current_wins_global', \n",
    "  'ht_current_wins_home', \n",
    "  'ht_games_without_draw_away', \n",
    "  'ht_games_without_draw_global', \n",
    "  'ht_games_without_draw_home', \n",
    "  'ht_games_without_lose_away', \n",
    "  'ht_games_without_lose_global', \n",
    "  'ht_games_without_lose_home', \n",
    "  'ht_games_without_win_away', \n",
    "  'ht_games_without_win_global', \n",
    "  'ht_games_without_win_home' ]"
   ]
  },
  {
   "cell_type": "code",
   "execution_count": 19,
   "metadata": {},
   "outputs": [],
   "source": [
    "df[cols] = df[cols].apply(lambda x: x.replace('-',0))"
   ]
  },
  {
   "cell_type": "code",
   "execution_count": 20,
   "metadata": {},
   "outputs": [],
   "source": [
    "df[cols] = df[cols].astype('int')"
   ]
  },
  {
   "cell_type": "markdown",
   "metadata": {},
   "source": [
    "# Possesion to int"
   ]
  },
  {
   "cell_type": "code",
   "execution_count": 21,
   "metadata": {},
   "outputs": [],
   "source": [
    "def dropPercent(percent):\n",
    "    try:\n",
    "        x = percent.strip('%')\n",
    "    except:\n",
    "        x = percent\n",
    "    return x"
   ]
  },
  {
   "cell_type": "code",
   "execution_count": 22,
   "metadata": {},
   "outputs": [],
   "source": [
    "df.possession = df.possession.apply(dropPercent)"
   ]
  },
  {
   "cell_type": "markdown",
   "metadata": {},
   "source": [
    "# DATETIME TO INT"
   ]
  },
  {
   "cell_type": "code",
   "execution_count": 23,
   "metadata": {},
   "outputs": [],
   "source": [
    " meses={'abril':'04',\n",
    "        'maio':'05',\n",
    "        'junho':'06',\n",
    "        'julho':'07',\n",
    "        'agosto':'08',\n",
    "        'setembro':'09',\n",
    "        'outubro':'10',\n",
    "        'novembro':'11',\n",
    "        'dezembro':'12'}"
   ]
  },
  {
   "cell_type": "code",
   "execution_count": 24,
   "metadata": {},
   "outputs": [],
   "source": [
    "def monthToNumber(date):\n",
    "    for month, number in meses.items():\n",
    "        date = date.replace(month, number)\n",
    "    return date"
   ]
  },
  {
   "cell_type": "code",
   "execution_count": 25,
   "metadata": {},
   "outputs": [],
   "source": [
    "df.datetime = df.datetime.apply(monthToNumber)"
   ]
  },
  {
   "cell_type": "code",
   "execution_count": 26,
   "metadata": {},
   "outputs": [],
   "source": [
    "df.datetime = pd.to_datetime(df.datetime)"
   ]
  },
  {
   "cell_type": "code",
   "execution_count": 27,
   "metadata": {},
   "outputs": [],
   "source": [
    "def to_integer(dt_time):\n",
    "    return dt_time.dt.day + 100*dt_time.dt.month + 10000*dt_time.dt.year"
   ]
  },
  {
   "cell_type": "code",
   "execution_count": 28,
   "metadata": {},
   "outputs": [
    {
     "name": "stdout",
     "output_type": "stream",
     "text": [
      "CPU times: user 9.04 ms, sys: 4.04 ms, total: 13.1 ms\n",
      "Wall time: 11.8 ms\n"
     ]
    }
   ],
   "source": [
    "%%time\n",
    "df.datetime = to_integer(df.datetime)"
   ]
  },
  {
   "cell_type": "markdown",
   "metadata": {},
   "source": [
    "# Round"
   ]
  },
  {
   "cell_type": "code",
   "execution_count": 29,
   "metadata": {},
   "outputs": [
    {
     "data": {
      "text/plain": [
       "3    360\n",
       "1    360\n",
       "7    360\n",
       "5    360\n",
       "6    360\n",
       "4    360\n",
       "2    359\n",
       "8    351\n",
       "9    270\n",
       "0    269\n",
       "o      8\n",
       "Name: round, dtype: int64"
      ]
     },
     "execution_count": 29,
     "metadata": {},
     "output_type": "execute_result"
    }
   ],
   "source": [
    "df['round'].value_counts(dropna=False)"
   ]
  },
  {
   "cell_type": "code",
   "execution_count": 30,
   "metadata": {},
   "outputs": [],
   "source": [
    "df.drop(columns='round', inplace=True)"
   ]
  },
  {
   "cell_type": "code",
   "execution_count": 32,
   "metadata": {},
   "outputs": [],
   "source": [
    "df.possession = df.possession.astype('float')"
   ]
  },
  {
   "cell_type": "code",
   "execution_count": 39,
   "metadata": {},
   "outputs": [],
   "source": [
    "def runModel(df, categorical_features):\n",
    "    t0 = time.time()    \n",
    "    data = df.drop(columns=['home_team_score','away_team_score','result'])\n",
    "    label = df['result']\n",
    "    data = pd.get_dummies(data, dummy_na=True, columns=categorical_features)\n",
    "    X_train, X_test, y_train, y_test = data[0:2735], data[2735:], label[0:2735], label[2735:]\n",
    "    params = {\n",
    "        'max_depth': 10,\n",
    "        'objective': 'multi:softmax',  # error evaluation for multiclass training\n",
    "        'num_class': 3,\n",
    "        'n_gpus': 1\n",
    "    }\n",
    "    model = XGBClassifier(param=params)\n",
    "    model.fit(X_train, y_train)\n",
    "    pred = model.predict(X_test)\n",
    "    cm = confusion_matrix(y_test, pred)\n",
    "    print ('run time: ', time.time()-t0,'s')\n",
    "    print(\"Accuracy:\",metrics.accuracy_score(y_test, pred))\n",
    "    print (cm)"
   ]
  },
  {
   "cell_type": "code",
   "execution_count": 40,
   "metadata": {},
   "outputs": [
    {
     "name": "stdout",
     "output_type": "stream",
     "text": [
      "run time:  505.6239855289459 s\n",
      "Accuracy: 0.6788856304985337\n",
      "[[ 75  42  79]\n",
      " [ 26 100  36]\n",
      " [ 23  13 288]]\n"
     ]
    }
   ],
   "source": [
    "runModel(df, categorical_features)"
   ]
  },
  {
   "cell_type": "code",
   "execution_count": 41,
   "metadata": {},
   "outputs": [],
   "source": [
    "df.to_csv('soccerDB3.csv')"
   ]
  },
  {
   "cell_type": "code",
   "execution_count": null,
   "metadata": {},
   "outputs": [],
   "source": []
  }
 ],
 "metadata": {
  "kernelspec": {
   "display_name": "Python 3",
   "language": "python",
   "name": "python3"
  },
  "language_info": {
   "codemirror_mode": {
    "name": "ipython",
    "version": 3
   },
   "file_extension": ".py",
   "mimetype": "text/x-python",
   "name": "python",
   "nbconvert_exporter": "python",
   "pygments_lexer": "ipython3",
   "version": "3.7.3"
  }
 },
 "nbformat": 4,
 "nbformat_minor": 2
}
